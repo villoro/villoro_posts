{
 "cells": [
  {
   "cell_type": "code",
   "execution_count": 20,
   "metadata": {
    "ExecuteTime": {
     "end_time": "2019-12-22T08:55:58.936841Z",
     "start_time": "2019-12-22T08:55:58.931854Z"
    }
   },
   "outputs": [],
   "source": [
    "import pandas as pd\n",
    "\n",
    "import plotly.express as px\n",
    "import plotly.graph_objects as go\n",
    "\n",
    "from v_time import timeit_out, mesure\n",
    "\n",
    "from sklearn import metrics\n",
    "from sklearn.svm import SVC\n",
    "from sklearn.ensemble import RandomForestClassifier\n",
    "from sklearn.model_selection import GridSearchCV"
   ]
  },
  {
   "cell_type": "markdown",
   "metadata": {},
   "source": [
    "# 0. Auxiliar functions"
   ]
  },
  {
   "cell_type": "code",
   "execution_count": 17,
   "metadata": {
    "ExecuteTime": {
     "end_time": "2019-12-22T08:53:26.278692Z",
     "start_time": "2019-12-22T08:53:26.273729Z"
    }
   },
   "outputs": [],
   "source": [
    "plot = lambda x: px.imshow(x, color_continuous_scale=\"greys\").show()\n",
    "\n",
    "def train_and_evaluate(model, name):\n",
    "    \n",
    "    out = {}\n",
    "    print(f\"Evaluating '{name}':\")\n",
    "\n",
    "    # Train it\n",
    "    _, out[\"train_time\"] = timeit_out(model.fit)(x_train, y_train)\n",
    "    print(f'- {\"Training time:\":16} {out[\"train_time\"]:.6f}')\n",
    "    \n",
    "    # Predict time\n",
    "    y_pred, out[\"predict_time\"] = timeit_out(model.predict)(x_test)\n",
    "    print(f'- {\"Predict time:\":16} {out[\"predict_time\"]:.6f}')\n",
    "          \n",
    "    # AUC\n",
    "    out[\"auc\"] = metrics.roc_auc_score(y_test, y_pred)\n",
    "    print(f'- {\"AUC:\":16} {out[\"auc\"]:.6f}')\n",
    "          \n",
    "    return out"
   ]
  },
  {
   "cell_type": "markdown",
   "metadata": {},
   "source": [
    "# 1. Read data"
   ]
  },
  {
   "cell_type": "code",
   "execution_count": 11,
   "metadata": {
    "ExecuteTime": {
     "end_time": "2019-12-22T08:51:43.685834Z",
     "start_time": "2019-12-22T08:51:26.010216Z"
    }
   },
   "outputs": [
    {
     "data": {
      "text/html": [
       "<div>\n",
       "<style scoped>\n",
       "    .dataframe tbody tr th:only-of-type {\n",
       "        vertical-align: middle;\n",
       "    }\n",
       "\n",
       "    .dataframe tbody tr th {\n",
       "        vertical-align: top;\n",
       "    }\n",
       "\n",
       "    .dataframe thead th {\n",
       "        text-align: right;\n",
       "    }\n",
       "</style>\n",
       "<table border=\"1\" class=\"dataframe\">\n",
       "  <thead>\n",
       "    <tr style=\"text-align: right;\">\n",
       "      <th></th>\n",
       "      <th>response</th>\n",
       "      <th>x1</th>\n",
       "      <th>x2</th>\n",
       "      <th>x3</th>\n",
       "      <th>x4</th>\n",
       "      <th>x5</th>\n",
       "      <th>x6</th>\n",
       "      <th>x7</th>\n",
       "      <th>x8</th>\n",
       "      <th>x9</th>\n",
       "      <th>...</th>\n",
       "      <th>x19</th>\n",
       "      <th>x20</th>\n",
       "      <th>x21</th>\n",
       "      <th>x22</th>\n",
       "      <th>x23</th>\n",
       "      <th>x24</th>\n",
       "      <th>x25</th>\n",
       "      <th>x26</th>\n",
       "      <th>x27</th>\n",
       "      <th>x28</th>\n",
       "    </tr>\n",
       "  </thead>\n",
       "  <tbody>\n",
       "    <tr>\n",
       "      <th>0</th>\n",
       "      <td>1.0</td>\n",
       "      <td>0.869293</td>\n",
       "      <td>-0.635082</td>\n",
       "      <td>0.225690</td>\n",
       "      <td>0.327470</td>\n",
       "      <td>-0.689993</td>\n",
       "      <td>0.754202</td>\n",
       "      <td>-0.248573</td>\n",
       "      <td>-1.092064</td>\n",
       "      <td>0.000000</td>\n",
       "      <td>...</td>\n",
       "      <td>-0.010455</td>\n",
       "      <td>-0.045767</td>\n",
       "      <td>3.101961</td>\n",
       "      <td>1.353760</td>\n",
       "      <td>0.979563</td>\n",
       "      <td>0.978076</td>\n",
       "      <td>0.920005</td>\n",
       "      <td>0.721657</td>\n",
       "      <td>0.988751</td>\n",
       "      <td>0.876678</td>\n",
       "    </tr>\n",
       "    <tr>\n",
       "      <th>1</th>\n",
       "      <td>1.0</td>\n",
       "      <td>0.907542</td>\n",
       "      <td>0.329147</td>\n",
       "      <td>0.359412</td>\n",
       "      <td>1.497970</td>\n",
       "      <td>-0.313010</td>\n",
       "      <td>1.095531</td>\n",
       "      <td>-0.557525</td>\n",
       "      <td>-1.588230</td>\n",
       "      <td>2.173076</td>\n",
       "      <td>...</td>\n",
       "      <td>-1.138930</td>\n",
       "      <td>-0.000819</td>\n",
       "      <td>0.000000</td>\n",
       "      <td>0.302220</td>\n",
       "      <td>0.833048</td>\n",
       "      <td>0.985700</td>\n",
       "      <td>0.978098</td>\n",
       "      <td>0.779732</td>\n",
       "      <td>0.992356</td>\n",
       "      <td>0.798343</td>\n",
       "    </tr>\n",
       "    <tr>\n",
       "      <th>2</th>\n",
       "      <td>1.0</td>\n",
       "      <td>0.798835</td>\n",
       "      <td>1.470639</td>\n",
       "      <td>-1.635975</td>\n",
       "      <td>0.453773</td>\n",
       "      <td>0.425629</td>\n",
       "      <td>1.104875</td>\n",
       "      <td>1.282322</td>\n",
       "      <td>1.381664</td>\n",
       "      <td>0.000000</td>\n",
       "      <td>...</td>\n",
       "      <td>1.128848</td>\n",
       "      <td>0.900461</td>\n",
       "      <td>0.000000</td>\n",
       "      <td>0.909753</td>\n",
       "      <td>1.108330</td>\n",
       "      <td>0.985692</td>\n",
       "      <td>0.951331</td>\n",
       "      <td>0.803252</td>\n",
       "      <td>0.865924</td>\n",
       "      <td>0.780118</td>\n",
       "    </tr>\n",
       "    <tr>\n",
       "      <th>3</th>\n",
       "      <td>0.0</td>\n",
       "      <td>1.344385</td>\n",
       "      <td>-0.876626</td>\n",
       "      <td>0.935913</td>\n",
       "      <td>1.992050</td>\n",
       "      <td>0.882454</td>\n",
       "      <td>1.786066</td>\n",
       "      <td>-1.646778</td>\n",
       "      <td>-0.942383</td>\n",
       "      <td>0.000000</td>\n",
       "      <td>...</td>\n",
       "      <td>-0.678379</td>\n",
       "      <td>-1.360356</td>\n",
       "      <td>0.000000</td>\n",
       "      <td>0.946652</td>\n",
       "      <td>1.028704</td>\n",
       "      <td>0.998656</td>\n",
       "      <td>0.728281</td>\n",
       "      <td>0.869200</td>\n",
       "      <td>1.026736</td>\n",
       "      <td>0.957904</td>\n",
       "    </tr>\n",
       "    <tr>\n",
       "      <th>4</th>\n",
       "      <td>1.0</td>\n",
       "      <td>1.105009</td>\n",
       "      <td>0.321356</td>\n",
       "      <td>1.522401</td>\n",
       "      <td>0.882808</td>\n",
       "      <td>-1.205349</td>\n",
       "      <td>0.681466</td>\n",
       "      <td>-1.070464</td>\n",
       "      <td>-0.921871</td>\n",
       "      <td>0.000000</td>\n",
       "      <td>...</td>\n",
       "      <td>-0.373566</td>\n",
       "      <td>0.113041</td>\n",
       "      <td>0.000000</td>\n",
       "      <td>0.755856</td>\n",
       "      <td>1.361057</td>\n",
       "      <td>0.986610</td>\n",
       "      <td>0.838085</td>\n",
       "      <td>1.133295</td>\n",
       "      <td>0.872245</td>\n",
       "      <td>0.808487</td>\n",
       "    </tr>\n",
       "  </tbody>\n",
       "</table>\n",
       "<p>5 rows × 29 columns</p>\n",
       "</div>"
      ],
      "text/plain": [
       "   response        x1        x2        x3        x4        x5        x6  \\\n",
       "0       1.0  0.869293 -0.635082  0.225690  0.327470 -0.689993  0.754202   \n",
       "1       1.0  0.907542  0.329147  0.359412  1.497970 -0.313010  1.095531   \n",
       "2       1.0  0.798835  1.470639 -1.635975  0.453773  0.425629  1.104875   \n",
       "3       0.0  1.344385 -0.876626  0.935913  1.992050  0.882454  1.786066   \n",
       "4       1.0  1.105009  0.321356  1.522401  0.882808 -1.205349  0.681466   \n",
       "\n",
       "         x7        x8        x9  ...       x19       x20       x21       x22  \\\n",
       "0 -0.248573 -1.092064  0.000000  ... -0.010455 -0.045767  3.101961  1.353760   \n",
       "1 -0.557525 -1.588230  2.173076  ... -1.138930 -0.000819  0.000000  0.302220   \n",
       "2  1.282322  1.381664  0.000000  ...  1.128848  0.900461  0.000000  0.909753   \n",
       "3 -1.646778 -0.942383  0.000000  ... -0.678379 -1.360356  0.000000  0.946652   \n",
       "4 -1.070464 -0.921871  0.000000  ... -0.373566  0.113041  0.000000  0.755856   \n",
       "\n",
       "        x23       x24       x25       x26       x27       x28  \n",
       "0  0.979563  0.978076  0.920005  0.721657  0.988751  0.876678  \n",
       "1  0.833048  0.985700  0.978098  0.779732  0.992356  0.798343  \n",
       "2  1.108330  0.985692  0.951331  0.803252  0.865924  0.780118  \n",
       "3  1.028704  0.998656  0.728281  0.869200  1.026736  0.957904  \n",
       "4  1.361057  0.986610  0.838085  1.133295  0.872245  0.808487  \n",
       "\n",
       "[5 rows x 29 columns]"
      ]
     },
     "metadata": {},
     "output_type": "display_data"
    }
   ],
   "source": [
    "x_train = pd.read_csv(\"https://s3.amazonaws.com/erin-data/higgs/higgs_train_10k.csv\")\n",
    "x_test = pd.read_csv(\"https://s3.amazonaws.com/erin-data/higgs/higgs_test_5k.csv\")\n",
    "\n",
    "display(x_train.head())"
   ]
  },
  {
   "cell_type": "markdown",
   "metadata": {},
   "source": [
    "## 1.1. Extract features"
   ]
  },
  {
   "cell_type": "code",
   "execution_count": 12,
   "metadata": {
    "ExecuteTime": {
     "end_time": "2019-12-22T08:51:43.700794Z",
     "start_time": "2019-12-22T08:51:43.687829Z"
    }
   },
   "outputs": [],
   "source": [
    "y_train = x_train.pop(\"response\").apply(int)\n",
    "y_test = x_test.pop(\"response\").apply(int)"
   ]
  },
  {
   "cell_type": "markdown",
   "metadata": {},
   "source": [
    "# 2. Train SVC"
   ]
  },
  {
   "cell_type": "code",
   "execution_count": 21,
   "metadata": {
    "ExecuteTime": {
     "end_time": "2019-12-22T08:56:10.307306Z",
     "start_time": "2019-12-22T08:56:03.083883Z"
    }
   },
   "outputs": [
    {
     "name": "stdout",
     "output_type": "stream",
     "text": [
      "Evaluating 'SVC_sklearn':\n",
      "- Training time:   5.429230\n",
      "- Predict time:    1.787591\n",
      "- AUC:             0.642001\n"
     ]
    }
   ],
   "source": [
    "out = {}\n",
    "out[\"SVC_sklearn\"] = train_and_evaluate(SVC(), \"SVC_sklearn\")"
   ]
  },
  {
   "cell_type": "markdown",
   "metadata": {},
   "source": [
    "# 3. Traing Random Forest"
   ]
  },
  {
   "cell_type": "code",
   "execution_count": 22,
   "metadata": {
    "ExecuteTime": {
     "end_time": "2019-12-22T08:56:21.714088Z",
     "start_time": "2019-12-22T08:56:17.869358Z"
    }
   },
   "outputs": [
    {
     "name": "stdout",
     "output_type": "stream",
     "text": [
      "Evaluating 'RFC_sklearn':\n",
      "- Training time:   3.735469\n",
      "- Predict time:    0.100549\n",
      "- AUC:             0.709088\n"
     ]
    }
   ],
   "source": [
    "out[\"RFC_sklearn\"] = train_and_evaluate(RandomForestClassifier(n_estimators=100), \"RFC_sklearn\")"
   ]
  },
  {
   "cell_type": "markdown",
   "metadata": {},
   "source": [
    "# 4. Traing with GridSearchCV + Random Forest"
   ]
  },
  {
   "cell_type": "code",
   "execution_count": 23,
   "metadata": {
    "ExecuteTime": {
     "end_time": "2019-12-22T08:57:13.174800Z",
     "start_time": "2019-12-22T08:57:13.169838Z"
    }
   },
   "outputs": [
    {
     "data": {
      "text/plain": [
       "{'n_estimators': [50, 100, 150, 200], 'max_features': ['auto', 'sqrt', 'log2']}"
      ]
     },
     "execution_count": 23,
     "metadata": {},
     "output_type": "execute_result"
    }
   ],
   "source": [
    "params = {\n",
    "    \"n_estimators\": list(range(50, 250, 50)),\n",
    "    'max_features': ['auto', 'sqrt', 'log2']\n",
    "}\n",
    "params"
   ]
  },
  {
   "cell_type": "code",
   "execution_count": 24,
   "metadata": {
    "ExecuteTime": {
     "end_time": "2019-12-22T08:58:50.857055Z",
     "start_time": "2019-12-22T08:57:46.733192Z"
    }
   },
   "outputs": [
    {
     "name": "stdout",
     "output_type": "stream",
     "text": [
      "Evaluating 'RFC_GS_sklearn':\n",
      "- Training time:   63.880907\n",
      "- Predict time:    0.236742\n",
      "- AUC:             0.704552\n"
     ]
    }
   ],
   "source": [
    "gs = GridSearchCV(RandomForestClassifier(), params, cv=2)\n",
    "out[\"RFC_GS_sklearn\"] = train_and_evaluate(gs, \"RFC_GS_sklearn\")"
   ]
  },
  {
   "cell_type": "code",
   "execution_count": 28,
   "metadata": {
    "ExecuteTime": {
     "end_time": "2019-12-22T09:01:14.404974Z",
     "start_time": "2019-12-22T09:01:14.395998Z"
    }
   },
   "outputs": [
    {
     "data": {
      "text/html": [
       "<div>\n",
       "<style scoped>\n",
       "    .dataframe tbody tr th:only-of-type {\n",
       "        vertical-align: middle;\n",
       "    }\n",
       "\n",
       "    .dataframe tbody tr th {\n",
       "        vertical-align: top;\n",
       "    }\n",
       "\n",
       "    .dataframe thead th {\n",
       "        text-align: right;\n",
       "    }\n",
       "</style>\n",
       "<table border=\"1\" class=\"dataframe\">\n",
       "  <thead>\n",
       "    <tr style=\"text-align: right;\">\n",
       "      <th></th>\n",
       "      <th>train_time</th>\n",
       "      <th>predict_time</th>\n",
       "      <th>auc</th>\n",
       "      <th>origin</th>\n",
       "    </tr>\n",
       "  </thead>\n",
       "  <tbody>\n",
       "    <tr>\n",
       "      <th>SVC_sklearn</th>\n",
       "      <td>5.429230</td>\n",
       "      <td>1.787591</td>\n",
       "      <td>0.642001</td>\n",
       "      <td>sklearn</td>\n",
       "    </tr>\n",
       "    <tr>\n",
       "      <th>RFC_sklearn</th>\n",
       "      <td>3.735469</td>\n",
       "      <td>0.100549</td>\n",
       "      <td>0.709088</td>\n",
       "      <td>sklearn</td>\n",
       "    </tr>\n",
       "    <tr>\n",
       "      <th>RFC_GS_sklearn</th>\n",
       "      <td>63.880907</td>\n",
       "      <td>0.236742</td>\n",
       "      <td>0.704552</td>\n",
       "      <td>sklearn</td>\n",
       "    </tr>\n",
       "  </tbody>\n",
       "</table>\n",
       "</div>"
      ],
      "text/plain": [
       "                train_time  predict_time       auc   origin\n",
       "SVC_sklearn       5.429230      1.787591  0.642001  sklearn\n",
       "RFC_sklearn       3.735469      0.100549  0.709088  sklearn\n",
       "RFC_GS_sklearn   63.880907      0.236742  0.704552  sklearn"
      ]
     },
     "execution_count": 28,
     "metadata": {},
     "output_type": "execute_result"
    }
   ],
   "source": [
    "df = pd.DataFrame(out).T\n",
    "df[\"origin\"] = \"sklearn\"\n",
    "df"
   ]
  },
  {
   "cell_type": "code",
   "execution_count": 29,
   "metadata": {
    "ExecuteTime": {
     "end_time": "2019-12-22T09:14:54.775839Z",
     "start_time": "2019-12-22T09:14:54.767860Z"
    }
   },
   "outputs": [],
   "source": [
    "df.to_csv(\"results/sklearn.csv\")"
   ]
  },
  {
   "cell_type": "code",
   "execution_count": null,
   "metadata": {},
   "outputs": [],
   "source": []
  }
 ],
 "metadata": {
  "kernelspec": {
   "display_name": "Python 3",
   "language": "python",
   "name": "python3"
  },
  "language_info": {
   "codemirror_mode": {
    "name": "ipython",
    "version": 3
   },
   "file_extension": ".py",
   "mimetype": "text/x-python",
   "name": "python",
   "nbconvert_exporter": "python",
   "pygments_lexer": "ipython3",
   "version": "3.7.3"
  }
 },
 "nbformat": 4,
 "nbformat_minor": 2
}
