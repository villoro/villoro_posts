{
 "cells": [
  {
   "cell_type": "code",
   "execution_count": 42,
   "metadata": {
    "ExecuteTime": {
     "end_time": "2019-12-22T09:18:59.277987Z",
     "start_time": "2019-12-22T09:18:59.274993Z"
    }
   },
   "outputs": [],
   "source": [
    "import pandas as pd\n",
    "\n",
    "import h2o\n",
    "from h2o.automl import H2OAutoML, get_leaderboard\n",
    "\n",
    "from v_time import timeit_out\n",
    "from sklearn import metrics\n",
    "\n",
    "from tqdm import tqdm_notebook as tqdm"
   ]
  },
  {
   "cell_type": "markdown",
   "metadata": {},
   "source": [
    "# 1. Init h2o session\n",
    "\n",
    "There are 2 ways of working with h2o:\n",
    "\n",
    "* native\n",
    "* using spark (with pysparkling)\n",
    "\n",
    "Both use MapReduce so they can scale to multiple machines."
   ]
  },
  {
   "cell_type": "code",
   "execution_count": 4,
   "metadata": {
    "ExecuteTime": {
     "end_time": "2019-12-22T08:18:46.638453Z",
     "start_time": "2019-12-22T08:18:21.330397Z"
    }
   },
   "outputs": [
    {
     "name": "stdout",
     "output_type": "stream",
     "text": [
      "Checking whether there is an H2O instance running at http://localhost:54321 ..... not found.\n",
      "Attempting to start a local H2O server...\n",
      "; Java HotSpot(TM) Client VM (build 25.151-b12, mixed mode, sharing)\n"
     ]
    },
    {
     "name": "stderr",
     "output_type": "stream",
     "text": [
      "c:\\miniconda3\\lib\\site-packages\\h2o\\backend\\server.py:379: UserWarning:\n",
      "\n",
      "  You have a 32-bit version of Java. H2O works best with 64-bit Java.\n",
      "  Please download the latest 64-bit Java SE JDK from Oracle.\n",
      "\n",
      "\n"
     ]
    },
    {
     "name": "stdout",
     "output_type": "stream",
     "text": [
      "  Starting server from c:\\miniconda3\\lib\\site-packages\\h2o\\backend\\bin\\h2o.jar\n",
      "  Ice root: C:\\Users\\Villoro\\AppData\\Local\\Temp\\tmp5xzbitjz\n",
      "  JVM stdout: C:\\Users\\Villoro\\AppData\\Local\\Temp\\tmp5xzbitjz\\h2o_Villoro_started_from_python.out\n",
      "  JVM stderr: C:\\Users\\Villoro\\AppData\\Local\\Temp\\tmp5xzbitjz\\h2o_Villoro_started_from_python.err\n",
      "  Server is running at http://127.0.0.1:54321\n",
      "Connecting to H2O server at http://127.0.0.1:54321 ... successful.\n"
     ]
    },
    {
     "data": {
      "text/html": [
       "<div style=\"overflow:auto\"><table style=\"width:50%\"><tr><td>H2O cluster uptime:</td>\n",
       "<td>02 secs</td></tr>\n",
       "<tr><td>H2O cluster timezone:</td>\n",
       "<td>Europe/Paris</td></tr>\n",
       "<tr><td>H2O data parsing timezone:</td>\n",
       "<td>UTC</td></tr>\n",
       "<tr><td>H2O cluster version:</td>\n",
       "<td>3.28.0.1</td></tr>\n",
       "<tr><td>H2O cluster version age:</td>\n",
       "<td>5 days </td></tr>\n",
       "<tr><td>H2O cluster name:</td>\n",
       "<td>H2O_from_python_Villoro_bp712g</td></tr>\n",
       "<tr><td>H2O cluster total nodes:</td>\n",
       "<td>1</td></tr>\n",
       "<tr><td>H2O cluster free memory:</td>\n",
       "<td>247.5 Mb</td></tr>\n",
       "<tr><td>H2O cluster total cores:</td>\n",
       "<td>4</td></tr>\n",
       "<tr><td>H2O cluster allowed cores:</td>\n",
       "<td>4</td></tr>\n",
       "<tr><td>H2O cluster status:</td>\n",
       "<td>accepting new members, healthy</td></tr>\n",
       "<tr><td>H2O connection url:</td>\n",
       "<td>http://127.0.0.1:54321</td></tr>\n",
       "<tr><td>H2O connection proxy:</td>\n",
       "<td>{'http': None, 'https': None}</td></tr>\n",
       "<tr><td>H2O internal security:</td>\n",
       "<td>False</td></tr>\n",
       "<tr><td>H2O API Extensions:</td>\n",
       "<td>Amazon S3, Algos, AutoML, Core V3, TargetEncoder, Core V4</td></tr>\n",
       "<tr><td>Python version:</td>\n",
       "<td>3.7.3 final</td></tr></table></div>"
      ],
      "text/plain": [
       "--------------------------  ---------------------------------------------------------\n",
       "H2O cluster uptime:         02 secs\n",
       "H2O cluster timezone:       Europe/Paris\n",
       "H2O data parsing timezone:  UTC\n",
       "H2O cluster version:        3.28.0.1\n",
       "H2O cluster version age:    5 days\n",
       "H2O cluster name:           H2O_from_python_Villoro_bp712g\n",
       "H2O cluster total nodes:    1\n",
       "H2O cluster free memory:    247.5 Mb\n",
       "H2O cluster total cores:    4\n",
       "H2O cluster allowed cores:  4\n",
       "H2O cluster status:         accepting new members, healthy\n",
       "H2O connection url:         http://127.0.0.1:54321\n",
       "H2O connection proxy:       {'http': None, 'https': None}\n",
       "H2O internal security:      False\n",
       "H2O API Extensions:         Amazon S3, Algos, AutoML, Core V3, TargetEncoder, Core V4\n",
       "Python version:             3.7.3 final\n",
       "--------------------------  ---------------------------------------------------------"
      ]
     },
     "metadata": {},
     "output_type": "display_data"
    }
   ],
   "source": [
    "mode = \"h2o\"\n",
    "# mode = \"spark\"\n",
    "\n",
    "if mode == \"h2o\":\n",
    "    h2o.init()    \n",
    "\n",
    "else:\n",
    "    from pyspark.sql import SparkSession\n",
    "    from pysparkling import H2OContext\n",
    "\n",
    "    spark = SparkSession.builder.appName(\"h2o_auto_ml\").getOrCreate()\n",
    "    hc = H2OContext.getOrCreate(spark)"
   ]
  },
  {
   "cell_type": "markdown",
   "metadata": {
    "ExecuteTime": {
     "end_time": "2019-12-22T08:16:29.640883Z",
     "start_time": "2019-12-22T08:16:29.635922Z"
    }
   },
   "source": [
    "# 2. Get data"
   ]
  },
  {
   "cell_type": "code",
   "execution_count": 5,
   "metadata": {
    "ExecuteTime": {
     "end_time": "2019-12-22T08:21:03.783633Z",
     "start_time": "2019-12-22T08:20:34.919858Z"
    }
   },
   "outputs": [
    {
     "name": "stdout",
     "output_type": "stream",
     "text": [
      "Parse progress: |█████████████████████████████████████████████████████████| 100%\n",
      "Parse progress: |█████████████████████████████████████████████████████████| 100%\n"
     ]
    }
   ],
   "source": [
    "# Import a sample binary outcome train/test set into H2O\n",
    "train = h2o.import_file(\"https://s3.amazonaws.com/erin-data/higgs/higgs_train_10k.csv\")\n",
    "test = h2o.import_file(\"https://s3.amazonaws.com/erin-data/higgs/higgs_test_5k.csv\")\n",
    "\n",
    "# Identify predictors and response\n",
    "x = train.columns\n",
    "y = \"response\"\n",
    "x.remove(y)\n",
    "\n",
    "# For binary classification, response should be a factor\n",
    "train[y] = train[y].asfactor()\n",
    "test[y] = test[y].asfactor()"
   ]
  },
  {
   "cell_type": "markdown",
   "metadata": {},
   "source": [
    "# 3. Train"
   ]
  },
  {
   "cell_type": "code",
   "execution_count": 6,
   "metadata": {
    "ExecuteTime": {
     "end_time": "2019-12-22T08:23:40.557382Z",
     "start_time": "2019-12-22T08:21:32.908592Z"
    }
   },
   "outputs": [
    {
     "name": "stdout",
     "output_type": "stream",
     "text": [
      "AutoML progress: |\n",
      "09:21:33.51: AutoML: XGBoost is not available; skipping it.\n",
      "\n",
      "████████████████████████████████████████████████████████| 100%\n"
     ]
    }
   ],
   "source": [
    "training_minutes = 2\n",
    "\n",
    "# Run AutoML for 20 base models (limited to 1 hour max runtime by default)\n",
    "aml = H2OAutoML(max_models=20, seed=1, max_runtime_secs=training_minutes*60)\n",
    "aml.train(x=x, y=y, training_frame=train)"
   ]
  },
  {
   "cell_type": "markdown",
   "metadata": {},
   "source": [
    "# 4. Check results"
   ]
  },
  {
   "cell_type": "code",
   "execution_count": 7,
   "metadata": {
    "ExecuteTime": {
     "end_time": "2019-12-22T08:23:43.734443Z",
     "start_time": "2019-12-22T08:23:40.559377Z"
    }
   },
   "outputs": [
    {
     "data": {
      "text/html": [
       "<table>\n",
       "<thead>\n",
       "<tr><th>model_id                                           </th><th style=\"text-align: right;\">     auc</th><th style=\"text-align: right;\">  logloss</th><th style=\"text-align: right;\">   aucpr</th><th style=\"text-align: right;\">  mean_per_class_error</th><th style=\"text-align: right;\">    rmse</th><th style=\"text-align: right;\">     mse</th><th style=\"text-align: right;\">  training_time_ms</th><th style=\"text-align: right;\">  predict_time_per_row_ms</th></tr>\n",
       "</thead>\n",
       "<tbody>\n",
       "<tr><td>StackedEnsemble_AllModels_AutoML_20191222_092133   </td><td style=\"text-align: right;\">0.786416</td><td style=\"text-align: right;\"> 0.555428</td><td style=\"text-align: right;\">0.803856</td><td style=\"text-align: right;\">              0.324173</td><td style=\"text-align: right;\">0.434064</td><td style=\"text-align: right;\">0.188411</td><td style=\"text-align: right;\">              1376</td><td style=\"text-align: right;\">                 0.112101</td></tr>\n",
       "<tr><td>StackedEnsemble_BestOfFamily_AutoML_20191222_092133</td><td style=\"text-align: right;\">0.783793</td><td style=\"text-align: right;\"> 0.557936</td><td style=\"text-align: right;\">0.800862</td><td style=\"text-align: right;\">              0.330988</td><td style=\"text-align: right;\">0.435146</td><td style=\"text-align: right;\">0.189352</td><td style=\"text-align: right;\">               793</td><td style=\"text-align: right;\">                 0.047164</td></tr>\n",
       "<tr><td>GBM_5_AutoML_20191222_092133                       </td><td style=\"text-align: right;\">0.780862</td><td style=\"text-align: right;\"> 0.559708</td><td style=\"text-align: right;\">0.79783 </td><td style=\"text-align: right;\">              0.325399</td><td style=\"text-align: right;\">0.436083</td><td style=\"text-align: right;\">0.190168</td><td style=\"text-align: right;\">              1070</td><td style=\"text-align: right;\">                 0.012534</td></tr>\n",
       "<tr><td>GBM_1_AutoML_20191222_092133                       </td><td style=\"text-align: right;\">0.778997</td><td style=\"text-align: right;\"> 0.56159 </td><td style=\"text-align: right;\">0.796523</td><td style=\"text-align: right;\">              0.326697</td><td style=\"text-align: right;\">0.437003</td><td style=\"text-align: right;\">0.190971</td><td style=\"text-align: right;\">               873</td><td style=\"text-align: right;\">                 0.011205</td></tr>\n",
       "<tr><td>GBM_2_AutoML_20191222_092133                       </td><td style=\"text-align: right;\">0.778338</td><td style=\"text-align: right;\"> 0.561527</td><td style=\"text-align: right;\">0.79632 </td><td style=\"text-align: right;\">              0.329805</td><td style=\"text-align: right;\">0.437199</td><td style=\"text-align: right;\">0.191143</td><td style=\"text-align: right;\">               844</td><td style=\"text-align: right;\">                 0.011891</td></tr>\n",
       "<tr><td>GBM_grid__1_AutoML_20191222_092133_model_2         </td><td style=\"text-align: right;\">0.777556</td><td style=\"text-align: right;\"> 0.600409</td><td style=\"text-align: right;\">0.797979</td><td style=\"text-align: right;\">              0.353497</td><td style=\"text-align: right;\">0.453296</td><td style=\"text-align: right;\">0.205477</td><td style=\"text-align: right;\">              2550</td><td style=\"text-align: right;\">                 0.021524</td></tr>\n",
       "<tr><td>GBM_3_AutoML_20191222_092133                       </td><td style=\"text-align: right;\">0.776389</td><td style=\"text-align: right;\"> 0.563906</td><td style=\"text-align: right;\">0.793284</td><td style=\"text-align: right;\">              0.328065</td><td style=\"text-align: right;\">0.438274</td><td style=\"text-align: right;\">0.192084</td><td style=\"text-align: right;\">               958</td><td style=\"text-align: right;\">                 0.011582</td></tr>\n",
       "<tr><td>GBM_4_AutoML_20191222_092133                       </td><td style=\"text-align: right;\">0.770758</td><td style=\"text-align: right;\"> 0.570912</td><td style=\"text-align: right;\">0.790371</td><td style=\"text-align: right;\">              0.353743</td><td style=\"text-align: right;\">0.441681</td><td style=\"text-align: right;\">0.195082</td><td style=\"text-align: right;\">              1153</td><td style=\"text-align: right;\">                 0.012144</td></tr>\n",
       "<tr><td>DRF_1_AutoML_20191222_092133                       </td><td style=\"text-align: right;\">0.765151</td><td style=\"text-align: right;\"> 0.580246</td><td style=\"text-align: right;\">0.783285</td><td style=\"text-align: right;\">              0.340491</td><td style=\"text-align: right;\">0.445292</td><td style=\"text-align: right;\">0.198285</td><td style=\"text-align: right;\">              1786</td><td style=\"text-align: right;\">                 0.016763</td></tr>\n",
       "<tr><td>XRT_1_AutoML_20191222_092133                       </td><td style=\"text-align: right;\">0.765134</td><td style=\"text-align: right;\"> 0.582172</td><td style=\"text-align: right;\">0.783059</td><td style=\"text-align: right;\">              0.349171</td><td style=\"text-align: right;\">0.446013</td><td style=\"text-align: right;\">0.198928</td><td style=\"text-align: right;\">              2626</td><td style=\"text-align: right;\">                 0.017842</td></tr>\n",
       "<tr><td>GBM_grid__1_AutoML_20191222_092133_model_3         </td><td style=\"text-align: right;\">0.733986</td><td style=\"text-align: right;\"> 0.631707</td><td style=\"text-align: right;\">0.74207 </td><td style=\"text-align: right;\">              0.362275</td><td style=\"text-align: right;\">0.463584</td><td style=\"text-align: right;\">0.21491 </td><td style=\"text-align: right;\">               172</td><td style=\"text-align: right;\">                 0.003926</td></tr>\n",
       "<tr><td>DeepLearning_1_AutoML_20191222_092133              </td><td style=\"text-align: right;\">0.704997</td><td style=\"text-align: right;\"> 0.630265</td><td style=\"text-align: right;\">0.711858</td><td style=\"text-align: right;\">              0.394317</td><td style=\"text-align: right;\">0.4685  </td><td style=\"text-align: right;\">0.219493</td><td style=\"text-align: right;\">               889</td><td style=\"text-align: right;\">                 0.004628</td></tr>\n",
       "<tr><td>GLM_1_AutoML_20191222_092133                       </td><td style=\"text-align: right;\">0.682648</td><td style=\"text-align: right;\"> 0.63852 </td><td style=\"text-align: right;\">0.680344</td><td style=\"text-align: right;\">              0.397234</td><td style=\"text-align: right;\">0.472683</td><td style=\"text-align: right;\">0.223429</td><td style=\"text-align: right;\">               236</td><td style=\"text-align: right;\">                 0.002471</td></tr>\n",
       "</tbody>\n",
       "</table>"
      ]
     },
     "metadata": {},
     "output_type": "display_data"
    },
    {
     "data": {
      "text/plain": []
     },
     "execution_count": 7,
     "metadata": {},
     "output_type": "execute_result"
    }
   ],
   "source": [
    "# Optionally add extra model information to the leaderboard\n",
    "lb = get_leaderboard(aml, extra_columns='ALL')\n",
    "\n",
    "# Print all rows (instead of default 10 rows)\n",
    "lb.head(rows=lb.nrows)"
   ]
  },
  {
   "cell_type": "markdown",
   "metadata": {},
   "source": [
    "# 5. Test models"
   ]
  },
  {
   "cell_type": "code",
   "execution_count": 37,
   "metadata": {
    "ExecuteTime": {
     "end_time": "2019-12-22T09:16:58.592450Z",
     "start_time": "2019-12-22T09:16:58.360951Z"
    }
   },
   "outputs": [],
   "source": [
    "y_test = test.as_data_frame()[\"response\"]"
   ]
  },
  {
   "cell_type": "code",
   "execution_count": 41,
   "metadata": {
    "ExecuteTime": {
     "end_time": "2019-12-22T09:18:38.685733Z",
     "start_time": "2019-12-22T09:18:33.528033Z"
    }
   },
   "outputs": [
    {
     "data": {
      "application/vnd.jupyter.widget-view+json": {
       "model_id": "21491ac72c994cdbba20ea22bf2e3a64",
       "version_major": 2,
       "version_minor": 0
      },
      "text/plain": [
       "HBox(children=(IntProgress(value=0, max=13), HTML(value='')))"
      ]
     },
     "metadata": {},
     "output_type": "display_data"
    },
    {
     "name": "stdout",
     "output_type": "stream",
     "text": [
      "stackedensemble prediction progress: |████████████████████████████████████| 100%\n",
      "stackedensemble prediction progress: |████████████████████████████████████| 100%\n",
      "gbm prediction progress: |████████████████████████████████████████████████| 100%\n",
      "gbm prediction progress: |████████████████████████████████████████████████| 100%\n",
      "gbm prediction progress: |████████████████████████████████████████████████| 100%\n",
      "gbm prediction progress: |████████████████████████████████████████████████| 100%\n",
      "gbm prediction progress: |████████████████████████████████████████████████| 100%\n",
      "gbm prediction progress: |████████████████████████████████████████████████| 100%\n",
      "drf prediction progress: |████████████████████████████████████████████████| 100%\n",
      "drf prediction progress: |████████████████████████████████████████████████| 100%\n",
      "gbm prediction progress: |████████████████████████████████████████████████| 100%\n",
      "deeplearning prediction progress: |███████████████████████████████████████| 100%\n",
      "glm prediction progress: |████████████████████████████████████████████████| 100%\n",
      "\n"
     ]
    }
   ],
   "source": [
    "out = {}\n",
    "for name in tqdm(lb.as_data_frame()[\"model_id\"].tolist()):\n",
    "    \n",
    "    out[name] = {}\n",
    "    \n",
    "    # Predict time\n",
    "    model = h2o.get_model(name)\n",
    "    predictions, out[name][\"predict_time\"] = timeit_out(model.predict)(test)\n",
    "    \n",
    "    # AUC\n",
    "    y_pred = predictions.as_data_frame()[\"predict\"]\n",
    "    out[name][\"auc\"] = metrics.roc_auc_score(y_test, y_pred)"
   ]
  },
  {
   "cell_type": "code",
   "execution_count": 50,
   "metadata": {
    "ExecuteTime": {
     "end_time": "2019-12-22T09:21:38.115824Z",
     "start_time": "2019-12-22T09:21:38.085904Z"
    }
   },
   "outputs": [
    {
     "data": {
      "text/html": [
       "<div>\n",
       "<style scoped>\n",
       "    .dataframe tbody tr th:only-of-type {\n",
       "        vertical-align: middle;\n",
       "    }\n",
       "\n",
       "    .dataframe tbody tr th {\n",
       "        vertical-align: top;\n",
       "    }\n",
       "\n",
       "    .dataframe thead th {\n",
       "        text-align: right;\n",
       "    }\n",
       "</style>\n",
       "<table border=\"1\" class=\"dataframe\">\n",
       "  <thead>\n",
       "    <tr style=\"text-align: right;\">\n",
       "      <th></th>\n",
       "      <th>predict_time</th>\n",
       "      <th>auc</th>\n",
       "      <th>train_time</th>\n",
       "      <th>origin</th>\n",
       "    </tr>\n",
       "  </thead>\n",
       "  <tbody>\n",
       "    <tr>\n",
       "      <th>StackedEnsemble_AllModels_AutoML_20191222_092133</th>\n",
       "      <td>0.706728</td>\n",
       "      <td>0.678378</td>\n",
       "      <td>1.376</td>\n",
       "      <td>AutoML_2min</td>\n",
       "    </tr>\n",
       "    <tr>\n",
       "      <th>StackedEnsemble_BestOfFamily_AutoML_20191222_092133</th>\n",
       "      <td>0.482212</td>\n",
       "      <td>0.674103</td>\n",
       "      <td>0.793</td>\n",
       "      <td>AutoML_2min</td>\n",
       "    </tr>\n",
       "    <tr>\n",
       "      <th>GBM_5_AutoML_20191222_092133</th>\n",
       "      <td>0.086991</td>\n",
       "      <td>0.703021</td>\n",
       "      <td>1.070</td>\n",
       "      <td>AutoML_2min</td>\n",
       "    </tr>\n",
       "    <tr>\n",
       "      <th>GBM_1_AutoML_20191222_092133</th>\n",
       "      <td>0.077191</td>\n",
       "      <td>0.706582</td>\n",
       "      <td>0.873</td>\n",
       "      <td>AutoML_2min</td>\n",
       "    </tr>\n",
       "    <tr>\n",
       "      <th>GBM_2_AutoML_20191222_092133</th>\n",
       "      <td>0.081018</td>\n",
       "      <td>0.707154</td>\n",
       "      <td>0.844</td>\n",
       "      <td>AutoML_2min</td>\n",
       "    </tr>\n",
       "    <tr>\n",
       "      <th>GBM_grid__1_AutoML_20191222_092133_model_2</th>\n",
       "      <td>0.109668</td>\n",
       "      <td>0.696259</td>\n",
       "      <td>2.550</td>\n",
       "      <td>AutoML_2min</td>\n",
       "    </tr>\n",
       "    <tr>\n",
       "      <th>GBM_3_AutoML_20191222_092133</th>\n",
       "      <td>0.081856</td>\n",
       "      <td>0.700383</td>\n",
       "      <td>0.958</td>\n",
       "      <td>AutoML_2min</td>\n",
       "    </tr>\n",
       "    <tr>\n",
       "      <th>GBM_4_AutoML_20191222_092133</th>\n",
       "      <td>0.089506</td>\n",
       "      <td>0.713829</td>\n",
       "      <td>1.153</td>\n",
       "      <td>AutoML_2min</td>\n",
       "    </tr>\n",
       "    <tr>\n",
       "      <th>DRF_1_AutoML_20191222_092133</th>\n",
       "      <td>0.100762</td>\n",
       "      <td>0.634871</td>\n",
       "      <td>1.786</td>\n",
       "      <td>AutoML_2min</td>\n",
       "    </tr>\n",
       "    <tr>\n",
       "      <th>XRT_1_AutoML_20191222_092133</th>\n",
       "      <td>0.101667</td>\n",
       "      <td>0.632838</td>\n",
       "      <td>2.626</td>\n",
       "      <td>AutoML_2min</td>\n",
       "    </tr>\n",
       "    <tr>\n",
       "      <th>GBM_grid__1_AutoML_20191222_092133_model_3</th>\n",
       "      <td>0.802880</td>\n",
       "      <td>0.668948</td>\n",
       "      <td>0.172</td>\n",
       "      <td>AutoML_2min</td>\n",
       "    </tr>\n",
       "    <tr>\n",
       "      <th>DeepLearning_1_AutoML_20191222_092133</th>\n",
       "      <td>0.333386</td>\n",
       "      <td>0.652196</td>\n",
       "      <td>0.889</td>\n",
       "      <td>AutoML_2min</td>\n",
       "    </tr>\n",
       "    <tr>\n",
       "      <th>GLM_1_AutoML_20191222_092133</th>\n",
       "      <td>0.044645</td>\n",
       "      <td>0.613384</td>\n",
       "      <td>0.236</td>\n",
       "      <td>AutoML_2min</td>\n",
       "    </tr>\n",
       "  </tbody>\n",
       "</table>\n",
       "</div>"
      ],
      "text/plain": [
       "                                                     predict_time       auc  \\\n",
       "StackedEnsemble_AllModels_AutoML_20191222_092133         0.706728  0.678378   \n",
       "StackedEnsemble_BestOfFamily_AutoML_20191222_092133      0.482212  0.674103   \n",
       "GBM_5_AutoML_20191222_092133                             0.086991  0.703021   \n",
       "GBM_1_AutoML_20191222_092133                             0.077191  0.706582   \n",
       "GBM_2_AutoML_20191222_092133                             0.081018  0.707154   \n",
       "GBM_grid__1_AutoML_20191222_092133_model_2               0.109668  0.696259   \n",
       "GBM_3_AutoML_20191222_092133                             0.081856  0.700383   \n",
       "GBM_4_AutoML_20191222_092133                             0.089506  0.713829   \n",
       "DRF_1_AutoML_20191222_092133                             0.100762  0.634871   \n",
       "XRT_1_AutoML_20191222_092133                             0.101667  0.632838   \n",
       "GBM_grid__1_AutoML_20191222_092133_model_3               0.802880  0.668948   \n",
       "DeepLearning_1_AutoML_20191222_092133                    0.333386  0.652196   \n",
       "GLM_1_AutoML_20191222_092133                             0.044645  0.613384   \n",
       "\n",
       "                                                     train_time       origin  \n",
       "StackedEnsemble_AllModels_AutoML_20191222_092133          1.376  AutoML_2min  \n",
       "StackedEnsemble_BestOfFamily_AutoML_20191222_092133       0.793  AutoML_2min  \n",
       "GBM_5_AutoML_20191222_092133                              1.070  AutoML_2min  \n",
       "GBM_1_AutoML_20191222_092133                              0.873  AutoML_2min  \n",
       "GBM_2_AutoML_20191222_092133                              0.844  AutoML_2min  \n",
       "GBM_grid__1_AutoML_20191222_092133_model_2                2.550  AutoML_2min  \n",
       "GBM_3_AutoML_20191222_092133                              0.958  AutoML_2min  \n",
       "GBM_4_AutoML_20191222_092133                              1.153  AutoML_2min  \n",
       "DRF_1_AutoML_20191222_092133                              1.786  AutoML_2min  \n",
       "XRT_1_AutoML_20191222_092133                              2.626  AutoML_2min  \n",
       "GBM_grid__1_AutoML_20191222_092133_model_3                0.172  AutoML_2min  \n",
       "DeepLearning_1_AutoML_20191222_092133                     0.889  AutoML_2min  \n",
       "GLM_1_AutoML_20191222_092133                              0.236  AutoML_2min  "
      ]
     },
     "execution_count": 50,
     "metadata": {},
     "output_type": "execute_result"
    }
   ],
   "source": [
    "df = pd.DataFrame(out).T\n",
    "df[\"train_time\"] = lb.as_data_frame().set_index(\"model_id\")[\"training_time_ms\"]/1000\n",
    "df[\"origin\"] = f\"AutoML_{training_minutes}min\"\n",
    "df"
   ]
  },
  {
   "cell_type": "code",
   "execution_count": 53,
   "metadata": {
    "ExecuteTime": {
     "end_time": "2019-12-22T09:23:57.183002Z",
     "start_time": "2019-12-22T09:23:57.175993Z"
    }
   },
   "outputs": [],
   "source": [
    "df.to_csv(f\"results/AutoML_{training_minutes}min.csv\")"
   ]
  },
  {
   "cell_type": "code",
   "execution_count": null,
   "metadata": {},
   "outputs": [],
   "source": []
  }
 ],
 "metadata": {
  "kernelspec": {
   "display_name": "Python 3",
   "language": "python",
   "name": "python3"
  },
  "language_info": {
   "codemirror_mode": {
    "name": "ipython",
    "version": 3
   },
   "file_extension": ".py",
   "mimetype": "text/x-python",
   "name": "python",
   "nbconvert_exporter": "python",
   "pygments_lexer": "ipython3",
   "version": "3.7.3"
  }
 },
 "nbformat": 4,
 "nbformat_minor": 2
}
