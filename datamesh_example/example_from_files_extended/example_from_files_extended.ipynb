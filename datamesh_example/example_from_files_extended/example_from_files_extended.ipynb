{
 "cells": [
  {
   "cell_type": "code",
   "execution_count": 1,
   "metadata": {
    "ExecuteTime": {
     "end_time": "2021-11-26T15:39:15.666538Z",
     "start_time": "2021-11-26T15:39:15.039603Z"
    }
   },
   "outputs": [],
   "source": [
    "from datetime import date\n",
    "\n",
    "from create_data import recreate_databases, create_tables\n",
    "from jobs.enrich_action import EnrichCEOrderCreatedJob\n",
    "from utils import get_spark_session"
   ]
  },
  {
   "cell_type": "code",
   "execution_count": 2,
   "metadata": {
    "ExecuteTime": {
     "end_time": "2021-11-26T15:39:23.626962Z",
     "start_time": "2021-11-26T15:39:15.669545Z"
    }
   },
   "outputs": [
    {
     "name": "stderr",
     "output_type": "stream",
     "text": [
      "2021-11-26 16:39:15.670 | INFO     | utils:get_spark_session:7 - Creating Spark Session\n"
     ]
    }
   ],
   "source": [
    "spark = get_spark_session()"
   ]
  },
  {
   "cell_type": "code",
   "execution_count": 3,
   "metadata": {
    "ExecuteTime": {
     "end_time": "2021-11-26T15:39:26.565011Z",
     "start_time": "2021-11-26T15:39:23.629961Z"
    }
   },
   "outputs": [
    {
     "name": "stderr",
     "output_type": "stream",
     "text": [
      "2021-11-26 16:39:23.631 | INFO     | create_data:recreate_databases:29 - Removing spark warehouse (path = 'spark-warehouse')\n",
      "2021-11-26 16:39:23.682 | INFO     | create_data:recreate_databases:33 - Creating database 'standardized_glovo_live'\n",
      "2021-11-26 16:39:26.365 | INFO     | create_data:recreate_databases:33 - Creating database 'mpcustomer_custom_events'\n",
      "2021-11-26 16:39:26.417 | INFO     | create_data:recreate_databases:33 - Creating database 'mpcustomer_screen_views'\n",
      "2021-11-26 16:39:26.465 | INFO     | create_data:recreate_databases:33 - Creating database 'enriched_custom_events'\n",
      "2021-11-26 16:39:26.515 | INFO     | create_data:recreate_databases:33 - Creating database 'enriched_screen_views'\n"
     ]
    }
   ],
   "source": [
    "recreate_databases(spark)"
   ]
  },
  {
   "cell_type": "code",
   "execution_count": 4,
   "metadata": {
    "ExecuteTime": {
     "end_time": "2021-11-26T15:40:06.913097Z",
     "start_time": "2021-11-26T15:39:26.570012Z"
    }
   },
   "outputs": [
    {
     "name": "stderr",
     "output_type": "stream",
     "text": [
      "2021-11-26 16:39:26.571 | INFO     | create_data:create_table:91 - Creating table 'standardized_glovo_live.cities'\n",
      "2021-11-26 16:39:35.643 | INFO     | create_data:create_table:91 - Creating table 'standardized_glovo_live.devices'\n",
      "2021-11-26 16:39:41.823 | INFO     | create_data:create_table:91 - Creating table 'standardized_glovo_live.orders'\n",
      "2021-11-26 16:39:48.283 | INFO     | create_data:create_table:91 - Creating table 'standardized_glovo_live.customer_subscriptions'\n",
      "2021-11-26 16:39:54.305 | INFO     | create_data:create_table:91 - Creating table 'standardized_glovo_live.customer_subscription_periods'\n",
      "2021-11-26 16:40:00.668 | INFO     | create_data:create_table:91 - Creating table 'mpcustomer_custom_events.order_created'\n"
     ]
    }
   ],
   "source": [
    "create_tables(spark)"
   ]
  },
  {
   "cell_type": "code",
   "execution_count": 5,
   "metadata": {
    "ExecuteTime": {
     "end_time": "2021-11-26T15:40:15.683538Z",
     "start_time": "2021-11-26T15:40:06.915076Z"
    }
   },
   "outputs": [
    {
     "name": "stderr",
     "output_type": "stream",
     "text": [
      "2021-11-26 16:40:06.918 | INFO     | loaders:load:47 - Loading 'mpcustomer_custom_events.order_created'\n",
      "2021-11-26 16:40:07.064 | INFO     | loaders:load:47 - Loading 'standardized_glovo_live.cities'\n",
      "2021-11-26 16:40:07.171 | INFO     | loaders:load:47 - Loading 'standardized_glovo_live.orders'\n",
      "2021-11-26 16:40:07.205 | INFO     | ports.live_db:load:72 - Loading 'standardized_glovo_live.customer_subscriptions'\n",
      "2021-11-26 16:40:07.390 | INFO     | transformations.interfaces:_apply:13 - Applying transformation 'AddTimezone'\n",
      "2021-11-26 16:40:07.425 | INFO     | transformations.interfaces:_apply:13 - Applying transformation 'AddNumberOfOrders'\n",
      "2021-11-26 16:40:07.783 | INFO     | transformations.interfaces:_apply:13 - Applying transformation 'AddIsPrime'\n",
      "2021-11-26 16:40:07.920 | INFO     | transformations.interfaces:_apply:13 - Applying transformation 'AddLocalTime'\n",
      "2021-11-26 16:40:08.071 | INFO     | writers:write:23 - Writting 'enriched_custom_events.order_created'\n"
     ]
    }
   ],
   "source": [
    "order_created_job = EnrichCEOrderCreatedJob(\n",
    "    spark=spark,\n",
    "    exec_date=date(2021, 11, 19),\n",
    "    n_days=3\n",
    ")\n",
    "order_created_job.run()"
   ]
  },
  {
   "cell_type": "markdown",
   "metadata": {},
   "source": [
    "# Show input"
   ]
  },
  {
   "cell_type": "code",
   "execution_count": 6,
   "metadata": {
    "ExecuteTime": {
     "end_time": "2021-11-26T15:40:16.059676Z",
     "start_time": "2021-11-26T15:40:15.688538Z"
    }
   },
   "outputs": [
    {
     "name": "stdout",
     "output_type": "stream",
     "text": [
      "+-----------------------+-----------+-------------------+---------------+\n",
      "|custom_attributes__city|customer_id|      creation_time|p_creation_date|\n",
      "+-----------------------+-----------+-------------------+---------------+\n",
      "|                    BCN|          1|2021-11-19 12:00:00|     2021-11-19|\n",
      "|                    BCN|          1|2021-11-18 08:00:00|     2021-11-18|\n",
      "|                    CAG|          2|2021-11-17 05:05:00|     2021-11-17|\n",
      "|                    CAG|          2|2021-11-01 07:29:00|     2021-11-01|\n",
      "+-----------------------+-----------+-------------------+---------------+\n",
      "\n"
     ]
    }
   ],
   "source": [
    "spark.table(\"mpcustomer_custom_events.order_created\").show()"
   ]
  },
  {
   "cell_type": "markdown",
   "metadata": {},
   "source": [
    "# Show outputs"
   ]
  },
  {
   "cell_type": "code",
   "execution_count": 7,
   "metadata": {
    "ExecuteTime": {
     "end_time": "2021-11-26T15:40:16.386751Z",
     "start_time": "2021-11-26T15:40:16.063681Z"
    }
   },
   "outputs": [
    {
     "name": "stdout",
     "output_type": "stream",
     "text": [
      "+-----------------------+-----------+-------------------+---------------+-------------+------------+----------------+--------+-------------------+-----------+\n",
      "|custom_attributes__city|customer_id|      creation_time|p_creation_date|    time_zone|country_code|number_of_orders|is_prime|creation_time_local|time_of_day|\n",
      "+-----------------------+-----------+-------------------+---------------+-------------+------------+----------------+--------+-------------------+-----------+\n",
      "|                    BCN|          1|2021-11-19 12:00:00|     2021-11-19|Europe/Madrid|          ES|               2|   false|2021-11-19 13:00:00|      Lunch|\n",
      "|                    BCN|          1|2021-11-18 08:00:00|     2021-11-18|Europe/Madrid|          ES|               2|   false|2021-11-18 09:00:00|  Breakfast|\n",
      "|                    CAG|          2|2021-11-17 05:05:00|     2021-11-17|  Europe/Rome|          IT|               1|    true|2021-11-17 06:05:00|  Breakfast|\n",
      "+-----------------------+-----------+-------------------+---------------+-------------+------------+----------------+--------+-------------------+-----------+\n",
      "\n"
     ]
    }
   ],
   "source": [
    "spark.table(\"enriched_custom_events.order_created\").show()"
   ]
  },
  {
   "cell_type": "code",
   "execution_count": null,
   "metadata": {},
   "outputs": [],
   "source": []
  }
 ],
 "metadata": {
  "kernelspec": {
   "display_name": "Python 3",
   "language": "python",
   "name": "python3"
  },
  "language_info": {
   "codemirror_mode": {
    "name": "ipython",
    "version": 3
   },
   "file_extension": ".py",
   "mimetype": "text/x-python",
   "name": "python",
   "nbconvert_exporter": "python",
   "pygments_lexer": "ipython3",
   "version": "3.7.6"
  }
 },
 "nbformat": 4,
 "nbformat_minor": 4
}
