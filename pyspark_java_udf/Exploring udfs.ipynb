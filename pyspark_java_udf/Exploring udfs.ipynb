{
 "cells": [
  {
   "cell_type": "code",
   "execution_count": 1,
   "metadata": {
    "ExecuteTime": {
     "end_time": "2020-11-03T12:38:28.251957Z",
     "start_time": "2020-11-03T12:38:28.115713Z"
    }
   },
   "outputs": [],
   "source": [
    "from time import time\n",
    "import pyspark.sql.functions as F\n",
    "import pyspark.sql.types as T\n",
    "\n",
    "from pyspark.sql import SparkSession\n",
    "\n",
    "from py4j.java_gateway import java_import"
   ]
  },
  {
   "cell_type": "code",
   "execution_count": 2,
   "metadata": {
    "ExecuteTime": {
     "end_time": "2020-11-03T12:38:32.918501Z",
     "start_time": "2020-11-03T12:38:28.414551Z"
    }
   },
   "outputs": [],
   "source": [
    "spark = (\n",
    "    SparkSession.builder.appName(\"test\")\n",
    "    .config(\"spark.sql.sources.partitionOverwriteMode\", \"static\")\n",
    "    .config(\"spark.sql.caseSensitive\", \"true\")\n",
    "    .config(\"spark.driver.extraJavaOptions\", \"-Duser.timezone=GMT\")\n",
    "    .config(\"spark.executor.extraJavaOptions\", \"-Duser.timezone=GMT\")\n",
    "    .config(\"spark.sql.session.timeZone\", \"UTC\")\n",
    "    .getOrCreate()\n",
    ")"
   ]
  },
  {
   "cell_type": "code",
   "execution_count": 3,
   "metadata": {
    "ExecuteTime": {
     "end_time": "2020-11-03T12:38:34.779593Z",
     "start_time": "2020-11-03T12:38:32.919469Z"
    }
   },
   "outputs": [],
   "source": [
    "sdf = spark.read.parquet(\"data/dataset_3\")"
   ]
  },
  {
   "cell_type": "markdown",
   "metadata": {},
   "source": [
    "# 1. Python\n",
    "## 1.1. Python library"
   ]
  },
  {
   "cell_type": "code",
   "execution_count": 4,
   "metadata": {
    "ExecuteTime": {
     "end_time": "2020-11-03T12:38:34.802598Z",
     "start_time": "2020-11-03T12:38:34.781595Z"
    }
   },
   "outputs": [
    {
     "data": {
      "text/plain": [
       "'88754e6499fffff'"
      ]
     },
     "execution_count": 4,
     "metadata": {},
     "output_type": "execute_result"
    }
   ],
   "source": [
    "import h3\n",
    "h3.geo_to_h3(0, 0, 8)"
   ]
  },
  {
   "cell_type": "markdown",
   "metadata": {},
   "source": [
    "## 1.2. Python udf"
   ]
  },
  {
   "cell_type": "code",
   "execution_count": 5,
   "metadata": {
    "ExecuteTime": {
     "end_time": "2020-11-03T12:38:34.809596Z",
     "start_time": "2020-11-03T12:38:34.804595Z"
    }
   },
   "outputs": [],
   "source": [
    "@F.udf(T.StringType())\n",
    "def geo_to_h3_py(latitude, longitude, resolution):\n",
    "    if latitude is None or longitude is None:\n",
    "        return None\n",
    "    \n",
    "    return h3.geo_to_h3(latitude, longitude, resolution)"
   ]
  },
  {
   "cell_type": "code",
   "execution_count": 6,
   "metadata": {
    "ExecuteTime": {
     "end_time": "2020-11-03T12:38:36.743825Z",
     "start_time": "2020-11-03T12:38:34.811597Z"
    }
   },
   "outputs": [
    {
     "name": "stdout",
     "output_type": "stream",
     "text": [
      "+-------------------+-------------------+---------------+\n",
      "|           latitude|          longitude|             h8|\n",
      "+-------------------+-------------------+---------------+\n",
      "|-21.312207074342027| -160.0670321180626|88b4ee4e09fffff|\n",
      "|  50.19929821057201| 162.28091785280452|8816a9480bfffff|\n",
      "|  41.31619353494014|-126.25339414248694|88280e8c45fffff|\n",
      "|  80.74685363258044| -146.7956606121309|880385740bfffff|\n",
      "| 61.132119913605635| 3.9118133429158206|8809aad433fffff|\n",
      "|   78.3401760559614|-106.11650754917403|880203b86dfffff|\n",
      "| -58.54991587056003| 113.45900052031868|88e5a820d5fffff|\n",
      "| -42.03748505685331|-161.50714721056474|88d4c6d5c3fffff|\n",
      "|   68.6213813476812|  19.86834445821239|8808e89a8dfffff|\n",
      "|  59.85531571059457|   5.23330694280304|8809802217fffff|\n",
      "|-23.319622712468345|-21.532138804100356|88a4463b33fffff|\n",
      "|  -33.4208833127299|-3.1036409270136858|88c15ba897fffff|\n",
      "|  64.17563826776947| -9.793711461081045|88076481c1fffff|\n",
      "| 21.269421204176865|-44.992039917657564|8857b671b7fffff|\n",
      "|  36.02039510454351|-46.832739778220656|883b72561dfffff|\n",
      "|  -23.5383157139006|  92.46971113508823|88ae2674c7fffff|\n",
      "| -68.88826318186281|   71.6640547110515|88e120d547fffff|\n",
      "| -33.39705539022435|  -71.1176870849596|88b2c42ce5fffff|\n",
      "|-15.847444419001178|  153.9199400123037|889da0289dfffff|\n",
      "|  5.497578119186002| 54.029350818202374|8862b3340dfffff|\n",
      "+-------------------+-------------------+---------------+\n",
      "only showing top 20 rows\n",
      "\n"
     ]
    }
   ],
   "source": [
    "(\n",
    "    sdf\n",
    "    .withColumn(\"h8\", geo_to_h3_py(\"latitude\", \"longitude\", F.lit(8)))\n",
    "    .show()\n",
    ")"
   ]
  },
  {
   "cell_type": "markdown",
   "metadata": {},
   "source": [
    "# 2. Java\n",
    "## 2.1. Java function"
   ]
  },
  {
   "cell_type": "code",
   "execution_count": 7,
   "metadata": {
    "ExecuteTime": {
     "end_time": "2020-11-03T12:38:36.787801Z",
     "start_time": "2020-11-03T12:38:36.744798Z"
    }
   },
   "outputs": [
    {
     "data": {
      "text/plain": [
       "'88754e6499fffff'"
      ]
     },
     "execution_count": 7,
     "metadata": {},
     "output_type": "execute_result"
    }
   ],
   "source": [
    "# Using h3 library\n",
    "h3 = spark.sparkContext._jvm.com.uber.h3core.H3Core.newInstance()\n",
    "h3.geoToH3Address(0.0, 0.0, 8)"
   ]
  },
  {
   "cell_type": "code",
   "execution_count": 8,
   "metadata": {
    "ExecuteTime": {
     "end_time": "2020-11-03T12:38:36.798802Z",
     "start_time": "2020-11-03T12:38:36.789800Z"
    }
   },
   "outputs": [
    {
     "data": {
      "text/plain": [
       "'88754e6499fffff'"
      ]
     },
     "execution_count": 8,
     "metadata": {},
     "output_type": "execute_result"
    }
   ],
   "source": [
    "# Using our static function\n",
    "spark.sparkContext._jvm.com.villoro.SimpleH3.toH3Address(0.0, 0.0, 8)"
   ]
  },
  {
   "cell_type": "markdown",
   "metadata": {
    "ExecuteTime": {
     "end_time": "2020-11-03T09:23:56.741837Z",
     "start_time": "2020-11-03T09:23:56.737814Z"
    }
   },
   "source": [
    "## 2.2. Java udf"
   ]
  },
  {
   "cell_type": "code",
   "execution_count": 9,
   "metadata": {
    "ExecuteTime": {
     "end_time": "2020-11-03T12:38:36.815800Z",
     "start_time": "2020-11-03T12:38:36.801803Z"
    }
   },
   "outputs": [],
   "source": [
    "spark.udf.registerJavaFunction(\"geo_to_h3\", \"com.villoro.toH3AddressUDF\", T.StringType())"
   ]
  },
  {
   "cell_type": "code",
   "execution_count": 10,
   "metadata": {
    "ExecuteTime": {
     "end_time": "2020-11-03T12:38:37.214392Z",
     "start_time": "2020-11-03T12:38:36.817802Z"
    }
   },
   "outputs": [
    {
     "name": "stdout",
     "output_type": "stream",
     "text": [
      "+-------------------+-------------------+---------------+\n",
      "|           latitude|          longitude|             h8|\n",
      "+-------------------+-------------------+---------------+\n",
      "|-21.312207074342027| -160.0670321180626|88b4ee4e09fffff|\n",
      "|  50.19929821057201| 162.28091785280452|8816a9480bfffff|\n",
      "|  41.31619353494014|-126.25339414248694|88280e8c45fffff|\n",
      "|  80.74685363258044| -146.7956606121309|880385740bfffff|\n",
      "| 61.132119913605635| 3.9118133429158206|8809aad433fffff|\n",
      "|   78.3401760559614|-106.11650754917403|880203b86dfffff|\n",
      "| -58.54991587056003| 113.45900052031868|88e5a820d5fffff|\n",
      "| -42.03748505685331|-161.50714721056474|88d4c6d5c3fffff|\n",
      "|   68.6213813476812|  19.86834445821239|8808e89a8dfffff|\n",
      "|  59.85531571059457|   5.23330694280304|8809802217fffff|\n",
      "|-23.319622712468345|-21.532138804100356|88a4463b33fffff|\n",
      "|  -33.4208833127299|-3.1036409270136858|88c15ba897fffff|\n",
      "|  64.17563826776947| -9.793711461081045|88076481c1fffff|\n",
      "| 21.269421204176865|-44.992039917657564|8857b671b7fffff|\n",
      "|  36.02039510454351|-46.832739778220656|883b72561dfffff|\n",
      "|  -23.5383157139006|  92.46971113508823|88ae2674c7fffff|\n",
      "| -68.88826318186281|   71.6640547110515|88e120d547fffff|\n",
      "| -33.39705539022435|  -71.1176870849596|88b2c42ce5fffff|\n",
      "|-15.847444419001178|  153.9199400123037|889da0289dfffff|\n",
      "|  5.497578119186002| 54.029350818202374|8862b3340dfffff|\n",
      "+-------------------+-------------------+---------------+\n",
      "only showing top 20 rows\n",
      "\n"
     ]
    }
   ],
   "source": [
    "(\n",
    "    sdf\n",
    "    .withColumn(\"h8\", F.expr(\"geo_to_h3(latitude, longitude, 8)\"))\n",
    "    .show()\n",
    ")"
   ]
  },
  {
   "cell_type": "code",
   "execution_count": null,
   "metadata": {},
   "outputs": [],
   "source": []
  }
 ],
 "metadata": {
  "kernelspec": {
   "display_name": "Python 3",
   "language": "python",
   "name": "python3"
  },
  "language_info": {
   "codemirror_mode": {
    "name": "ipython",
    "version": 3
   },
   "file_extension": ".py",
   "mimetype": "text/x-python",
   "name": "python",
   "nbconvert_exporter": "python",
   "pygments_lexer": "ipython3",
   "version": "3.7.6"
  }
 },
 "nbformat": 4,
 "nbformat_minor": 4
}
