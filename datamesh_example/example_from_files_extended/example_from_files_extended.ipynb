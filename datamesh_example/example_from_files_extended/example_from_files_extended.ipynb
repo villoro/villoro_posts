{
 "cells": [
  {
   "cell_type": "code",
   "execution_count": 1,
   "metadata": {
    "ExecuteTime": {
     "end_time": "2021-11-24T16:19:08.266971Z",
     "start_time": "2021-11-24T16:19:07.908256Z"
    }
   },
   "outputs": [],
   "source": [
    "from datetime import date\n",
    "\n",
    "from create_data import recreate_databases, create_tables\n",
    "from jobs.order_created import do\n",
    "from utils import get_spark_session"
   ]
  },
  {
   "cell_type": "code",
   "execution_count": 2,
   "metadata": {
    "ExecuteTime": {
     "end_time": "2021-11-24T16:19:12.177446Z",
     "start_time": "2021-11-24T16:19:08.268977Z"
    }
   },
   "outputs": [
    {
     "name": "stderr",
     "output_type": "stream",
     "text": [
      "2021-11-24 17:19:08.268 | INFO     | utils:get_spark_session:7 - Creating Spark Session\n"
     ]
    }
   ],
   "source": [
    "spark = get_spark_session()"
   ]
  },
  {
   "cell_type": "code",
   "execution_count": 3,
   "metadata": {
    "ExecuteTime": {
     "end_time": "2021-11-24T16:19:13.437435Z",
     "start_time": "2021-11-24T16:19:12.179210Z"
    }
   },
   "outputs": [
    {
     "name": "stderr",
     "output_type": "stream",
     "text": [
      "2021-11-24 17:19:12.180 | INFO     | create_data:recreate_databases:29 - Removing spark warehouse (path = 'spark-warehouse')\n",
      "2021-11-24 17:19:12.199 | INFO     | create_data:recreate_databases:33 - Creating database 'standardized_glovo_live'\n",
      "2021-11-24 17:19:13.356 | INFO     | create_data:recreate_databases:33 - Creating database 'mpcustomer_custom_events'\n",
      "2021-11-24 17:19:13.378 | INFO     | create_data:recreate_databases:33 - Creating database 'mpcustomer_screen_views'\n",
      "2021-11-24 17:19:13.397 | INFO     | create_data:recreate_databases:33 - Creating database 'enriched_custom_events'\n",
      "2021-11-24 17:19:13.413 | INFO     | create_data:recreate_databases:33 - Creating database 'enriched_screen_views'\n"
     ]
    }
   ],
   "source": [
    "recreate_databases(spark)"
   ]
  },
  {
   "cell_type": "code",
   "execution_count": 4,
   "metadata": {
    "ExecuteTime": {
     "end_time": "2021-11-24T16:19:35.085276Z",
     "start_time": "2021-11-24T16:19:13.439314Z"
    }
   },
   "outputs": [
    {
     "name": "stderr",
     "output_type": "stream",
     "text": [
      "2021-11-24 17:19:13.439 | INFO     | create_data:create_table:91 - Creating table 'standardized_glovo_live.cities'\n",
      "2021-11-24 17:19:17.876 | INFO     | create_data:create_table:91 - Creating table 'standardized_glovo_live.devices'\n",
      "2021-11-24 17:19:21.326 | INFO     | create_data:create_table:91 - Creating table 'standardized_glovo_live.orders'\n",
      "2021-11-24 17:19:24.836 | INFO     | create_data:create_table:91 - Creating table 'standardized_glovo_live.customer_subscriptions'\n",
      "2021-11-24 17:19:28.382 | INFO     | create_data:create_table:91 - Creating table 'standardized_glovo_live.customer_subscription_periods'\n",
      "2021-11-24 17:19:31.659 | INFO     | create_data:create_table:91 - Creating table 'mpcustomer_custom_events.order_created'\n"
     ]
    }
   ],
   "source": [
    "create_tables(spark)"
   ]
  },
  {
   "cell_type": "code",
   "execution_count": 5,
   "metadata": {
    "ExecuteTime": {
     "end_time": "2021-11-24T16:19:38.804887Z",
     "start_time": "2021-11-24T16:19:35.086286Z"
    }
   },
   "outputs": [
    {
     "name": "stderr",
     "output_type": "stream",
     "text": [
      "2021-11-24 17:19:35.087 | INFO     | loaders:load:30 - Loading 'mpcustomer_custom_events.order_created'\n",
      "2021-11-24 17:19:35.165 | INFO     | loaders:load:30 - Loading 'standardized_glovo_live.cities'\n",
      "2021-11-24 17:19:35.219 | INFO     | loaders:load:30 - Loading 'standardized_glovo_live.orders'\n",
      "2021-11-24 17:19:35.344 | INFO     | transformations.interfaces:_apply:13 - Applying transformation 'AddTimezone'\n",
      "2021-11-24 17:19:35.364 | INFO     | transformations.interfaces:_apply:13 - Applying transformation 'AddNumberOfOrders'\n",
      "2021-11-24 17:19:35.534 | INFO     | transformations.interfaces:_apply:13 - Applying transformation 'AddIsPrime'\n",
      "2021-11-24 17:19:35.595 | INFO     | writers:write:23 - Writting 'enriched_custom_events.order_created'\n"
     ]
    }
   ],
   "source": [
    "do(spark, exec_date=date(2021, 11, 19), n_days=3)"
   ]
  },
  {
   "cell_type": "markdown",
   "metadata": {},
   "source": [
    "# Show input"
   ]
  },
  {
   "cell_type": "code",
   "execution_count": 6,
   "metadata": {
    "ExecuteTime": {
     "end_time": "2021-11-24T16:19:38.992858Z",
     "start_time": "2021-11-24T16:19:38.806889Z"
    }
   },
   "outputs": [
    {
     "name": "stdout",
     "output_type": "stream",
     "text": [
      "+-----------------------+-----------+-------------------+---------------+\n",
      "|custom_attributes__city|customer_id|      creation_time|p_creation_date|\n",
      "+-----------------------+-----------+-------------------+---------------+\n",
      "|                    BCN|          1|2021-11-19 12:00:00|     2021-11-19|\n",
      "|                    BCN|          1|2021-11-18 08:00:00|     2021-11-18|\n",
      "|                    CAG|          2|2021-11-17 05:05:00|     2021-11-17|\n",
      "|                    CAG|          2|2021-11-01 07:29:00|     2021-11-01|\n",
      "+-----------------------+-----------+-------------------+---------------+\n",
      "\n"
     ]
    }
   ],
   "source": [
    "spark.table(\"mpcustomer_custom_events.order_created\").show()"
   ]
  },
  {
   "cell_type": "markdown",
   "metadata": {},
   "source": [
    "# Show outputs"
   ]
  },
  {
   "cell_type": "code",
   "execution_count": 7,
   "metadata": {
    "ExecuteTime": {
     "end_time": "2021-11-24T16:19:39.132857Z",
     "start_time": "2021-11-24T16:19:38.994876Z"
    }
   },
   "outputs": [
    {
     "name": "stdout",
     "output_type": "stream",
     "text": [
      "+-----------------------+-----------+-------------------+---------------+-------------+------------+----------------+--------+\n",
      "|custom_attributes__city|customer_id|      creation_time|p_creation_date|    time_zone|country_code|number_of_orders|is_prime|\n",
      "+-----------------------+-----------+-------------------+---------------+-------------+------------+----------------+--------+\n",
      "|                    BCN|          1|2021-11-19 12:00:00|     2021-11-19|Europe/Madrid|          ES|               2|   false|\n",
      "|                    BCN|          1|2021-11-18 08:00:00|     2021-11-18|Europe/Madrid|          ES|               2|   false|\n",
      "|                    CAG|          2|2021-11-17 05:05:00|     2021-11-17|  Europe/Rome|          IT|               1|    true|\n",
      "+-----------------------+-----------+-------------------+---------------+-------------+------------+----------------+--------+\n",
      "\n"
     ]
    }
   ],
   "source": [
    "spark.table(\"enriched_custom_events.order_created\").show()"
   ]
  }
 ],
 "metadata": {
  "kernelspec": {
   "display_name": "Python 3",
   "language": "python",
   "name": "python3"
  },
  "language_info": {
   "codemirror_mode": {
    "name": "ipython",
    "version": 3
   },
   "file_extension": ".py",
   "mimetype": "text/x-python",
   "name": "python",
   "nbconvert_exporter": "python",
   "pygments_lexer": "ipython3",
   "version": "3.7.6"
  }
 },
 "nbformat": 4,
 "nbformat_minor": 4
}
