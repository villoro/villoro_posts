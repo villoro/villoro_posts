{
 "cells": [
  {
   "cell_type": "code",
   "execution_count": 6,
   "metadata": {
    "ExecuteTime": {
     "end_time": "2019-12-21T09:13:13.336536Z",
     "start_time": "2019-12-21T09:13:13.327533Z"
    }
   },
   "outputs": [],
   "source": [
    "import plotly.express as px\n",
    "import h2o\n",
    "from h2o.automl import H2OAutoML, get_leaderboard"
   ]
  },
  {
   "cell_type": "code",
   "execution_count": 3,
   "metadata": {
    "ExecuteTime": {
     "end_time": "2019-12-21T09:11:52.021144Z",
     "start_time": "2019-12-21T09:11:13.694817Z"
    }
   },
   "outputs": [
    {
     "name": "stdout",
     "output_type": "stream",
     "text": [
      "Connecting to H2O server at http://192.168.1.139:54321 ... successful.\n"
     ]
    },
    {
     "data": {
      "text/html": [
       "<div style=\"overflow:auto\"><table style=\"width:50%\"><tr><td>H2O cluster uptime:</td>\n",
       "<td>33 secs</td></tr>\n",
       "<tr><td>H2O cluster timezone:</td>\n",
       "<td>Europe/Paris</td></tr>\n",
       "<tr><td>H2O data parsing timezone:</td>\n",
       "<td>UTC</td></tr>\n",
       "<tr><td>H2O cluster version:</td>\n",
       "<td>3.28.0.1</td></tr>\n",
       "<tr><td>H2O cluster version age:</td>\n",
       "<td>4 days </td></tr>\n",
       "<tr><td>H2O cluster name:</td>\n",
       "<td>sparkling-water-Villoro_local-1576919476961</td></tr>\n",
       "<tr><td>H2O cluster total nodes:</td>\n",
       "<td>1</td></tr>\n",
       "<tr><td>H2O cluster free memory:</td>\n",
       "<td>905 Mb</td></tr>\n",
       "<tr><td>H2O cluster total cores:</td>\n",
       "<td>4</td></tr>\n",
       "<tr><td>H2O cluster allowed cores:</td>\n",
       "<td>4</td></tr>\n",
       "<tr><td>H2O cluster status:</td>\n",
       "<td>accepting new members, healthy</td></tr>\n",
       "<tr><td>H2O connection url:</td>\n",
       "<td>http://192.168.1.139:54321</td></tr>\n",
       "<tr><td>H2O connection proxy:</td>\n",
       "<td>None</td></tr>\n",
       "<tr><td>H2O internal security:</td>\n",
       "<td>False</td></tr>\n",
       "<tr><td>H2O API Extensions:</td>\n",
       "<td>Algos, Amazon S3, AutoML, Core V3, TargetEncoder, Core V4</td></tr>\n",
       "<tr><td>Python version:</td>\n",
       "<td>3.7.3 final</td></tr></table></div>"
      ],
      "text/plain": [
       "--------------------------  ---------------------------------------------------------\n",
       "H2O cluster uptime:         33 secs\n",
       "H2O cluster timezone:       Europe/Paris\n",
       "H2O data parsing timezone:  UTC\n",
       "H2O cluster version:        3.28.0.1\n",
       "H2O cluster version age:    4 days\n",
       "H2O cluster name:           sparkling-water-Villoro_local-1576919476961\n",
       "H2O cluster total nodes:    1\n",
       "H2O cluster free memory:    905 Mb\n",
       "H2O cluster total cores:    4\n",
       "H2O cluster allowed cores:  4\n",
       "H2O cluster status:         accepting new members, healthy\n",
       "H2O connection url:         http://192.168.1.139:54321\n",
       "H2O connection proxy:\n",
       "H2O internal security:      False\n",
       "H2O API Extensions:         Algos, Amazon S3, AutoML, Core V3, TargetEncoder, Core V4\n",
       "Python version:             3.7.3 final\n",
       "--------------------------  ---------------------------------------------------------"
      ]
     },
     "metadata": {},
     "output_type": "display_data"
    },
    {
     "name": "stdout",
     "output_type": "stream",
     "text": [
      "\n",
      "Sparkling Water Context:\n",
      " * Sparkling Water Version: 3.28.0.1-1-2.4\n",
      " * H2O name: sparkling-water-Villoro_local-1576919476961\n",
      " * cluster size: 1\n",
      " * list of used nodes:\n",
      "  (executorId, host, port)\n",
      "  ------------------------\n",
      "  (driver,192.168.1.139,54321)\n",
      "  ------------------------\n",
      "\n",
      "  Open H2O Flow in browser: http://192.168.1.139:54321 (CMD + click in Mac OSX)\n",
      "\n",
      "    \n"
     ]
    }
   ],
   "source": [
    "from pyspark.sql import SparkSession\n",
    "from pysparkling import H2OContext\n",
    "\n",
    "spark = SparkSession.builder.appName(\"h2o_auto_ml\").getOrCreate()\n",
    "hc = H2OContext.getOrCreate(spark)"
   ]
  },
  {
   "cell_type": "code",
   "execution_count": 4,
   "metadata": {
    "ExecuteTime": {
     "end_time": "2019-12-21T09:12:43.774167Z",
     "start_time": "2019-12-21T09:12:24.892306Z"
    }
   },
   "outputs": [
    {
     "name": "stdout",
     "output_type": "stream",
     "text": [
      "Parse progress: |█████████████████████████████████████████████████████████| 100%\n",
      "Parse progress: |█████████████████████████████████████████████████████████| 100%\n"
     ]
    }
   ],
   "source": [
    "# Import a sample binary outcome train/test set into H2O\n",
    "train = h2o.import_file(\"https://s3.amazonaws.com/erin-data/higgs/higgs_train_10k.csv\")\n",
    "test = h2o.import_file(\"https://s3.amazonaws.com/erin-data/higgs/higgs_test_5k.csv\")\n",
    "\n",
    "# Identify predictors and response\n",
    "x = train.columns\n",
    "y = \"response\"\n",
    "x.remove(y)\n",
    "\n",
    "# For binary classification, response should be a factor\n",
    "train[y] = train[y].asfactor()\n",
    "test[y] = test[y].asfactor()"
   ]
  },
  {
   "cell_type": "code",
   "execution_count": 7,
   "metadata": {
    "ExecuteTime": {
     "end_time": "2019-12-21T09:15:27.633864Z",
     "start_time": "2019-12-21T09:13:16.216348Z"
    }
   },
   "outputs": [
    {
     "name": "stdout",
     "output_type": "stream",
     "text": [
      "AutoML progress: |\n",
      "10:13:16.533: AutoML: XGBoost is not available; skipping it.\n",
      "\n",
      "████████████████████████████████████████████████████████| 100%\n"
     ]
    }
   ],
   "source": [
    "# Run AutoML for 20 base models (limited to 1 hour max runtime by default)\n",
    "aml = H2OAutoML(max_models=20, seed=1, max_runtime_secs=2*60)\n",
    "aml.train(x=x, y=y, training_frame=train, validation_frame=test)"
   ]
  },
  {
   "cell_type": "code",
   "execution_count": 8,
   "metadata": {
    "ExecuteTime": {
     "end_time": "2019-12-21T09:15:32.438680Z",
     "start_time": "2019-12-21T09:15:27.635840Z"
    }
   },
   "outputs": [
    {
     "data": {
      "text/html": [
       "<table>\n",
       "<thead>\n",
       "<tr><th>model_id                                           </th><th style=\"text-align: right;\">     auc</th><th style=\"text-align: right;\">  logloss</th><th style=\"text-align: right;\">   aucpr</th><th style=\"text-align: right;\">  mean_per_class_error</th><th style=\"text-align: right;\">    rmse</th><th style=\"text-align: right;\">     mse</th><th style=\"text-align: right;\">  training_time_ms</th><th style=\"text-align: right;\">  predict_time_per_row_ms</th></tr>\n",
       "</thead>\n",
       "<tbody>\n",
       "<tr><td>StackedEnsemble_AllModels_AutoML_20191221_101316   </td><td style=\"text-align: right;\">0.786824</td><td style=\"text-align: right;\"> 0.555233</td><td style=\"text-align: right;\">0.80447 </td><td style=\"text-align: right;\">              0.327633</td><td style=\"text-align: right;\">0.433842</td><td style=\"text-align: right;\">0.188219</td><td style=\"text-align: right;\">              4184</td><td style=\"text-align: right;\">                 0.186112</td></tr>\n",
       "<tr><td>StackedEnsemble_BestOfFamily_AutoML_20191221_101316</td><td style=\"text-align: right;\">0.783778</td><td style=\"text-align: right;\"> 0.557955</td><td style=\"text-align: right;\">0.800885</td><td style=\"text-align: right;\">              0.330846</td><td style=\"text-align: right;\">0.435154</td><td style=\"text-align: right;\">0.189359</td><td style=\"text-align: right;\">              2937</td><td style=\"text-align: right;\">                 0.083792</td></tr>\n",
       "<tr><td>GBM_5_AutoML_20191221_101316                       </td><td style=\"text-align: right;\">0.780876</td><td style=\"text-align: right;\"> 0.559708</td><td style=\"text-align: right;\">0.797893</td><td style=\"text-align: right;\">              0.325399</td><td style=\"text-align: right;\">0.436083</td><td style=\"text-align: right;\">0.190168</td><td style=\"text-align: right;\">              1126</td><td style=\"text-align: right;\">                 0.020318</td></tr>\n",
       "<tr><td>GBM_1_AutoML_20191221_101316                       </td><td style=\"text-align: right;\">0.779014</td><td style=\"text-align: right;\"> 0.56159 </td><td style=\"text-align: right;\">0.79655 </td><td style=\"text-align: right;\">              0.326532</td><td style=\"text-align: right;\">0.437003</td><td style=\"text-align: right;\">0.190971</td><td style=\"text-align: right;\">               924</td><td style=\"text-align: right;\">                 0.017218</td></tr>\n",
       "<tr><td>GBM_2_AutoML_20191221_101316                       </td><td style=\"text-align: right;\">0.778302</td><td style=\"text-align: right;\"> 0.561527</td><td style=\"text-align: right;\">0.796277</td><td style=\"text-align: right;\">              0.328198</td><td style=\"text-align: right;\">0.437199</td><td style=\"text-align: right;\">0.191143</td><td style=\"text-align: right;\">               864</td><td style=\"text-align: right;\">                 0.017638</td></tr>\n",
       "<tr><td>GBM_3_AutoML_20191221_101316                       </td><td style=\"text-align: right;\">0.776381</td><td style=\"text-align: right;\"> 0.563906</td><td style=\"text-align: right;\">0.793262</td><td style=\"text-align: right;\">              0.327534</td><td style=\"text-align: right;\">0.438274</td><td style=\"text-align: right;\">0.192084</td><td style=\"text-align: right;\">               968</td><td style=\"text-align: right;\">                 0.019871</td></tr>\n",
       "<tr><td>GBM_4_AutoML_20191221_101316                       </td><td style=\"text-align: right;\">0.770768</td><td style=\"text-align: right;\"> 0.570912</td><td style=\"text-align: right;\">0.790312</td><td style=\"text-align: right;\">              0.3517  </td><td style=\"text-align: right;\">0.441681</td><td style=\"text-align: right;\">0.195082</td><td style=\"text-align: right;\">              1154</td><td style=\"text-align: right;\">                 0.020297</td></tr>\n",
       "<tr><td>DRF_1_AutoML_20191221_101316                       </td><td style=\"text-align: right;\">0.765142</td><td style=\"text-align: right;\"> 0.580246</td><td style=\"text-align: right;\">0.78327 </td><td style=\"text-align: right;\">              0.339003</td><td style=\"text-align: right;\">0.445292</td><td style=\"text-align: right;\">0.198285</td><td style=\"text-align: right;\">              3154</td><td style=\"text-align: right;\">                 0.028869</td></tr>\n",
       "<tr><td>XRT_1_AutoML_20191221_101316                       </td><td style=\"text-align: right;\">0.765105</td><td style=\"text-align: right;\"> 0.582172</td><td style=\"text-align: right;\">0.783015</td><td style=\"text-align: right;\">              0.350222</td><td style=\"text-align: right;\">0.446013</td><td style=\"text-align: right;\">0.198928</td><td style=\"text-align: right;\">              3757</td><td style=\"text-align: right;\">                 0.030579</td></tr>\n",
       "<tr><td>GBM_grid__1_AutoML_20191221_101316_model_1         </td><td style=\"text-align: right;\">0.761366</td><td style=\"text-align: right;\"> 0.639299</td><td style=\"text-align: right;\">0.778889</td><td style=\"text-align: right;\">              0.335055</td><td style=\"text-align: right;\">0.472759</td><td style=\"text-align: right;\">0.223501</td><td style=\"text-align: right;\">              4013</td><td style=\"text-align: right;\">                 0.027509</td></tr>\n",
       "<tr><td>DeepLearning_1_AutoML_20191221_101316              </td><td style=\"text-align: right;\">0.696407</td><td style=\"text-align: right;\"> 0.639398</td><td style=\"text-align: right;\">0.703137</td><td style=\"text-align: right;\">              0.393925</td><td style=\"text-align: right;\">0.472181</td><td style=\"text-align: right;\">0.222954</td><td style=\"text-align: right;\">               985</td><td style=\"text-align: right;\">                 0.004855</td></tr>\n",
       "<tr><td>GLM_1_AutoML_20191221_101316                       </td><td style=\"text-align: right;\">0.682643</td><td style=\"text-align: right;\"> 0.63852 </td><td style=\"text-align: right;\">0.680336</td><td style=\"text-align: right;\">              0.397234</td><td style=\"text-align: right;\">0.472683</td><td style=\"text-align: right;\">0.223429</td><td style=\"text-align: right;\">               317</td><td style=\"text-align: right;\">                 0.001464</td></tr>\n",
       "</tbody>\n",
       "</table>"
      ]
     },
     "metadata": {},
     "output_type": "display_data"
    },
    {
     "data": {
      "text/plain": []
     },
     "execution_count": 8,
     "metadata": {},
     "output_type": "execute_result"
    }
   ],
   "source": [
    "# Optionally add extra model information to the leaderboard\n",
    "lb = get_leaderboard(aml, extra_columns='ALL')\n",
    "\n",
    "# Print all rows (instead of default 10 rows)\n",
    "lb.head(rows=lb.nrows)"
   ]
  },
  {
   "cell_type": "code",
   "execution_count": null,
   "metadata": {},
   "outputs": [],
   "source": []
  }
 ],
 "metadata": {
  "kernelspec": {
   "display_name": "Python 3",
   "language": "python",
   "name": "python3"
  },
  "language_info": {
   "codemirror_mode": {
    "name": "ipython",
    "version": 3
   },
   "file_extension": ".py",
   "mimetype": "text/x-python",
   "name": "python",
   "nbconvert_exporter": "python",
   "pygments_lexer": "ipython3",
   "version": "3.7.3"
  }
 },
 "nbformat": 4,
 "nbformat_minor": 2
}
