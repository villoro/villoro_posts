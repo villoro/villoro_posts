{
 "cells": [
  {
   "cell_type": "code",
   "execution_count": 3,
   "metadata": {},
   "outputs": [],
   "source": [
    "import re"
   ]
  },
  {
   "cell_type": "markdown",
   "metadata": {},
   "source": [
    "# 1. Regex basics"
   ]
  },
  {
   "cell_type": "code",
   "execution_count": 24,
   "metadata": {},
   "outputs": [
    {
     "name": "stdout",
     "output_type": "stream",
     "text": [
      "0 5 True\n"
     ]
    }
   ],
   "source": [
    "out = re.match(r\"hello\", \"hello world\")\n",
    "\n",
    "print(\n",
    "    out.start(),\n",
    "    out.end(),\n",
    "    bool(out)\n",
    ")"
   ]
  },
  {
   "cell_type": "code",
   "execution_count": 17,
   "metadata": {},
   "outputs": [
    {
     "name": "stdout",
     "output_type": "stream",
     "text": [
      "hello world \tFound: True\n",
      "bye world \tFound: False\n"
     ]
    }
   ],
   "source": [
    "regex = r\"hello\"\n",
    "\n",
    "for text in [\"hello world\", \"bye world\"]:\n",
    "    out = re.match(regex, text)\n",
    "    \n",
    "    print(text, \"\\tFound:\", bool(out))"
   ]
  },
  {
   "cell_type": "markdown",
   "metadata": {},
   "source": [
    "## 1.1. `match` vs `search`"
   ]
  },
  {
   "cell_type": "code",
   "execution_count": 30,
   "metadata": {},
   "outputs": [
    {
     "name": "stdout",
     "output_type": "stream",
     "text": [
      "True\n",
      "False\n",
      "False\n",
      "True\n",
      "True\n",
      "True\n"
     ]
    }
   ],
   "source": [
    "text = \"\"\"hello world\n",
    "bye world\"\"\"\n",
    "\n",
    "print(bool(re.match(r\"hello\", text)))\n",
    "print(bool(re.match(r\"world\", text)))\n",
    "print(bool(re.match(r\"bye\", text)))\n",
    "\n",
    "print(bool(re.search(r\"hello\", text)))\n",
    "print(bool(re.search(r\"world\", text)))\n",
    "print(bool(re.search(r\"bye\", text)))"
   ]
  },
  {
   "cell_type": "markdown",
   "metadata": {},
   "source": [
    "## 1.2. `re.compile`"
   ]
  },
  {
   "cell_type": "code",
   "execution_count": 31,
   "metadata": {},
   "outputs": [
    {
     "name": "stdout",
     "output_type": "stream",
     "text": [
      "857 ns ± 21 ns per loop (mean ± std. dev. of 7 runs, 1000000 loops each)\n"
     ]
    }
   ],
   "source": [
    "%timeit re.match(r\"hello\", \"hello world\")"
   ]
  },
  {
   "cell_type": "code",
   "execution_count": 32,
   "metadata": {},
   "outputs": [],
   "source": [
    "regex = re.compile(r\"hello\")"
   ]
  },
  {
   "cell_type": "code",
   "execution_count": 33,
   "metadata": {},
   "outputs": [
    {
     "name": "stdout",
     "output_type": "stream",
     "text": [
      "334 ns ± 7.9 ns per loop (mean ± std. dev. of 7 runs, 1000000 loops each)\n"
     ]
    }
   ],
   "source": [
    "%timeit regex.match(\"hello world\")"
   ]
  },
  {
   "cell_type": "markdown",
   "metadata": {},
   "source": [
    "## 1.3. Groups"
   ]
  },
  {
   "cell_type": "code",
   "execution_count": 54,
   "metadata": {},
   "outputs": [],
   "source": [
    "filenames = [\n",
    "    \"Informe mensual Indexa Capital - AABBCCDD - 2020-01.pdf\",\n",
    "    \"Informe mensual Indexa Capital - XXYYZZWW - 2020-01.pdf\",\n",
    "    \"Informe mensual Indexa Capital - AABBCCDD - 2021-03.pdf\",\n",
    "    \"Informe mensual Indexa Capital - XXYYZZWW - 2020-12.pdf\",\n",
    "]"
   ]
  },
  {
   "cell_type": "markdown",
   "metadata": {},
   "source": [
    "### 1.3.1. Unnamed groups"
   ]
  },
  {
   "cell_type": "code",
   "execution_count": 55,
   "metadata": {},
   "outputs": [],
   "source": [
    "regex = re.compile(r\"Informe mensual Indexa Capital - (\\w{8}) - (\\d{4})-(\\d{2}).pdf\")"
   ]
  },
  {
   "cell_type": "code",
   "execution_count": 56,
   "metadata": {},
   "outputs": [
    {
     "data": {
      "text/plain": [
       "('AABBCCDD', '2020', '01')"
      ]
     },
     "execution_count": 56,
     "metadata": {},
     "output_type": "execute_result"
    }
   ],
   "source": [
    "out = regex.match(filenames[0])\n",
    "out.groups()"
   ]
  },
  {
   "cell_type": "markdown",
   "metadata": {},
   "source": [
    "### 1.3.2. Named groups"
   ]
  },
  {
   "cell_type": "code",
   "execution_count": 57,
   "metadata": {},
   "outputs": [],
   "source": [
    "regex = re.compile(r\"Informe mensual Indexa Capital - (?P<account>\\w{8}) - (?P<year>\\d{4})-(?P<month>\\d{2}).pdf\")"
   ]
  },
  {
   "cell_type": "code",
   "execution_count": 58,
   "metadata": {},
   "outputs": [
    {
     "data": {
      "text/plain": [
       "{'account': 'XXYYZZWW', 'year': '2020', 'month': '01'}"
      ]
     },
     "execution_count": 58,
     "metadata": {},
     "output_type": "execute_result"
    }
   ],
   "source": [
    "out = regex.match(filenames[1])\n",
    "out.groupdict()"
   ]
  },
  {
   "cell_type": "markdown",
   "metadata": {},
   "source": [
    "### 1.3.3. Using named groups"
   ]
  },
  {
   "cell_type": "code",
   "execution_count": 63,
   "metadata": {},
   "outputs": [],
   "source": [
    "out_pattern = \"{year}_{month} Indexa capital {account}.pdf\""
   ]
  },
  {
   "cell_type": "code",
   "execution_count": 64,
   "metadata": {},
   "outputs": [
    {
     "name": "stdout",
     "output_type": "stream",
     "text": [
      "Informe mensual Indexa Capital - AABBCCDD - 2020-01.pdf \n",
      "- 2020_01 Indexa capital AABBCCDD.pdf \n",
      "\n",
      "Informe mensual Indexa Capital - XXYYZZWW - 2020-01.pdf \n",
      "- 2020_01 Indexa capital XXYYZZWW.pdf \n",
      "\n",
      "Informe mensual Indexa Capital - AABBCCDD - 2021-03.pdf \n",
      "- 2021_03 Indexa capital AABBCCDD.pdf \n",
      "\n",
      "Informe mensual Indexa Capital - XXYYZZWW - 2020-12.pdf \n",
      "- 2020_12 Indexa capital XXYYZZWW.pdf \n",
      "\n"
     ]
    }
   ],
   "source": [
    "for filename in filenames:\n",
    "    groups = regex.match(filename).groupdict()\n",
    "    new_name = out_pattern.format(**groups)\n",
    "    \n",
    "    print(filename, \"\\n-\", new_name, \"\\n\")"
   ]
  },
  {
   "cell_type": "markdown",
   "metadata": {},
   "source": [
    "# 2. Pandas"
   ]
  },
  {
   "cell_type": "code",
   "execution_count": 65,
   "metadata": {},
   "outputs": [],
   "source": [
    "import pandas as pd"
   ]
  },
  {
   "cell_type": "code",
   "execution_count": null,
   "metadata": {},
   "outputs": [],
   "source": [
    "re."
   ]
  }
 ],
 "metadata": {
  "kernelspec": {
   "display_name": "Python 3",
   "language": "python",
   "name": "python3"
  },
  "language_info": {
   "codemirror_mode": {
    "name": "ipython",
    "version": 3
   },
   "file_extension": ".py",
   "mimetype": "text/x-python",
   "name": "python",
   "nbconvert_exporter": "python",
   "pygments_lexer": "ipython3",
   "version": "3.7.7"
  }
 },
 "nbformat": 4,
 "nbformat_minor": 4
}
