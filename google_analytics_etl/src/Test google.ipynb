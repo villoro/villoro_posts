{
 "cells": [
  {
   "cell_type": "code",
   "execution_count": 1,
   "metadata": {},
   "outputs": [],
   "source": [
    "from datetime import date, timedelta\n",
    "from time import time\n",
    "\n",
    "import pandas as pd\n",
    "\n",
    "from apiclient.discovery import build\n",
    "from oauth2client.service_account import ServiceAccountCredentials\n",
    "\n",
    "import constants as c\n",
    "import utilities as u"
   ]
  },
  {
   "cell_type": "code",
   "execution_count": 2,
   "metadata": {},
   "outputs": [],
   "source": [
    "%load_ext autoreload\n",
    "%autoreload 2"
   ]
  },
  {
   "cell_type": "code",
   "execution_count": 12,
   "metadata": {},
   "outputs": [],
   "source": [
    "def get_ga_service(key_file_location=None):\n",
    "    \"\"\" Connect to GA API service\"\"\"\n",
    "\n",
    "    if key_file_location is None:\n",
    "        key_file_location = c.FILE_GA_KEY\n",
    "\n",
    "    scope = \"https://www.googleapis.com/auth/analytics.readonly\"\n",
    "\n",
    "    credentials = ServiceAccountCredentials.from_json_keyfile_name(\n",
    "        key_file_location, scopes=[scope]\n",
    "    )\n",
    "\n",
    "    # Build the service object.\n",
    "    return build(\"analytics\", \"v3\", credentials=credentials)"
   ]
  },
  {
   "cell_type": "code",
   "execution_count": 13,
   "metadata": {},
   "outputs": [],
   "source": [
    "service = get_ga_service()"
   ]
  },
  {
   "cell_type": "code",
   "execution_count": 14,
   "metadata": {},
   "outputs": [],
   "source": [
    "end=date.today()"
   ]
  },
  {
   "cell_type": "code",
   "execution_count": 17,
   "metadata": {},
   "outputs": [],
   "source": [
    "dimensions = [\"ga:date\", \"ga:deviceCategory\"]\n",
    "metrics = [\"ga:users\", \"ga:sessions\"]\n",
    "\n",
    "start = end - timedelta(c.TIMEWINDOW)\n",
    "\n",
    "# Query the API\n",
    "kwa = {\n",
    "    \"ids\": \"ga:{}\".format(c.PROFILE),\n",
    "    \"start_date\": \"{:%Y-%m-%d}\".format(start),\n",
    "    \"end_date\": \"{:%Y-%m-%d}\".format(end),\n",
    "    \"metrics\": \",\".join(metrics),\n",
    "    \"dimensions\": \",\".join(dimensions),\n",
    "    \"max_results\": c.MAX_RESULTS,\n",
    "}\n",
    "data = service.data().ga().get(**kwa).execute()"
   ]
  },
  {
   "cell_type": "code",
   "execution_count": 18,
   "metadata": {},
   "outputs": [
    {
     "data": {
      "text/plain": [
       "{'kind': 'analytics#gaData',\n",
       " 'id': 'https://www.googleapis.com/analytics/v3/data/ga?ids=ga:172116641&dimensions=ga:date,ga:deviceCategory&metrics=ga:users,ga:sessions&start-date=2019-06-03&end-date=2019-06-10&max-results=100000',\n",
       " 'query': {'start-date': '2019-06-03',\n",
       "  'end-date': '2019-06-10',\n",
       "  'ids': 'ga:172116641',\n",
       "  'dimensions': 'ga:date,ga:deviceCategory',\n",
       "  'metrics': ['ga:users', 'ga:sessions'],\n",
       "  'start-index': 1,\n",
       "  'max-results': 10000},\n",
       " 'itemsPerPage': 10000,\n",
       " 'totalResults': 13,\n",
       " 'selfLink': 'https://www.googleapis.com/analytics/v3/data/ga?ids=ga:172116641&dimensions=ga:date,ga:deviceCategory&metrics=ga:users,ga:sessions&start-date=2019-06-03&end-date=2019-06-10&max-results=100000',\n",
       " 'profileInfo': {'profileId': '172116641',\n",
       "  'accountId': '116253568',\n",
       "  'webPropertyId': 'UA-116253568-1',\n",
       "  'internalWebPropertyId': '172623998',\n",
       "  'profileName': 'Totes les dades de llocs web',\n",
       "  'tableId': 'ga:172116641'},\n",
       " 'containsSampledData': False,\n",
       " 'columnHeaders': [{'name': 'ga:date',\n",
       "   'columnType': 'DIMENSION',\n",
       "   'dataType': 'STRING'},\n",
       "  {'name': 'ga:deviceCategory',\n",
       "   'columnType': 'DIMENSION',\n",
       "   'dataType': 'STRING'},\n",
       "  {'name': 'ga:users', 'columnType': 'METRIC', 'dataType': 'INTEGER'},\n",
       "  {'name': 'ga:sessions', 'columnType': 'METRIC', 'dataType': 'INTEGER'}],\n",
       " 'totalsForAllResults': {'ga:users': '23', 'ga:sessions': '26'},\n",
       " 'rows': [['20190603', 'desktop', '4', '5'],\n",
       "  ['20190603', 'mobile', '1', '1'],\n",
       "  ['20190604', 'desktop', '3', '3'],\n",
       "  ['20190604', 'mobile', '1', '1'],\n",
       "  ['20190605', 'desktop', '3', '3'],\n",
       "  ['20190605', 'mobile', '1', '1'],\n",
       "  ['20190606', 'desktop', '1', '2'],\n",
       "  ['20190606', 'tablet', '1', '1'],\n",
       "  ['20190607', 'mobile', '2', '2'],\n",
       "  ['20190608', 'desktop', '1', '1'],\n",
       "  ['20190608', 'mobile', '2', '2'],\n",
       "  ['20190609', 'desktop', '2', '3'],\n",
       "  ['20190609', 'mobile', '1', '1']]}"
      ]
     },
     "execution_count": 18,
     "metadata": {},
     "output_type": "execute_result"
    }
   ],
   "source": [
    "data"
   ]
  },
  {
   "cell_type": "code",
   "execution_count": null,
   "metadata": {},
   "outputs": [],
   "source": []
  }
 ],
 "metadata": {
  "kernelspec": {
   "display_name": "Python 3",
   "language": "python",
   "name": "python3"
  },
  "language_info": {
   "codemirror_mode": {
    "name": "ipython",
    "version": 3
   },
   "file_extension": ".py",
   "mimetype": "text/x-python",
   "name": "python",
   "nbconvert_exporter": "python",
   "pygments_lexer": "ipython3",
   "version": "3.7.3"
  }
 },
 "nbformat": 4,
 "nbformat_minor": 2
}
