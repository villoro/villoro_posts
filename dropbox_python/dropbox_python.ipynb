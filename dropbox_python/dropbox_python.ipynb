{
 "cells": [
  {
   "cell_type": "code",
   "execution_count": 1,
   "metadata": {},
   "outputs": [],
   "source": [
    "import io\n",
    "import yaml\n",
    "\n",
    "import dropbox\n",
    "import pandas as pd"
   ]
  },
  {
   "cell_type": "markdown",
   "metadata": {},
   "source": [
    "# 1. Init dropbox object\n",
    "In order to keep the **dropbox token** as secret we are storing it in a file that is in the `.gitignore`. This way it won't be shared"
   ]
  },
  {
   "cell_type": "code",
   "execution_count": 2,
   "metadata": {},
   "outputs": [],
   "source": [
    "with open(\"dropbox.secret\", \"r\") as file:\n",
    "    token = file.read()\n",
    "    \n",
    "DBX = dropbox.Dropbox(token)"
   ]
  },
  {
   "cell_type": "markdown",
   "metadata": {},
   "source": [
    "# 2. Writting files\n",
    "## 2.1. Write a text file"
   ]
  },
  {
   "cell_type": "code",
   "execution_count": 3,
   "metadata": {},
   "outputs": [],
   "source": [
    "txt = \"Hello World\"\n",
    "\n",
    "with io.BytesIO(txt.encode()) as stream:\n",
    "    stream.seek(0)\n",
    "\n",
    "    # Write a text file\n",
    "    DBX.files_upload(stream.read(), \"/test.txt\")"
   ]
  },
  {
   "cell_type": "markdown",
   "metadata": {},
   "source": [
    "## 2.2. Write a yaml"
   ]
  },
  {
   "cell_type": "code",
   "execution_count": 4,
   "metadata": {},
   "outputs": [],
   "source": [
    "data = {\"a\": 1, \"b\": \"hey\"}\n",
    "\n",
    "with io.StringIO() as stream:\n",
    "    yaml.dump(data, stream, default_flow_style=False)\n",
    "\n",
    "    stream.seek(0)\n",
    "\n",
    "    DBX.files_upload(stream.read().encode(), \"/test.yaml\")"
   ]
  },
  {
   "cell_type": "markdown",
   "metadata": {},
   "source": [
    "## 2.3. Write an Excel"
   ]
  },
  {
   "cell_type": "code",
   "execution_count": 5,
   "metadata": {},
   "outputs": [],
   "source": [
    "df = pd.DataFrame([range(5), list(\"ABCDE\")])\n",
    "\n",
    "with io.BytesIO() as stream:\n",
    "\n",
    "    with pd.ExcelWriter(stream) as writer:\n",
    "        df.to_excel(writer)\n",
    "        writer.save()\n",
    "    \n",
    "    stream.seek(0)\n",
    "\n",
    "    DBX.files_upload(stream.getvalue(), \"/test.xlsx\")"
   ]
  },
  {
   "cell_type": "markdown",
   "metadata": {},
   "source": [
    "# 3. Reading files\n",
    "## 3.1. Read a text file"
   ]
  },
  {
   "cell_type": "code",
   "execution_count": 6,
   "metadata": {},
   "outputs": [
    {
     "name": "stdout",
     "output_type": "stream",
     "text": [
      "Hello World\n"
     ]
    }
   ],
   "source": [
    "_, res = DBX.files_download(\"/test.txt\")\n",
    "\n",
    "with io.BytesIO(res.content) as stream:\n",
    "    txt = stream.read().decode()\n",
    "    \n",
    "print(txt)"
   ]
  },
  {
   "cell_type": "markdown",
   "metadata": {},
   "source": [
    "## 3.2. Read yaml"
   ]
  },
  {
   "cell_type": "code",
   "execution_count": 7,
   "metadata": {},
   "outputs": [
    {
     "data": {
      "text/plain": [
       "{'a': 1, 'b': 'hey'}"
      ]
     },
     "execution_count": 7,
     "metadata": {},
     "output_type": "execute_result"
    }
   ],
   "source": [
    "_, res = DBX.files_download(\"/test.yaml\")\n",
    "\n",
    "with io.BytesIO(res.content) as stream:\n",
    "    data = yaml.safe_load(stream)\n",
    "\n",
    "data"
   ]
  },
  {
   "cell_type": "markdown",
   "metadata": {},
   "source": [
    "## 3.3. Read an Excel"
   ]
  },
  {
   "cell_type": "code",
   "execution_count": 8,
   "metadata": {},
   "outputs": [
    {
     "data": {
      "text/html": [
       "<div>\n",
       "<style scoped>\n",
       "    .dataframe tbody tr th:only-of-type {\n",
       "        vertical-align: middle;\n",
       "    }\n",
       "\n",
       "    .dataframe tbody tr th {\n",
       "        vertical-align: top;\n",
       "    }\n",
       "\n",
       "    .dataframe thead th {\n",
       "        text-align: right;\n",
       "    }\n",
       "</style>\n",
       "<table border=\"1\" class=\"dataframe\">\n",
       "  <thead>\n",
       "    <tr style=\"text-align: right;\">\n",
       "      <th></th>\n",
       "      <th>0</th>\n",
       "      <th>1</th>\n",
       "      <th>2</th>\n",
       "      <th>3</th>\n",
       "      <th>4</th>\n",
       "    </tr>\n",
       "  </thead>\n",
       "  <tbody>\n",
       "    <tr>\n",
       "      <th>0</th>\n",
       "      <td>0</td>\n",
       "      <td>1</td>\n",
       "      <td>2</td>\n",
       "      <td>3</td>\n",
       "      <td>4</td>\n",
       "    </tr>\n",
       "    <tr>\n",
       "      <th>1</th>\n",
       "      <td>A</td>\n",
       "      <td>B</td>\n",
       "      <td>C</td>\n",
       "      <td>D</td>\n",
       "      <td>E</td>\n",
       "    </tr>\n",
       "  </tbody>\n",
       "</table>\n",
       "</div>"
      ],
      "text/plain": [
       "   0  1  2  3  4\n",
       "0  0  1  2  3  4\n",
       "1  A  B  C  D  E"
      ]
     },
     "execution_count": 8,
     "metadata": {},
     "output_type": "execute_result"
    }
   ],
   "source": [
    "_, res = DBX.files_download(\"/test.xlsx\")\n",
    "\n",
    "with io.BytesIO(res.content) as stream:\n",
    "    df = pd.read_excel(stream, index_col=0)\n",
    "\n",
    "df"
   ]
  },
  {
   "cell_type": "markdown",
   "metadata": {},
   "source": [
    "# 4. Deleting files\n",
    "We will delete all files created in this example"
   ]
  },
  {
   "cell_type": "code",
   "execution_count": 9,
   "metadata": {},
   "outputs": [
    {
     "name": "stdout",
     "output_type": "stream",
     "text": [
      "File '/test.txt' deleted\n",
      "File '/test.yaml' deleted\n",
      "File '/test.xlsx' deleted\n"
     ]
    }
   ],
   "source": [
    "for filename in [\"/test.txt\", \"/test.yaml\", \"/test.xlsx\"]:\n",
    "    \n",
    "    try:\n",
    "        DBX.files_delete(filename)\n",
    "        print(f\"File '{filename}' deleted\")\n",
    "\n",
    "    except dropbox.exceptions.ApiError:\n",
    "        print(f\"File '{filename}' was not found\")"
   ]
  },
  {
   "cell_type": "code",
   "execution_count": null,
   "metadata": {},
   "outputs": [],
   "source": []
  }
 ],
 "metadata": {
  "kernelspec": {
   "display_name": "Python 3",
   "language": "python",
   "name": "python3"
  },
  "language_info": {
   "codemirror_mode": {
    "name": "ipython",
    "version": 3
   },
   "file_extension": ".py",
   "mimetype": "text/x-python",
   "name": "python",
   "nbconvert_exporter": "python",
   "pygments_lexer": "ipython3",
   "version": "3.7.3"
  }
 },
 "nbformat": 4,
 "nbformat_minor": 2
}
