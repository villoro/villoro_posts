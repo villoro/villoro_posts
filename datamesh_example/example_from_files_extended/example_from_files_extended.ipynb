{
 "cells": [
  {
   "cell_type": "code",
   "execution_count": 1,
   "metadata": {
    "ExecuteTime": {
     "end_time": "2021-11-26T15:23:51.601780Z",
     "start_time": "2021-11-26T15:23:50.934489Z"
    }
   },
   "outputs": [],
   "source": [
    "from datetime import date\n",
    "\n",
    "from create_data import recreate_databases, create_tables\n",
    "from jobs.enrich_action import EnrichCEOrderCreatedJob\n",
    "from utils import get_spark_session"
   ]
  },
  {
   "cell_type": "code",
   "execution_count": 2,
   "metadata": {
    "ExecuteTime": {
     "end_time": "2021-11-26T15:24:01.810638Z",
     "start_time": "2021-11-26T15:23:51.605424Z"
    }
   },
   "outputs": [
    {
     "name": "stderr",
     "output_type": "stream",
     "text": [
      "2021-11-26 16:23:51.606 | INFO     | utils:get_spark_session:7 - Creating Spark Session\n"
     ]
    }
   ],
   "source": [
    "spark = get_spark_session()"
   ]
  },
  {
   "cell_type": "code",
   "execution_count": 3,
   "metadata": {
    "ExecuteTime": {
     "end_time": "2021-11-26T15:24:05.686424Z",
     "start_time": "2021-11-26T15:24:01.815640Z"
    }
   },
   "outputs": [
    {
     "name": "stderr",
     "output_type": "stream",
     "text": [
      "2021-11-26 16:24:01.817 | INFO     | create_data:recreate_databases:29 - Removing spark warehouse (path = 'spark-warehouse')\n",
      "2021-11-26 16:24:01.875 | INFO     | create_data:recreate_databases:33 - Creating database 'standardized_glovo_live'\n",
      "2021-11-26 16:24:05.480 | INFO     | create_data:recreate_databases:33 - Creating database 'mpcustomer_custom_events'\n",
      "2021-11-26 16:24:05.544 | INFO     | create_data:recreate_databases:33 - Creating database 'mpcustomer_screen_views'\n",
      "2021-11-26 16:24:05.601 | INFO     | create_data:recreate_databases:33 - Creating database 'enriched_custom_events'\n",
      "2021-11-26 16:24:05.640 | INFO     | create_data:recreate_databases:33 - Creating database 'enriched_screen_views'\n"
     ]
    }
   ],
   "source": [
    "recreate_databases(spark)"
   ]
  },
  {
   "cell_type": "code",
   "execution_count": 4,
   "metadata": {
    "ExecuteTime": {
     "end_time": "2021-11-26T15:25:05.592307Z",
     "start_time": "2021-11-26T15:24:05.690425Z"
    }
   },
   "outputs": [
    {
     "name": "stderr",
     "output_type": "stream",
     "text": [
      "2021-11-26 16:24:05.692 | INFO     | create_data:create_table:91 - Creating table 'standardized_glovo_live.cities'\n",
      "2021-11-26 16:24:17.300 | INFO     | create_data:create_table:91 - Creating table 'standardized_glovo_live.devices'\n",
      "2021-11-26 16:24:27.103 | INFO     | create_data:create_table:91 - Creating table 'standardized_glovo_live.orders'\n",
      "2021-11-26 16:24:39.936 | INFO     | create_data:create_table:91 - Creating table 'standardized_glovo_live.customer_subscriptions'\n",
      "2021-11-26 16:24:50.309 | INFO     | create_data:create_table:91 - Creating table 'standardized_glovo_live.customer_subscription_periods'\n",
      "2021-11-26 16:24:57.993 | INFO     | create_data:create_table:91 - Creating table 'mpcustomer_custom_events.order_created'\n"
     ]
    }
   ],
   "source": [
    "create_tables(spark)"
   ]
  },
  {
   "cell_type": "code",
   "execution_count": null,
   "metadata": {
    "ExecuteTime": {
     "start_time": "2021-11-26T15:23:50.940Z"
    }
   },
   "outputs": [
    {
     "name": "stderr",
     "output_type": "stream",
     "text": [
      "2021-11-26 16:25:05.598 | INFO     | loaders:load:47 - Loading 'mpcustomer_custom_events.order_created'\n",
      "2021-11-26 16:25:05.753 | INFO     | loaders:load:47 - Loading 'standardized_glovo_live.cities'\n",
      "2021-11-26 16:25:05.873 | INFO     | loaders:load:47 - Loading 'standardized_glovo_live.orders'\n",
      "2021-11-26 16:25:05.911 | INFO     | ports.live_db:load:72 - Loading 'standardized_glovo_live.customer_subscriptions'\n",
      "2021-11-26 16:25:06.100 | INFO     | transformations.interfaces:_apply:13 - Applying transformation 'AddTimezone'\n",
      "2021-11-26 16:25:06.147 | INFO     | transformations.interfaces:_apply:13 - Applying transformation 'AddNumberOfOrders'\n",
      "2021-11-26 16:25:06.540 | INFO     | transformations.interfaces:_apply:13 - Applying transformation 'AddIsPrime'\n",
      "2021-11-26 16:25:06.700 | INFO     | writers:write:23 - Writting 'enriched_custom_events.order_created'\n"
     ]
    }
   ],
   "source": [
    "order_created_job = EnrichCEOrderCreatedJob(\n",
    "    spark=spark,\n",
    "    exec_date=date(2021, 11, 19),\n",
    "    n_days=3\n",
    ")\n",
    "order_created_job.run()"
   ]
  },
  {
   "cell_type": "markdown",
   "metadata": {},
   "source": [
    "# Show input"
   ]
  },
  {
   "cell_type": "code",
   "execution_count": null,
   "metadata": {
    "ExecuteTime": {
     "start_time": "2021-11-26T15:23:50.942Z"
    }
   },
   "outputs": [],
   "source": [
    "spark.table(\"mpcustomer_custom_events.order_created\").show()"
   ]
  },
  {
   "cell_type": "markdown",
   "metadata": {},
   "source": [
    "# Show outputs"
   ]
  },
  {
   "cell_type": "code",
   "execution_count": null,
   "metadata": {
    "ExecuteTime": {
     "start_time": "2021-11-26T15:23:50.944Z"
    }
   },
   "outputs": [],
   "source": [
    "spark.table(\"enriched_custom_events.order_created\").show()"
   ]
  },
  {
   "cell_type": "code",
   "execution_count": null,
   "metadata": {},
   "outputs": [],
   "source": []
  }
 ],
 "metadata": {
  "kernelspec": {
   "display_name": "Python 3",
   "language": "python",
   "name": "python3"
  },
  "language_info": {
   "codemirror_mode": {
    "name": "ipython",
    "version": 3
   },
   "file_extension": ".py",
   "mimetype": "text/x-python",
   "name": "python",
   "nbconvert_exporter": "python",
   "pygments_lexer": "ipython3",
   "version": "3.7.6"
  }
 },
 "nbformat": 4,
 "nbformat_minor": 4
}
