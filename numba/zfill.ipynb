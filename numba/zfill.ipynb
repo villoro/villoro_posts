{
 "cells": [
  {
   "cell_type": "code",
   "execution_count": 1,
   "metadata": {},
   "outputs": [],
   "source": [
    "import numpy as np\n",
    "import pandas as pd\n",
    "\n",
    "from numba import njit, jit"
   ]
  },
  {
   "cell_type": "markdown",
   "metadata": {},
   "source": [
    "# Create dataset"
   ]
  },
  {
   "cell_type": "code",
   "execution_count": 2,
   "metadata": {},
   "outputs": [],
   "source": [
    "def prepare_dataset(size):\n",
    "    \n",
    "    # Generate raw data\n",
    "    data = {\n",
    "        \"year\": np.random.choice([str(x) for x in range(2000, 2020)], size),\n",
    "        \"month\": np.random.choice([str(x).zfill(2) for x in range(1, 12)], size),\n",
    "        \"day\": np.random.choice([str(x).zfill(2) for x in range(1, 29)], size),\n",
    "        \"hour\": np.random.choice(range(24), size),\n",
    "        \"minute\": np.random.choice(range(60), size),\n",
    "        \"second\": np.random.choice(range(60), size),\n",
    "        \"cent\": np.random.choice(range(100), size),\n",
    "    }\n",
    "    \n",
    "    # Create a dataframe\n",
    "    df = pd.DataFrame(data.values(), index=data.keys()).T\n",
    "    \n",
    "    # Create 'date' and 'time' columns\n",
    "    df[\"date\"] = df[\"year\"] + \"-\" + df[\"month\"] + \"-\" + df[\"day\"]\n",
    "    df[\"time\"] = df[\"cent\"] + 100*(df[\"second\"] + 100*(df[\"minute\"] + 100*df[\"hour\"]))\n",
    "    \n",
    "    # drop used columns\n",
    "    for col in data.keys():\n",
    "        del df[col]\n",
    "        \n",
    "    return df"
   ]
  },
  {
   "cell_type": "code",
   "execution_count": 3,
   "metadata": {},
   "outputs": [],
   "source": [
    "size = 100_000\n",
    "df = prepare_dataset(size)"
   ]
  },
  {
   "cell_type": "markdown",
   "metadata": {},
   "source": [
    "# Numba functions"
   ]
  },
  {
   "cell_type": "code",
   "execution_count": 4,
   "metadata": {},
   "outputs": [],
   "source": [
    "def zfill(df):\n",
    "    \"\"\"\n",
    "        1. Transform time to str\n",
    "        2. zfill\n",
    "        3. split time as string lists\n",
    "        4. pd.to_datetime\n",
    "    \"\"\"\n",
    "\n",
    "    aux = df[\"time\"].apply(str).apply(lambda x: x.zfill(8)).str\n",
    "    return pd.to_datetime(df[\"date\"] + \" \" + aux[:2] + \":\" + aux[2:4] + \":\" + aux[4:6] + \".\" + aux[6:])"
   ]
  },
  {
   "cell_type": "code",
   "execution_count": 5,
   "metadata": {},
   "outputs": [],
   "source": [
    "def fix_time_individual(df):\n",
    "    \"\"\"\n",
    "        1. pandas.apply a jit function to add 0 to time\n",
    "        2. concat date + time\n",
    "        3. change to np.datetime64\n",
    "    \"\"\"\n",
    "    \n",
    "    @jit\n",
    "    def _fix_time(x):\n",
    "        aux = \"0\"*(8 - len(str(x))) + str(x)\n",
    "        return aux[:2] + \":\" + aux[2:4] + \":\" + aux[4:6] + \".\" + aux[6:]\n",
    "    \n",
    "    return (df[\"date\"] + \" \" + df[\"time\"].apply(_fix_time)).astype(np.datetime64)"
   ]
  },
  {
   "cell_type": "code",
   "execution_count": 6,
   "metadata": {},
   "outputs": [],
   "source": [
    "def fix_time_np_string(df):\n",
    "    \"\"\"\n",
    "        1. Use a jit function to add 0 to each time\n",
    "        2. concat date + time\n",
    "        3. change to np.datetime64\n",
    "    \"\"\"\n",
    "\n",
    "    @jit\n",
    "    def _fix_time(mlist):\n",
    "    \n",
    "        out = np.empty(mlist.shape, dtype=np.object)\n",
    "\n",
    "        for i in range(len(mlist)):\n",
    "\n",
    "            elem = str(mlist[i])\n",
    "            aux = \"0\"*(8 - len(elem)) + elem\n",
    "\n",
    "            out[i] = aux[:2] + \":\" + aux[2:4] + \":\" + aux[4:6] + \".\" + aux[6:]\n",
    "\n",
    "        return out\n",
    "    \n",
    "    return (df[\"date\"].values + \" \" + _fix_time(df[\"time\"].values)).astype(np.datetime64)"
   ]
  },
  {
   "cell_type": "code",
   "execution_count": 7,
   "metadata": {},
   "outputs": [],
   "source": [
    "def fix_time_np_datetime(df):\n",
    "    \"\"\"\n",
    "        1. Iterate time and date with jit function\n",
    "        2. Transform each element to string and add 0s\n",
    "        3. Split the string\n",
    "        4. Cast each element to np.datetime64\n",
    "    \"\"\"\n",
    "    \n",
    "    @jit\n",
    "    def _fix_date(mdate, mtime):\n",
    "\n",
    "        out = np.empty(mtime.shape, dtype=\"datetime64[s]\")\n",
    "\n",
    "        for i in range(len(mtime)):\n",
    "\n",
    "            elem = str(mtime[i])\n",
    "            aux = \"0\"*(8 - len(elem)) + elem\n",
    "\n",
    "            aux = mdate[i] + \" \" + aux[:2] + \":\" + aux[2:4] + \":\" + aux[4:6] + \".\" + aux[6:]\n",
    "\n",
    "            out[i] = np.datetime64(aux)\n",
    "\n",
    "        return out\n",
    "    \n",
    "    return _fix_date(df[\"date\"].values, df[\"time\"].values)"
   ]
  },
  {
   "cell_type": "code",
   "execution_count": 8,
   "metadata": {},
   "outputs": [],
   "source": [
    "def np_divmod_jit(df):\n",
    "    \"\"\"\n",
    "        1. Iterate time and date with jit function\n",
    "        2. Use np.divmod to transfom HHMMSSCC to miliseconds integer\n",
    "        3. Cast date as np.datetime and time to timedelta\n",
    "        4. Sum date and time\n",
    "    \"\"\"\n",
    "        \n",
    "    @jit\n",
    "    def _fix_date(mdate, mtime):\n",
    "\n",
    "        time_out = np.empty(mtime.shape[0], dtype=np.int32)\n",
    "\n",
    "        for i in range(mtime.shape[0]):\n",
    "            aux, cent = np.divmod(mtime[i], 100)\n",
    "            aux, seconds = np.divmod(aux, 100)\n",
    "            hours, minutes = np.divmod(aux, 100)\n",
    "\n",
    "            time_out[i] = 10*(cent + 100*(seconds + 60*(minutes + 60*hours)))\n",
    "\n",
    "        return mdate.astype(np.datetime64) + time_out.astype(\"timedelta64[ms]\")\n",
    "    \n",
    "    return _fix_date(df[\"date\"].values, df[\"time\"].values)"
   ]
  },
  {
   "cell_type": "code",
   "execution_count": 9,
   "metadata": {},
   "outputs": [],
   "source": [
    "def divmod_njit(df):\n",
    "    \"\"\"\n",
    "        1. Iterate time with njit function\n",
    "        2. Use divmod to transfom HHMMSSCC to miliseconds integer\n",
    "        3. Outside the njit function cast date as np.datetime and time to timedelta\n",
    "        4. Sum date and time\n",
    "    \"\"\"\n",
    "\n",
    "    @njit\n",
    "    def _fix_time(mtime):\n",
    "\n",
    "        time_out = np.empty(mtime.shape[0], dtype=np.int32)\n",
    "\n",
    "        for i in range(mtime.shape[0]):\n",
    "            aux, cent = divmod(mtime[i], 100)\n",
    "            aux, seconds = divmod(aux, 100)\n",
    "            hours, minutes = divmod(aux, 100)\n",
    "\n",
    "            time_out[i] = 10*(cent + 100*(seconds + 60*(minutes + 60*hours)))\n",
    "\n",
    "        return df[\"date\"].values.astype(np.datetime64) +\\\n",
    "                 _fix_time(df[\"time\"].values).astype(\"timedelta64[ms]\")"
   ]
  },
  {
   "cell_type": "markdown",
   "metadata": {},
   "source": [
    "# Tests 1e5 elements"
   ]
  },
  {
   "cell_type": "code",
   "execution_count": 10,
   "metadata": {},
   "outputs": [
    {
     "name": "stdout",
     "output_type": "stream",
     "text": [
      "302 ms ± 1.75 ms per loop (mean ± std. dev. of 7 runs, 1 loop each)\n"
     ]
    }
   ],
   "source": [
    "%%timeit\n",
    "zfill(df)"
   ]
  },
  {
   "cell_type": "code",
   "execution_count": 11,
   "metadata": {},
   "outputs": [
    {
     "name": "stdout",
     "output_type": "stream",
     "text": [
      "686 ms ± 15.2 ms per loop (mean ± std. dev. of 7 runs, 1 loop each)\n"
     ]
    }
   ],
   "source": [
    "%%timeit\n",
    "fix_time_individual(df)"
   ]
  },
  {
   "cell_type": "code",
   "execution_count": 12,
   "metadata": {},
   "outputs": [
    {
     "name": "stdout",
     "output_type": "stream",
     "text": [
      "675 ms ± 21.6 ms per loop (mean ± std. dev. of 7 runs, 1 loop each)\n"
     ]
    }
   ],
   "source": [
    "%%timeit\n",
    "fix_time_np_string(df)"
   ]
  },
  {
   "cell_type": "code",
   "execution_count": 13,
   "metadata": {},
   "outputs": [
    {
     "name": "stdout",
     "output_type": "stream",
     "text": [
      "756 ms ± 9.92 ms per loop (mean ± std. dev. of 7 runs, 1 loop each)\n"
     ]
    }
   ],
   "source": [
    "%%timeit\n",
    "fix_time_np_datetime(df)"
   ]
  },
  {
   "cell_type": "code",
   "execution_count": 14,
   "metadata": {
    "scrolled": false
   },
   "outputs": [
    {
     "name": "stdout",
     "output_type": "stream",
     "text": [
      "1.34 s ± 27.2 ms per loop (mean ± std. dev. of 7 runs, 1 loop each)\n"
     ]
    }
   ],
   "source": [
    "%%timeit\n",
    "np_divmod_jit(df)"
   ]
  },
  {
   "cell_type": "code",
   "execution_count": 15,
   "metadata": {
    "scrolled": true
   },
   "outputs": [
    {
     "name": "stdout",
     "output_type": "stream",
     "text": [
      "95.2 µs ± 544 ns per loop (mean ± std. dev. of 7 runs, 10000 loops each)\n"
     ]
    }
   ],
   "source": [
    "%%timeit\n",
    "divmod_njit(df)"
   ]
  },
  {
   "cell_type": "markdown",
   "metadata": {},
   "source": [
    "# Tests all elements"
   ]
  },
  {
   "cell_type": "code",
   "execution_count": 17,
   "metadata": {},
   "outputs": [],
   "source": [
    "df = dfg.copy()"
   ]
  },
  {
   "cell_type": "code",
   "execution_count": 18,
   "metadata": {},
   "outputs": [
    {
     "name": "stdout",
     "output_type": "stream",
     "text": [
      "31 s ± 587 ms per loop (mean ± std. dev. of 7 runs, 1 loop each)\n"
     ]
    }
   ],
   "source": [
    "%%timeit\n",
    "zfill(df)"
   ]
  },
  {
   "cell_type": "code",
   "execution_count": 19,
   "metadata": {},
   "outputs": [
    {
     "name": "stdout",
     "output_type": "stream",
     "text": [
      "41.9 s ± 292 ms per loop (mean ± std. dev. of 7 runs, 1 loop each)\n"
     ]
    }
   ],
   "source": [
    "%%timeit\n",
    "fix_time_individual(df)"
   ]
  },
  {
   "cell_type": "code",
   "execution_count": 20,
   "metadata": {},
   "outputs": [
    {
     "name": "stdout",
     "output_type": "stream",
     "text": [
      "32.1 s ± 736 ms per loop (mean ± std. dev. of 7 runs, 1 loop each)\n"
     ]
    }
   ],
   "source": [
    "%%timeit\n",
    "fix_time_np_string(df)"
   ]
  },
  {
   "cell_type": "code",
   "execution_count": 21,
   "metadata": {},
   "outputs": [
    {
     "name": "stdout",
     "output_type": "stream",
     "text": [
      "32.7 s ± 180 ms per loop (mean ± std. dev. of 7 runs, 1 loop each)\n"
     ]
    }
   ],
   "source": [
    "%%timeit\n",
    "fix_time_np_datetime(df)"
   ]
  },
  {
   "cell_type": "code",
   "execution_count": 22,
   "metadata": {},
   "outputs": [
    {
     "name": "stdout",
     "output_type": "stream",
     "text": [
      "1min 40s ± 1.16 s per loop (mean ± std. dev. of 7 runs, 1 loop each)\n"
     ]
    }
   ],
   "source": [
    "%%timeit\n",
    "np_divmod_jit(df)"
   ]
  },
  {
   "cell_type": "code",
   "execution_count": 23,
   "metadata": {},
   "outputs": [
    {
     "name": "stdout",
     "output_type": "stream",
     "text": [
      "2.25 s ± 180 ms per loop (mean ± std. dev. of 7 runs, 1 loop each)\n"
     ]
    }
   ],
   "source": [
    "%%timeit\n",
    "divmod_njit(df)"
   ]
  },
  {
   "cell_type": "markdown",
   "metadata": {},
   "source": [
    "# Create data"
   ]
  },
  {
   "cell_type": "code",
   "execution_count": 16,
   "metadata": {},
   "outputs": [
    {
     "name": "stdout",
     "output_type": "stream",
     "text": [
      "- prepare_dataset in 0.14 min\n",
      "- prepare_dataset2 in 0.13 min\n",
      "done\n"
     ]
    }
   ],
   "source": [
    "prepare_dataset(100_000)\n",
    "print(\"done\")"
   ]
  },
  {
   "cell_type": "code",
   "execution_count": 17,
   "metadata": {},
   "outputs": [
    {
     "name": "stdout",
     "output_type": "stream",
     "text": [
      "- prepare_dataset in 1.39 min\n",
      "- prepare_dataset2 in 1.35 min\n",
      "done\n"
     ]
    }
   ],
   "source": [
    "prepare_dataset(1_000_000)\n",
    "print(\"done\")"
   ]
  }
 ],
 "metadata": {
  "kernelspec": {
   "display_name": "Python 3",
   "language": "python",
   "name": "python3"
  },
  "language_info": {
   "codemirror_mode": {
    "name": "ipython",
    "version": 3
   },
   "file_extension": ".py",
   "mimetype": "text/x-python",
   "name": "python",
   "nbconvert_exporter": "python",
   "pygments_lexer": "ipython3",
   "version": "3.7.0"
  }
 },
 "nbformat": 4,
 "nbformat_minor": 2
}
