{
 "cells": [
  {
   "cell_type": "markdown",
   "metadata": {},
   "source": [
    "# Understanding functions\n",
    "We can create functions that have parameters"
   ]
  },
  {
   "cell_type": "code",
   "execution_count": 1,
   "metadata": {},
   "outputs": [
    {
     "data": {
      "text/plain": [
       "'hello sam'"
      ]
     },
     "execution_count": 1,
     "metadata": {},
     "output_type": "execute_result"
    }
   ],
   "source": [
    "def hello_person(name):\n",
    "    \"\"\" Says hello to someone \"\"\"\n",
    "    return \"hello {}\".format(name)\n",
    "\n",
    "hello_person(\"sam\")"
   ]
  },
  {
   "cell_type": "markdown",
   "metadata": {},
   "source": [
    "We can also create functions inside other functions. The inner functions will have access to the parameters from the parent. In this example the inner function uses the `message` param from the parent."
   ]
  },
  {
   "cell_type": "code",
   "execution_count": 2,
   "metadata": {},
   "outputs": [
    {
     "data": {
      "text/plain": [
       "'Welcome Phil'"
      ]
     },
     "execution_count": 2,
     "metadata": {},
     "output_type": "execute_result"
    }
   ],
   "source": [
    "def message_to_person(message, name):\n",
    "    \n",
    "    def send_message():\n",
    "        \"\"\" Sends message \"\"\"\n",
    "        return message\n",
    "    \n",
    "    return \"{} {}\".format(send_message(), name)\n",
    "\n",
    "message_to_person(\"Welcome\", \"Phil\")"
   ]
  },
  {
   "cell_type": "markdown",
   "metadata": {},
   "source": [
    "# Decorators basics\n",
    "We can decorate a function so that some things happen \"around\" a function."
   ]
  },
  {
   "cell_type": "code",
   "execution_count": 3,
   "metadata": {},
   "outputs": [
    {
     "data": {
      "text/plain": [
       "'<h1>hello John</h1>'"
      ]
     },
     "execution_count": 3,
     "metadata": {},
     "output_type": "execute_result"
    }
   ],
   "source": [
    "def decorate_h1(func):\n",
    "    \"\"\" Decorates a function in order to add <h1> tags \"\"\"\n",
    "    \n",
    "    def make_h1(text):\n",
    "        return \"<h1>{}</h1>\".format(func(text))\n",
    "    \n",
    "    return make_h1\n",
    "    \n",
    "hello_person_h1 = decorate_h1(hello_person)\n",
    "hello_person_h1(\"John\")"
   ]
  },
  {
   "cell_type": "markdown",
   "metadata": {},
   "source": [
    "Here we have decorated the `hello_world` function to add `h1` tags around it.\n",
    "The idea is that we can make some steps before and after the function we are decorating."
   ]
  },
  {
   "cell_type": "code",
   "execution_count": 4,
   "metadata": {},
   "outputs": [],
   "source": [
    "from time import time, sleep"
   ]
  },
  {
   "cell_type": "code",
   "execution_count": 5,
   "metadata": {},
   "outputs": [],
   "source": [
    "def timeit(func):\n",
    "    \"\"\" Timing decorator \"\"\"\n",
    "    \n",
    "    def timed(*args):\n",
    "        \"\"\" Prints the execution time of a function \"\"\"\n",
    "        t0 = time()\n",
    "        result = func(*args)\n",
    "        print(\"Done in {:.2f} seconds\".format(time() - t0))    \n",
    "        return result\n",
    "    \n",
    "    return timed"
   ]
  },
  {
   "cell_type": "code",
   "execution_count": 6,
   "metadata": {},
   "outputs": [],
   "source": [
    "def wait_3_seconds():\n",
    "    sleep(3)\n",
    "    \n",
    "wait_3_seconds()"
   ]
  },
  {
   "cell_type": "code",
   "execution_count": 7,
   "metadata": {},
   "outputs": [
    {
     "name": "stdout",
     "output_type": "stream",
     "text": [
      "Done in 3.00 seconds\n"
     ]
    }
   ],
   "source": [
    "wait_3_seconds_and_print = timeit(wait_3_seconds)\n",
    "\n",
    "wait_3_seconds_and_print()"
   ]
  },
  {
   "cell_type": "markdown",
   "metadata": {},
   "source": [
    "# Using real decorators\n",
    "Now that we understand the idea behind decorators, we can rewrite the examples using real decorators"
   ]
  },
  {
   "cell_type": "code",
   "execution_count": 8,
   "metadata": {},
   "outputs": [
    {
     "data": {
      "text/plain": [
       "'<h1>hello Anna</h1>'"
      ]
     },
     "execution_count": 8,
     "metadata": {},
     "output_type": "execute_result"
    }
   ],
   "source": [
    "@decorate_h1\n",
    "def hello_person_with_h1(name):\n",
    "    \"\"\" Says hello to someone \"\"\"\n",
    "\n",
    "    return \"hello {}\".format(name)\n",
    "\n",
    "hello_person_with_h1(\"Anna\")"
   ]
  },
  {
   "cell_type": "code",
   "execution_count": 9,
   "metadata": {},
   "outputs": [
    {
     "name": "stdout",
     "output_type": "stream",
     "text": [
      "Done in 3.00 seconds\n"
     ]
    }
   ],
   "source": [
    "@timeit\n",
    "def wait_3_seconds_with_print():\n",
    "    sleep(3)\n",
    "\n",
    "wait_3_seconds_with_print()"
   ]
  },
  {
   "cell_type": "markdown",
   "metadata": {},
   "source": [
    "And we can do it with one line. This is equivalent to the above example"
   ]
  },
  {
   "cell_type": "code",
   "execution_count": 10,
   "metadata": {},
   "outputs": [
    {
     "name": "stdout",
     "output_type": "stream",
     "text": [
      "Done in 2.00 seconds\n"
     ]
    }
   ],
   "source": [
    "sleep_and_print = timeit(sleep)\n",
    "\n",
    "sleep_and_print(2)"
   ]
  },
  {
   "cell_type": "markdown",
   "metadata": {},
   "source": [
    "And we can combine them both"
   ]
  },
  {
   "cell_type": "code",
   "execution_count": 11,
   "metadata": {},
   "outputs": [
    {
     "name": "stdout",
     "output_type": "stream",
     "text": [
      "Done in 3.00 seconds\n"
     ]
    },
    {
     "data": {
      "text/plain": [
       "'<h1>hello Turtle</h1>'"
      ]
     },
     "execution_count": 11,
     "metadata": {},
     "output_type": "execute_result"
    }
   ],
   "source": [
    "@timeit\n",
    "@decorate_h1\n",
    "def wait_and_say_hello(name):\n",
    "    \"\"\" Says hello to someone \"\"\"\n",
    "    sleep(3)\n",
    "    return \"hello {}\".format(name)\n",
    "\n",
    "wait_and_say_hello(\"Turtle\")"
   ]
  },
  {
   "cell_type": "markdown",
   "metadata": {},
   "source": [
    "So the idea is to do things before or after the function"
   ]
  },
  {
   "cell_type": "code",
   "execution_count": 12,
   "metadata": {},
   "outputs": [
    {
     "name": "stdout",
     "output_type": "stream",
     "text": [
      "Before function\n",
      "hello world\n",
      "After function\n"
     ]
    }
   ],
   "source": [
    "def printer(func):\n",
    "    \"\"\" Printer decorator \"\"\"\n",
    "    \n",
    "    def prints():\n",
    "        \"\"\" Prints some things \"\"\"\n",
    "        print(\"Before function\")\n",
    "        result = func()\n",
    "        print(\"After function\")    \n",
    "        return result\n",
    "    \n",
    "    return prints\n",
    "\n",
    "@printer\n",
    "def hello():\n",
    "    print(\"hello world\")\n",
    "\n",
    "hello()"
   ]
  },
  {
   "cell_type": "markdown",
   "metadata": {},
   "source": [
    "# Passing arguments to decorators"
   ]
  },
  {
   "cell_type": "code",
   "execution_count": 13,
   "metadata": {},
   "outputs": [
    {
     "name": "stdout",
     "output_type": "stream",
     "text": [
      "Argh!\n",
      "hello world\n",
      "After function\n"
     ]
    }
   ],
   "source": [
    "def printer_with_params(before=\"Before function\", after=\"After function\"):\n",
    "    \"\"\" Wrapper around decorator \"\"\"\n",
    "    \n",
    "    def printer(func):\n",
    "        \"\"\" Printer decorator \"\"\"\n",
    "\n",
    "        def prints():\n",
    "            \"\"\" Prints some things \"\"\"\n",
    "            print(before)\n",
    "            result = func()\n",
    "            print(after)    \n",
    "            return result\n",
    "\n",
    "        return prints\n",
    "    \n",
    "    return printer\n",
    "\n",
    "@printer_with_params(before=\"Argh!\")\n",
    "def hello_argh():\n",
    "    print(\"hello world\")\n",
    "    \n",
    "hello_argh()"
   ]
  },
  {
   "cell_type": "markdown",
   "metadata": {},
   "source": [
    "# Some cool examples\n",
    "### supertimeit\n",
    "This is a decorator that takes one outputting function and displays the execution time. By default it will use the `print` function."
   ]
  },
  {
   "cell_type": "code",
   "execution_count": 14,
   "metadata": {},
   "outputs": [],
   "source": [
    "def supertimeit(output_func=print):\n",
    "    \"\"\" Allows to use custom output functions (like print, log.info...)\"\"\"\n",
    "\n",
    "    def timeit_decorator(func):\n",
    "        \"\"\" Timing decorator \"\"\"\n",
    "    \n",
    "        def timed_execution(*args):\n",
    "            \"\"\" Outputs the execution time of a function \"\"\"\n",
    "            t0 = time()\n",
    "            result = func(*args)\n",
    "            output_func(\"Done in {:.2f} seconds\".format(time() - t0))    \n",
    "            return result\n",
    "\n",
    "        return timed_execution\n",
    "    \n",
    "    return timeit_decorator"
   ]
  },
  {
   "cell_type": "code",
   "execution_count": 15,
   "metadata": {},
   "outputs": [
    {
     "name": "stdout",
     "output_type": "stream",
     "text": [
      "Done in 2.00 seconds\n"
     ]
    }
   ],
   "source": [
    "@supertimeit() # Since it can take params, we need the '()'\n",
    "def wait_2_seconds_and_print():\n",
    "    sleep(2)\n",
    "\n",
    "wait_2_seconds_and_print()"
   ]
  },
  {
   "cell_type": "markdown",
   "metadata": {},
   "source": [
    "Let's import the logging library and try it"
   ]
  },
  {
   "cell_type": "code",
   "execution_count": 16,
   "metadata": {},
   "outputs": [
    {
     "name": "stderr",
     "output_type": "stream",
     "text": [
      "WARNING:root:This is an info message\n"
     ]
    }
   ],
   "source": [
    "import logging\n",
    "logging.warning('This is an info message')"
   ]
  },
  {
   "cell_type": "markdown",
   "metadata": {},
   "source": [
    "Now let's use the `supertimeit` decorator with the `logging.warning` function"
   ]
  },
  {
   "cell_type": "code",
   "execution_count": 17,
   "metadata": {},
   "outputs": [
    {
     "name": "stderr",
     "output_type": "stream",
     "text": [
      "WARNING:root:Done in 2.00 seconds\n"
     ]
    }
   ],
   "source": [
    "@supertimeit(logging.warning)\n",
    "def wait_2_seconds_and_log():\n",
    "    sleep(2)\n",
    "\n",
    "wait_2_seconds_and_log()"
   ]
  },
  {
   "cell_type": "markdown",
   "metadata": {},
   "source": [
    "## infallible\n",
    "This decorator will prevent any function from crashing and it will show the details of any `Exception` occurred."
   ]
  },
  {
   "cell_type": "code",
   "execution_count": 18,
   "metadata": {},
   "outputs": [],
   "source": [
    "def infallible(output_func=print):\n",
    "    \"\"\" Allows to use custom output functions (like print, log.info...)\"\"\"\n",
    "\n",
    "    def infallible_decorator(func):\n",
    "        \"\"\" Timing decorator \"\"\"\n",
    "    \n",
    "        def infallible_execution(*args):\n",
    "            \"\"\" Outputs the execution time of a function \"\"\"\n",
    "            \n",
    "            try:\n",
    "                return func(*args)\n",
    "            except Exception as e:\n",
    "                output_func(\"Error in '{}': {}\".format(func.__name__, e))\n",
    "\n",
    "        return infallible_execution\n",
    "    \n",
    "    return infallible_decorator"
   ]
  },
  {
   "cell_type": "code",
   "execution_count": 19,
   "metadata": {},
   "outputs": [],
   "source": [
    "@infallible()\n",
    "def wrong_math(x):\n",
    "    \"\"\" This divides a number by 0 \"\"\"\n",
    "    return x/0"
   ]
  },
  {
   "cell_type": "code",
   "execution_count": 20,
   "metadata": {},
   "outputs": [
    {
     "name": "stdout",
     "output_type": "stream",
     "text": [
      "Error in 'wrong_math': division by zero\n"
     ]
    }
   ],
   "source": [
    "wrong_math(1)"
   ]
  },
  {
   "cell_type": "markdown",
   "metadata": {},
   "source": [
    "And of course we can combine them both"
   ]
  },
  {
   "cell_type": "code",
   "execution_count": 21,
   "metadata": {},
   "outputs": [],
   "source": [
    "@supertimeit()\n",
    "@infallible(logging.error)\n",
    "def unuseful_function(x):\n",
    "    \"\"\" It will wait some time and then it will divide a number by 0 \"\"\"\n",
    "\n",
    "    sleep(2)\n",
    "    return x/0"
   ]
  },
  {
   "cell_type": "code",
   "execution_count": 22,
   "metadata": {},
   "outputs": [
    {
     "name": "stderr",
     "output_type": "stream",
     "text": [
      "ERROR:root:Error in 'unuseful_function': division by zero\n"
     ]
    },
    {
     "name": "stdout",
     "output_type": "stream",
     "text": [
      "Done in 2.00 seconds\n"
     ]
    }
   ],
   "source": [
    "unuseful_function(10)"
   ]
  },
  {
   "cell_type": "code",
   "execution_count": null,
   "metadata": {},
   "outputs": [],
   "source": []
  }
 ],
 "metadata": {
  "kernelspec": {
   "display_name": "Python 3",
   "language": "python",
   "name": "python3"
  },
  "language_info": {
   "codemirror_mode": {
    "name": "ipython",
    "version": 3
   },
   "file_extension": ".py",
   "mimetype": "text/x-python",
   "name": "python",
   "nbconvert_exporter": "python",
   "pygments_lexer": "ipython3",
   "version": "3.6.3"
  }
 },
 "nbformat": 4,
 "nbformat_minor": 2
}
