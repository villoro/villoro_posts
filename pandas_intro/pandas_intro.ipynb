{
 "cells": [
  {
   "cell_type": "markdown",
   "metadata": {},
   "source": [
    "# TODO\n",
    "\n",
    "\n",
    "* multiindex\n",
    "    * create\n",
    "    * selects\n",
    "* category dtype `df.astype({'beer_servings':'float', 'spirit_servings':'float'})`\n",
    "* pd.crosstab\n",
    "* pandas plot\n",
    "* display\n",
    "    * pd.set_option('display.max_rows', None)\n",
    "    * pd.set_option('display.precision', 2)\n",
    "    * pd.describe_option()\n",
    "    * pd.reset_option('all')"
   ]
  },
  {
   "cell_type": "markdown",
   "metadata": {},
   "source": [
    "# 1. Create a Series\n",
    "# 2. Create a Dataframe\n",
    "* pd.DataFrame\n",
    "* read_csv, read_excel, read_parquet\n",
    "* to_csv, to_excel, to_parquet\n",
    "# 3. Overview data\n",
    "* head / tail\n",
    "* df.describe(include='all')\n",
    "* .info(memory_usage='deep'), .memory_usage(deep=True)\n",
    "* .sample\n",
    "* column: describe / value_counts(normalize=True), unique\n",
    "* basic stats\n",
    "    * mean / max / min...\n",
    "# 4. Slicing\n",
    "* .copy\n",
    "* at\n",
    "* df[col], df[cols]\n",
    "* df[filter]\n",
    "* loc\n",
    "* iloc\n",
    "* ix deprecation\n",
    "# 5. Modify data\n",
    "* loc\n",
    "* apply / applymap / map\n",
    "* strings\n",
    "* datetime\n",
    "* fillna / dropna\n",
    "* dummies\n",
    "* duplicates\n",
    "* sorting\n",
    "# 6. Modify dataframe\n",
    "* rename columns\n",
    "* delete columns\n",
    "# 7. Transformations\n",
    "* groupby\n",
    "    * iter groupby\n",
    "    * `0.25.0` groupby\n",
    "* merge\n",
    "* .T"
   ]
  },
  {
   "cell_type": "code",
   "execution_count": null,
   "metadata": {},
   "outputs": [],
   "source": []
  }
 ],
 "metadata": {
  "kernelspec": {
   "display_name": "Python 3",
   "language": "python",
   "name": "python3"
  },
  "language_info": {
   "codemirror_mode": {
    "name": "ipython",
    "version": 3
   },
   "file_extension": ".py",
   "mimetype": "text/x-python",
   "name": "python",
   "nbconvert_exporter": "python",
   "pygments_lexer": "ipython3",
   "version": "3.7.3"
  }
 },
 "nbformat": 4,
 "nbformat_minor": 2
}
