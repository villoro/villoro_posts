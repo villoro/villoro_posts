{
 "cells": [
  {
   "cell_type": "markdown",
   "metadata": {},
   "source": [
    "# Installation\n",
    "First let's install v-crypt with pip"
   ]
  },
  {
   "cell_type": "code",
   "execution_count": 1,
   "metadata": {},
   "outputs": [
    {
     "name": "stdout",
     "output_type": "stream",
     "text": [
      "Requirement already satisfied: v-crypt in c:\\miniconda3\\lib\\site-packages (1.0.3)\n",
      "Requirement already satisfied: cryptography>=2.3 in c:\\miniconda3\\lib\\site-packages (from v-crypt) (2.6.1)\n",
      "Requirement already satisfied: cffi!=1.11.3,>=1.8 in c:\\miniconda3\\lib\\site-packages (from cryptography>=2.3->v-crypt) (1.11.5)\n",
      "Requirement already satisfied: asn1crypto>=0.21.0 in c:\\miniconda3\\lib\\site-packages (from cryptography>=2.3->v-crypt) (0.24.0)\n",
      "Requirement already satisfied: six>=1.4.1 in c:\\miniconda3\\lib\\site-packages (from cryptography>=2.3->v-crypt) (1.11.0)\n",
      "Requirement already satisfied: pycparser in c:\\miniconda3\\lib\\site-packages (from cffi!=1.11.3,>=1.8->cryptography>=2.3->v-crypt) (2.18)\n"
     ]
    }
   ],
   "source": [
    "!pip install v-crypt"
   ]
  },
  {
   "cell_type": "markdown",
   "metadata": {},
   "source": [
    "# Usage"
   ]
  },
  {
   "cell_type": "code",
   "execution_count": 2,
   "metadata": {},
   "outputs": [
    {
     "name": "stdout",
     "output_type": "stream",
     "text": [
      "Help on class Cipher in module v_crypt.v_crypt:\n",
      "\n",
      "class Cipher(builtins.object)\n",
      " |  docstring for ClassName\n",
      " |  \n",
      " |  Methods defined here:\n",
      " |  \n",
      " |  __init__(self, secrets_file='secrets.json', filename_master_password='master.password', environ_var_name=None)\n",
      " |      Create a cipher instance\n",
      " |      \n",
      " |      Args:\n",
      " |          filename_master_password:   filename of the master password\n",
      " |          secrets_file:               filename of the dictionary with secrets\n",
      " |          environ_var_name:           name of the environ variable\n",
      " |  \n",
      " |  create_password(self, store_secret=True)\n",
      " |      Creates a new master password.\n",
      " |      \n",
      " |      Args:\n",
      " |          store_secret:   boolean to decide if master password should be stored in a file\n",
      " |  \n",
      " |  get_secret(self, key)\n",
      " |      Read one secret from the dict of secrets.\n",
      " |      \n",
      " |      Args:\n",
      " |          key:    id of the secret\n",
      " |      \n",
      " |      Returns:\n",
      " |          the secret as a string\n",
      " |  \n",
      " |  save_secret(self, key, value)\n",
      " |      Add one secret in the dict of secrets. It will create the dict if needed\n",
      " |      \n",
      " |      Args:\n",
      " |          key:    id of the secret\n",
      " |          value:  what to store\n",
      " |  \n",
      " |  ----------------------------------------------------------------------\n",
      " |  Data descriptors defined here:\n",
      " |  \n",
      " |  __dict__\n",
      " |      dictionary for instance variables (if defined)\n",
      " |  \n",
      " |  __weakref__\n",
      " |      list of weak references to the object (if defined)\n",
      "\n"
     ]
    }
   ],
   "source": [
    "from v_crypt import Cipher\n",
    "help(Cipher)"
   ]
  },
  {
   "cell_type": "code",
   "execution_count": 3,
   "metadata": {},
   "outputs": [],
   "source": [
    "cipher = Cipher()"
   ]
  },
  {
   "cell_type": "markdown",
   "metadata": {},
   "source": [
    "## Create the master password\n",
    "This will allow you to **only store one password** (as a `file` or as an `env var`)"
   ]
  },
  {
   "cell_type": "code",
   "execution_count": 4,
   "metadata": {},
   "outputs": [
    {
     "name": "stdout",
     "output_type": "stream",
     "text": [
      "Key generated. Remember to store it in a secure place.\n",
      "Key stored in master.password. Remember to gitignore this file!\n"
     ]
    },
    {
     "data": {
      "text/plain": [
       "b'm8DbSQY7cqCtcmqjwwez-hpQqOD2EvzMZaFNUqpp0JQ='"
      ]
     },
     "execution_count": 4,
     "metadata": {},
     "output_type": "execute_result"
    }
   ],
   "source": [
    "password = cipher.create_password()\n",
    "password"
   ]
  },
  {
   "cell_type": "markdown",
   "metadata": {},
   "source": [
    "## Store secrets and retrive them\n",
    "You only need to call `cipher.save_secret`"
   ]
  },
  {
   "cell_type": "code",
   "execution_count": 5,
   "metadata": {},
   "outputs": [
    {
     "name": "stdout",
     "output_type": "stream",
     "text": [
      "Secret 'secret' saved\n"
     ]
    }
   ],
   "source": [
    "# Store a secret\n",
    "cipher.save_secret(\"secret\", \"I like python\")"
   ]
  },
  {
   "cell_type": "markdown",
   "metadata": {},
   "source": [
    "Right now you created `secrets.json` and stored \"secret\" as a key and the text as an encrypted secret.\n",
    "You can retrive it with:"
   ]
  },
  {
   "cell_type": "code",
   "execution_count": 6,
   "metadata": {},
   "outputs": [
    {
     "data": {
      "text/plain": [
       "'I like python'"
      ]
     },
     "execution_count": 6,
     "metadata": {},
     "output_type": "execute_result"
    }
   ],
   "source": [
    "cipher.get_secret(\"secret\")"
   ]
  },
  {
   "cell_type": "markdown",
   "metadata": {},
   "source": [
    "## Customization\n",
    "Let's work with yaml and decide where to store the secrets"
   ]
  },
  {
   "cell_type": "code",
   "execution_count": 7,
   "metadata": {},
   "outputs": [
    {
     "name": "stdout",
     "output_type": "stream",
     "text": [
      "Requirement already satisfied: pyyaml in c:\\miniconda3\\lib\\site-packages (3.12)\n"
     ]
    }
   ],
   "source": [
    "!pip install pyyaml"
   ]
  },
  {
   "cell_type": "code",
   "execution_count": 8,
   "metadata": {},
   "outputs": [],
   "source": [
    "cipher = Cipher(secrets_file=\"keys/secrets.yaml\", filename_master_password=\"keys/master.secret\")"
   ]
  },
  {
   "cell_type": "code",
   "execution_count": 9,
   "metadata": {},
   "outputs": [
    {
     "name": "stdout",
     "output_type": "stream",
     "text": [
      "Key generated. Remember to store it in a secure place.\n",
      "Key stored in keys/master.secret. Remember to gitignore this file!\n"
     ]
    },
    {
     "data": {
      "text/plain": [
       "b'Gw9mJQMINLQSQxeGLNpQm1_Ot26becYGvk3cm847qU4='"
      ]
     },
     "execution_count": 9,
     "metadata": {},
     "output_type": "execute_result"
    }
   ],
   "source": [
    "password = cipher.create_password()\n",
    "password"
   ]
  },
  {
   "cell_type": "code",
   "execution_count": 10,
   "metadata": {},
   "outputs": [
    {
     "name": "stdout",
     "output_type": "stream",
     "text": [
      "Secret 'my_password' saved\n"
     ]
    }
   ],
   "source": [
    "cipher.save_secret(\"my_password\", \"1234\") # please don't use that password..."
   ]
  },
  {
   "cell_type": "code",
   "execution_count": 11,
   "metadata": {},
   "outputs": [
    {
     "data": {
      "text/plain": [
       "'1234'"
      ]
     },
     "execution_count": 11,
     "metadata": {},
     "output_type": "execute_result"
    }
   ],
   "source": [
    "cipher.get_secret(\"my_password\")"
   ]
  },
  {
   "cell_type": "code",
   "execution_count": null,
   "metadata": {},
   "outputs": [],
   "source": []
  }
 ],
 "metadata": {
  "kernelspec": {
   "display_name": "Python 3",
   "language": "python",
   "name": "python3"
  },
  "language_info": {
   "codemirror_mode": {
    "name": "ipython",
    "version": 3
   },
   "file_extension": ".py",
   "mimetype": "text/x-python",
   "name": "python",
   "nbconvert_exporter": "python",
   "pygments_lexer": "ipython3",
   "version": "3.6.3"
  }
 },
 "nbformat": 4,
 "nbformat_minor": 2
}
