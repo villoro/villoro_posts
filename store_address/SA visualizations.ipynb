{
 "cells": [
  {
   "cell_type": "code",
   "execution_count": 1,
   "metadata": {
    "ExecuteTime": {
     "end_time": "2021-07-22T07:00:47.884861Z",
     "start_time": "2021-07-22T07:00:46.648745Z"
    }
   },
   "outputs": [],
   "source": [
    "import plotly.express as px\n",
    "import pandas as pd"
   ]
  },
  {
   "cell_type": "code",
   "execution_count": 2,
   "metadata": {
    "ExecuteTime": {
     "end_time": "2021-07-22T07:00:47.931863Z",
     "start_time": "2021-07-22T07:00:47.890866Z"
    }
   },
   "outputs": [],
   "source": [
    "df = pd.DataFrame([\n",
    "    {\"start\":\"2020-09-15 15:30:00\", \"end\": \"2020-09-15 23:00:00\",\"type\":\"SCHEDULE\"},\n",
    "    {\"start\":\"2020-09-16 12:30:00\", \"end\": \"2020-09-16 19:00:00\",\"type\":\"SCHEDULE\"},\n",
    "    {\"start\":\"2020-09-17 12:30:00\", \"end\": \"2020-09-17 19:00:00\",\"type\":\"SCHEDULE\"},\n",
    "    {\"start\":\"2020-09-18 12:30:00\", \"end\": \"2020-09-18 19:00:00\",\"type\":\"SCHEDULE\"},\n",
    "    {\"start\":\"2020-09-19 12:30:00\", \"end\": \"2020-09-19 19:00:00\",\"type\":\"SCHEDULE\"},\n",
    "    {\"start\":\"2020-09-20 12:30:00\", \"end\": \"2020-09-20 19:00:00\",\"type\":\"SCHEDULE\"},\n",
    "    {\"start\":\"2020-09-21 15:30:00\", \"end\": \"2020-09-21 23:00:00\",\"type\":\"SCHEDULE\"},\n",
    "    {\"start\":\"2020-09-17 08:00:00\", \"end\": \"2020-09-17 20:00:00\",\"type\":\"CITY_WORKING\"},\n",
    "    {\"start\":\"2020-09-18 08:00:00\", \"end\": \"2020-09-18 20:00:00\",\"type\":\"CITY_WORKING\"},\n",
    "    {\"start\":\"2020-09-19 08:00:00\", \"end\": \"2020-09-19 20:00:00\",\"type\":\"CITY_WORKING\"},\n",
    "    {\"start\":\"2020-09-20 08:00:00\", \"end\": \"2020-09-20 08:01:37\",\"type\":\"CITY_WORKING\"},\n",
    "    {\"start\":\"2020-09-20 08:01:37\", \"end\": \"2020-09-20 08:01:41\",\"type\":\"CITY_WORKING\"},\n",
    "    {\"start\":\"2020-09-20 08:01:41\", \"end\": \"2020-09-20 20:00:00\",\"type\":\"CITY_WORKING\"},\n",
    "    {\"start\":\"2020-09-20 13:10:00\", \"end\": \"2020-09-20 15:45:00\",\"type\":\"TEMPORARY_CLOSING\"},\n",
    "    {\"start\":\"2020-09-15 15:30:00\", \"end\": \"2020-09-17 12:30:00\",\"type\":\"CLOSE\"},\n",
    "    {\"start\":\"2020-09-17 12:30:00\", \"end\": \"2020-09-17 19:00:00\",\"type\":\"OPEN\"},\n",
    "    {\"start\":\"2020-09-17 19:00:00\", \"end\": \"2020-09-18 12:30:00\",\"type\":\"CLOSE\"},\n",
    "    {\"start\":\"2020-09-18 12:30:00\", \"end\": \"2020-09-18 19:00:00\",\"type\":\"OPEN\"},\n",
    "    {\"start\":\"2020-09-18 19:00:00\", \"end\": \"2020-09-19 12:30:00\",\"type\":\"CLOSE\"},\n",
    "    {\"start\":\"2020-09-19 12:30:00\", \"end\": \"2020-09-19 19:00:00\",\"type\":\"OPEN\"},\n",
    "    {\"start\":\"2020-09-19 19:00:00\", \"end\": \"2020-09-20 12:30:00\",\"type\":\"CLOSE\"},\n",
    "    {\"start\":\"2020-09-20 12:30:00\", \"end\": \"2020-09-20 13:10:00\",\"type\":\"OPEN\"},\n",
    "    {\"start\":\"2020-09-20 13:10:00\", \"end\": \"2020-09-20 15:45:00\",\"type\":\"CLOSE\"},\n",
    "    {\"start\":\"2020-09-20 15:45:00\", \"end\": \"2020-09-20 19:00:00\",\"type\":\"OPEN\"},\n",
    "    {\"start\":\"2020-09-20 19:00:00\", \"end\": \"2020-09-21 23:00:00\",\"type\":\"CLOSE\"},\n",
    "])"
   ]
  },
  {
   "cell_type": "code",
   "execution_count": 8,
   "metadata": {
    "ExecuteTime": {
     "end_time": "2021-07-22T07:12:02.146732Z",
     "start_time": "2021-07-22T07:12:02.127359Z"
    }
   },
   "outputs": [],
   "source": [
    "df[\"group\"] = df[\"type\"]\n",
    "df.loc[df[\"group\"] == \"CLOSE\", \"group\"] = \"OPEN\""
   ]
  },
  {
   "cell_type": "code",
   "execution_count": 12,
   "metadata": {
    "ExecuteTime": {
     "end_time": "2021-07-22T07:14:04.614159Z",
     "start_time": "2021-07-22T07:14:04.560925Z"
    }
   },
   "outputs": [],
   "source": [
    "cmap = {\n",
    "    \"SCHEDULE\": \"#A5D6A7\",\n",
    "    \"CITY_WORKING\": \"#FFF176\",\n",
    "    \"TEMPORARY_CLOSING\": \"#EF9A9A\",\n",
    "    \"OPEN\": \"#4CAF50\",\n",
    "    \"CLOSE\": \"#F44336\",\n",
    "}\n",
    "fig = px.timeline(df, x_start=\"start\", x_end=\"end\", y=\"group\", color=\"type\", color_discrete_map=cmap)"
   ]
  },
  {
   "cell_type": "code",
   "execution_count": 13,
   "metadata": {
    "ExecuteTime": {
     "end_time": "2021-07-22T07:14:05.066079Z",
     "start_time": "2021-07-22T07:14:04.994760Z"
    }
   },
   "outputs": [],
   "source": [
    "opens = df[df[\"type\"] == \"OPEN\"]\n",
    "\n",
    "for x in opens[\"start\"]:\n",
    "    fig.add_vline(x=x, line_width=1, line_color=\"#4CAF50\")\n",
    "    \n",
    "for x in opens[\"end\"]:\n",
    "    fig.add_vline(x=x, line_width=1, line_color=\"#F44336\")"
   ]
  },
  {
   "cell_type": "code",
   "execution_count": 14,
   "metadata": {
    "ExecuteTime": {
     "end_time": "2021-07-22T07:14:05.521647Z",
     "start_time": "2021-07-22T07:14:05.499112Z"
    }
   },
   "outputs": [
    {
     "data": {
      "application/vnd.plotly.v1+json": {
       "config": {
        "plotlyServerURL": "https://plot.ly"
       },
       "data": [
        {
         "alignmentgroup": "True",
         "base": [
          "2020-09-15 15:30:00",
          "2020-09-16 12:30:00",
          "2020-09-17 12:30:00",
          "2020-09-18 12:30:00",
          "2020-09-19 12:30:00",
          "2020-09-20 12:30:00",
          "2020-09-21 15:30:00"
         ],
         "hovertemplate": "type=SCHEDULE<br>start=%{base}<br>end=%{x}<br>group=%{y}<extra></extra>",
         "legendgroup": "SCHEDULE",
         "marker": {
          "color": "#A5D6A7"
         },
         "name": "SCHEDULE",
         "offsetgroup": "SCHEDULE",
         "orientation": "h",
         "showlegend": true,
         "textposition": "auto",
         "type": "bar",
         "x": [
          27000000,
          23400000,
          23400000,
          23400000,
          23400000,
          23400000,
          27000000
         ],
         "xaxis": "x",
         "y": [
          "SCHEDULE",
          "SCHEDULE",
          "SCHEDULE",
          "SCHEDULE",
          "SCHEDULE",
          "SCHEDULE",
          "SCHEDULE"
         ],
         "yaxis": "y"
        },
        {
         "alignmentgroup": "True",
         "base": [
          "2020-09-17 08:00:00",
          "2020-09-18 08:00:00",
          "2020-09-19 08:00:00",
          "2020-09-20 08:00:00",
          "2020-09-20 08:01:37",
          "2020-09-20 08:01:41"
         ],
         "hovertemplate": "type=CITY_WORKING<br>start=%{base}<br>end=%{x}<br>group=%{y}<extra></extra>",
         "legendgroup": "CITY_WORKING",
         "marker": {
          "color": "#FFF176"
         },
         "name": "CITY_WORKING",
         "offsetgroup": "CITY_WORKING",
         "orientation": "h",
         "showlegend": true,
         "textposition": "auto",
         "type": "bar",
         "x": [
          43200000,
          43200000,
          43200000,
          97000,
          4000,
          43099000
         ],
         "xaxis": "x",
         "y": [
          "CITY_WORKING",
          "CITY_WORKING",
          "CITY_WORKING",
          "CITY_WORKING",
          "CITY_WORKING",
          "CITY_WORKING"
         ],
         "yaxis": "y"
        },
        {
         "alignmentgroup": "True",
         "base": [
          "2020-09-20 13:10:00"
         ],
         "hovertemplate": "type=TEMPORARY_CLOSING<br>start=%{base}<br>end=%{x}<br>group=%{y}<extra></extra>",
         "legendgroup": "TEMPORARY_CLOSING",
         "marker": {
          "color": "#EF9A9A"
         },
         "name": "TEMPORARY_CLOSING",
         "offsetgroup": "TEMPORARY_CLOSING",
         "orientation": "h",
         "showlegend": true,
         "textposition": "auto",
         "type": "bar",
         "x": [
          9300000
         ],
         "xaxis": "x",
         "y": [
          "TEMPORARY_CLOSING"
         ],
         "yaxis": "y"
        },
        {
         "alignmentgroup": "True",
         "base": [
          "2020-09-15 15:30:00",
          "2020-09-17 19:00:00",
          "2020-09-18 19:00:00",
          "2020-09-19 19:00:00",
          "2020-09-20 13:10:00",
          "2020-09-20 19:00:00"
         ],
         "hovertemplate": "type=CLOSE<br>start=%{base}<br>end=%{x}<br>group=%{y}<extra></extra>",
         "legendgroup": "CLOSE",
         "marker": {
          "color": "#F44336"
         },
         "name": "CLOSE",
         "offsetgroup": "CLOSE",
         "orientation": "h",
         "showlegend": true,
         "textposition": "auto",
         "type": "bar",
         "x": [
          162000000,
          63000000,
          63000000,
          63000000,
          9300000,
          100800000
         ],
         "xaxis": "x",
         "y": [
          "OPEN",
          "OPEN",
          "OPEN",
          "OPEN",
          "OPEN",
          "OPEN"
         ],
         "yaxis": "y"
        },
        {
         "alignmentgroup": "True",
         "base": [
          "2020-09-17 12:30:00",
          "2020-09-18 12:30:00",
          "2020-09-19 12:30:00",
          "2020-09-20 12:30:00",
          "2020-09-20 15:45:00"
         ],
         "hovertemplate": "type=OPEN<br>start=%{base}<br>end=%{x}<br>group=%{y}<extra></extra>",
         "legendgroup": "OPEN",
         "marker": {
          "color": "#4CAF50"
         },
         "name": "OPEN",
         "offsetgroup": "OPEN",
         "orientation": "h",
         "showlegend": true,
         "textposition": "auto",
         "type": "bar",
         "x": [
          23400000,
          23400000,
          23400000,
          2400000,
          11700000
         ],
         "xaxis": "x",
         "y": [
          "OPEN",
          "OPEN",
          "OPEN",
          "OPEN",
          "OPEN"
         ],
         "yaxis": "y"
        }
       ],
       "layout": {
        "barmode": "overlay",
        "legend": {
         "title": {
          "text": "type"
         },
         "tracegroupgap": 0
        },
        "margin": {
         "t": 60
        },
        "shapes": [
         {
          "line": {
           "color": "#4CAF50",
           "width": 1
          },
          "type": "line",
          "x0": "2020-09-17 12:30:00",
          "x1": "2020-09-17 12:30:00",
          "xref": "x",
          "y0": 0,
          "y1": 1,
          "yref": "y domain"
         },
         {
          "line": {
           "color": "#4CAF50",
           "width": 1
          },
          "type": "line",
          "x0": "2020-09-18 12:30:00",
          "x1": "2020-09-18 12:30:00",
          "xref": "x",
          "y0": 0,
          "y1": 1,
          "yref": "y domain"
         },
         {
          "line": {
           "color": "#4CAF50",
           "width": 1
          },
          "type": "line",
          "x0": "2020-09-19 12:30:00",
          "x1": "2020-09-19 12:30:00",
          "xref": "x",
          "y0": 0,
          "y1": 1,
          "yref": "y domain"
         },
         {
          "line": {
           "color": "#4CAF50",
           "width": 1
          },
          "type": "line",
          "x0": "2020-09-20 12:30:00",
          "x1": "2020-09-20 12:30:00",
          "xref": "x",
          "y0": 0,
          "y1": 1,
          "yref": "y domain"
         },
         {
          "line": {
           "color": "#4CAF50",
           "width": 1
          },
          "type": "line",
          "x0": "2020-09-20 15:45:00",
          "x1": "2020-09-20 15:45:00",
          "xref": "x",
          "y0": 0,
          "y1": 1,
          "yref": "y domain"
         },
         {
          "line": {
           "color": "#F44336",
           "width": 1
          },
          "type": "line",
          "x0": "2020-09-17 19:00:00",
          "x1": "2020-09-17 19:00:00",
          "xref": "x",
          "y0": 0,
          "y1": 1,
          "yref": "y domain"
         },
         {
          "line": {
           "color": "#F44336",
           "width": 1
          },
          "type": "line",
          "x0": "2020-09-18 19:00:00",
          "x1": "2020-09-18 19:00:00",
          "xref": "x",
          "y0": 0,
          "y1": 1,
          "yref": "y domain"
         },
         {
          "line": {
           "color": "#F44336",
           "width": 1
          },
          "type": "line",
          "x0": "2020-09-19 19:00:00",
          "x1": "2020-09-19 19:00:00",
          "xref": "x",
          "y0": 0,
          "y1": 1,
          "yref": "y domain"
         },
         {
          "line": {
           "color": "#F44336",
           "width": 1
          },
          "type": "line",
          "x0": "2020-09-20 13:10:00",
          "x1": "2020-09-20 13:10:00",
          "xref": "x",
          "y0": 0,
          "y1": 1,
          "yref": "y domain"
         },
         {
          "line": {
           "color": "#F44336",
           "width": 1
          },
          "type": "line",
          "x0": "2020-09-20 19:00:00",
          "x1": "2020-09-20 19:00:00",
          "xref": "x",
          "y0": 0,
          "y1": 1,
          "yref": "y domain"
         }
        ],
        "template": {
         "data": {
          "bar": [
           {
            "error_x": {
             "color": "#2a3f5f"
            },
            "error_y": {
             "color": "#2a3f5f"
            },
            "marker": {
             "line": {
              "color": "#E5ECF6",
              "width": 0.5
             }
            },
            "type": "bar"
           }
          ],
          "barpolar": [
           {
            "marker": {
             "line": {
              "color": "#E5ECF6",
              "width": 0.5
             }
            },
            "type": "barpolar"
           }
          ],
          "carpet": [
           {
            "aaxis": {
             "endlinecolor": "#2a3f5f",
             "gridcolor": "white",
             "linecolor": "white",
             "minorgridcolor": "white",
             "startlinecolor": "#2a3f5f"
            },
            "baxis": {
             "endlinecolor": "#2a3f5f",
             "gridcolor": "white",
             "linecolor": "white",
             "minorgridcolor": "white",
             "startlinecolor": "#2a3f5f"
            },
            "type": "carpet"
           }
          ],
          "choropleth": [
           {
            "colorbar": {
             "outlinewidth": 0,
             "ticks": ""
            },
            "type": "choropleth"
           }
          ],
          "contour": [
           {
            "colorbar": {
             "outlinewidth": 0,
             "ticks": ""
            },
            "colorscale": [
             [
              0,
              "#0d0887"
             ],
             [
              0.1111111111111111,
              "#46039f"
             ],
             [
              0.2222222222222222,
              "#7201a8"
             ],
             [
              0.3333333333333333,
              "#9c179e"
             ],
             [
              0.4444444444444444,
              "#bd3786"
             ],
             [
              0.5555555555555556,
              "#d8576b"
             ],
             [
              0.6666666666666666,
              "#ed7953"
             ],
             [
              0.7777777777777778,
              "#fb9f3a"
             ],
             [
              0.8888888888888888,
              "#fdca26"
             ],
             [
              1,
              "#f0f921"
             ]
            ],
            "type": "contour"
           }
          ],
          "contourcarpet": [
           {
            "colorbar": {
             "outlinewidth": 0,
             "ticks": ""
            },
            "type": "contourcarpet"
           }
          ],
          "heatmap": [
           {
            "colorbar": {
             "outlinewidth": 0,
             "ticks": ""
            },
            "colorscale": [
             [
              0,
              "#0d0887"
             ],
             [
              0.1111111111111111,
              "#46039f"
             ],
             [
              0.2222222222222222,
              "#7201a8"
             ],
             [
              0.3333333333333333,
              "#9c179e"
             ],
             [
              0.4444444444444444,
              "#bd3786"
             ],
             [
              0.5555555555555556,
              "#d8576b"
             ],
             [
              0.6666666666666666,
              "#ed7953"
             ],
             [
              0.7777777777777778,
              "#fb9f3a"
             ],
             [
              0.8888888888888888,
              "#fdca26"
             ],
             [
              1,
              "#f0f921"
             ]
            ],
            "type": "heatmap"
           }
          ],
          "heatmapgl": [
           {
            "colorbar": {
             "outlinewidth": 0,
             "ticks": ""
            },
            "colorscale": [
             [
              0,
              "#0d0887"
             ],
             [
              0.1111111111111111,
              "#46039f"
             ],
             [
              0.2222222222222222,
              "#7201a8"
             ],
             [
              0.3333333333333333,
              "#9c179e"
             ],
             [
              0.4444444444444444,
              "#bd3786"
             ],
             [
              0.5555555555555556,
              "#d8576b"
             ],
             [
              0.6666666666666666,
              "#ed7953"
             ],
             [
              0.7777777777777778,
              "#fb9f3a"
             ],
             [
              0.8888888888888888,
              "#fdca26"
             ],
             [
              1,
              "#f0f921"
             ]
            ],
            "type": "heatmapgl"
           }
          ],
          "histogram": [
           {
            "marker": {
             "colorbar": {
              "outlinewidth": 0,
              "ticks": ""
             }
            },
            "type": "histogram"
           }
          ],
          "histogram2d": [
           {
            "colorbar": {
             "outlinewidth": 0,
             "ticks": ""
            },
            "colorscale": [
             [
              0,
              "#0d0887"
             ],
             [
              0.1111111111111111,
              "#46039f"
             ],
             [
              0.2222222222222222,
              "#7201a8"
             ],
             [
              0.3333333333333333,
              "#9c179e"
             ],
             [
              0.4444444444444444,
              "#bd3786"
             ],
             [
              0.5555555555555556,
              "#d8576b"
             ],
             [
              0.6666666666666666,
              "#ed7953"
             ],
             [
              0.7777777777777778,
              "#fb9f3a"
             ],
             [
              0.8888888888888888,
              "#fdca26"
             ],
             [
              1,
              "#f0f921"
             ]
            ],
            "type": "histogram2d"
           }
          ],
          "histogram2dcontour": [
           {
            "colorbar": {
             "outlinewidth": 0,
             "ticks": ""
            },
            "colorscale": [
             [
              0,
              "#0d0887"
             ],
             [
              0.1111111111111111,
              "#46039f"
             ],
             [
              0.2222222222222222,
              "#7201a8"
             ],
             [
              0.3333333333333333,
              "#9c179e"
             ],
             [
              0.4444444444444444,
              "#bd3786"
             ],
             [
              0.5555555555555556,
              "#d8576b"
             ],
             [
              0.6666666666666666,
              "#ed7953"
             ],
             [
              0.7777777777777778,
              "#fb9f3a"
             ],
             [
              0.8888888888888888,
              "#fdca26"
             ],
             [
              1,
              "#f0f921"
             ]
            ],
            "type": "histogram2dcontour"
           }
          ],
          "mesh3d": [
           {
            "colorbar": {
             "outlinewidth": 0,
             "ticks": ""
            },
            "type": "mesh3d"
           }
          ],
          "parcoords": [
           {
            "line": {
             "colorbar": {
              "outlinewidth": 0,
              "ticks": ""
             }
            },
            "type": "parcoords"
           }
          ],
          "pie": [
           {
            "automargin": true,
            "type": "pie"
           }
          ],
          "scatter": [
           {
            "marker": {
             "colorbar": {
              "outlinewidth": 0,
              "ticks": ""
             }
            },
            "type": "scatter"
           }
          ],
          "scatter3d": [
           {
            "line": {
             "colorbar": {
              "outlinewidth": 0,
              "ticks": ""
             }
            },
            "marker": {
             "colorbar": {
              "outlinewidth": 0,
              "ticks": ""
             }
            },
            "type": "scatter3d"
           }
          ],
          "scattercarpet": [
           {
            "marker": {
             "colorbar": {
              "outlinewidth": 0,
              "ticks": ""
             }
            },
            "type": "scattercarpet"
           }
          ],
          "scattergeo": [
           {
            "marker": {
             "colorbar": {
              "outlinewidth": 0,
              "ticks": ""
             }
            },
            "type": "scattergeo"
           }
          ],
          "scattergl": [
           {
            "marker": {
             "colorbar": {
              "outlinewidth": 0,
              "ticks": ""
             }
            },
            "type": "scattergl"
           }
          ],
          "scattermapbox": [
           {
            "marker": {
             "colorbar": {
              "outlinewidth": 0,
              "ticks": ""
             }
            },
            "type": "scattermapbox"
           }
          ],
          "scatterpolar": [
           {
            "marker": {
             "colorbar": {
              "outlinewidth": 0,
              "ticks": ""
             }
            },
            "type": "scatterpolar"
           }
          ],
          "scatterpolargl": [
           {
            "marker": {
             "colorbar": {
              "outlinewidth": 0,
              "ticks": ""
             }
            },
            "type": "scatterpolargl"
           }
          ],
          "scatterternary": [
           {
            "marker": {
             "colorbar": {
              "outlinewidth": 0,
              "ticks": ""
             }
            },
            "type": "scatterternary"
           }
          ],
          "surface": [
           {
            "colorbar": {
             "outlinewidth": 0,
             "ticks": ""
            },
            "colorscale": [
             [
              0,
              "#0d0887"
             ],
             [
              0.1111111111111111,
              "#46039f"
             ],
             [
              0.2222222222222222,
              "#7201a8"
             ],
             [
              0.3333333333333333,
              "#9c179e"
             ],
             [
              0.4444444444444444,
              "#bd3786"
             ],
             [
              0.5555555555555556,
              "#d8576b"
             ],
             [
              0.6666666666666666,
              "#ed7953"
             ],
             [
              0.7777777777777778,
              "#fb9f3a"
             ],
             [
              0.8888888888888888,
              "#fdca26"
             ],
             [
              1,
              "#f0f921"
             ]
            ],
            "type": "surface"
           }
          ],
          "table": [
           {
            "cells": {
             "fill": {
              "color": "#EBF0F8"
             },
             "line": {
              "color": "white"
             }
            },
            "header": {
             "fill": {
              "color": "#C8D4E3"
             },
             "line": {
              "color": "white"
             }
            },
            "type": "table"
           }
          ]
         },
         "layout": {
          "annotationdefaults": {
           "arrowcolor": "#2a3f5f",
           "arrowhead": 0,
           "arrowwidth": 1
          },
          "autotypenumbers": "strict",
          "coloraxis": {
           "colorbar": {
            "outlinewidth": 0,
            "ticks": ""
           }
          },
          "colorscale": {
           "diverging": [
            [
             0,
             "#8e0152"
            ],
            [
             0.1,
             "#c51b7d"
            ],
            [
             0.2,
             "#de77ae"
            ],
            [
             0.3,
             "#f1b6da"
            ],
            [
             0.4,
             "#fde0ef"
            ],
            [
             0.5,
             "#f7f7f7"
            ],
            [
             0.6,
             "#e6f5d0"
            ],
            [
             0.7,
             "#b8e186"
            ],
            [
             0.8,
             "#7fbc41"
            ],
            [
             0.9,
             "#4d9221"
            ],
            [
             1,
             "#276419"
            ]
           ],
           "sequential": [
            [
             0,
             "#0d0887"
            ],
            [
             0.1111111111111111,
             "#46039f"
            ],
            [
             0.2222222222222222,
             "#7201a8"
            ],
            [
             0.3333333333333333,
             "#9c179e"
            ],
            [
             0.4444444444444444,
             "#bd3786"
            ],
            [
             0.5555555555555556,
             "#d8576b"
            ],
            [
             0.6666666666666666,
             "#ed7953"
            ],
            [
             0.7777777777777778,
             "#fb9f3a"
            ],
            [
             0.8888888888888888,
             "#fdca26"
            ],
            [
             1,
             "#f0f921"
            ]
           ],
           "sequentialminus": [
            [
             0,
             "#0d0887"
            ],
            [
             0.1111111111111111,
             "#46039f"
            ],
            [
             0.2222222222222222,
             "#7201a8"
            ],
            [
             0.3333333333333333,
             "#9c179e"
            ],
            [
             0.4444444444444444,
             "#bd3786"
            ],
            [
             0.5555555555555556,
             "#d8576b"
            ],
            [
             0.6666666666666666,
             "#ed7953"
            ],
            [
             0.7777777777777778,
             "#fb9f3a"
            ],
            [
             0.8888888888888888,
             "#fdca26"
            ],
            [
             1,
             "#f0f921"
            ]
           ]
          },
          "colorway": [
           "#636efa",
           "#EF553B",
           "#00cc96",
           "#ab63fa",
           "#FFA15A",
           "#19d3f3",
           "#FF6692",
           "#B6E880",
           "#FF97FF",
           "#FECB52"
          ],
          "font": {
           "color": "#2a3f5f"
          },
          "geo": {
           "bgcolor": "white",
           "lakecolor": "white",
           "landcolor": "#E5ECF6",
           "showlakes": true,
           "showland": true,
           "subunitcolor": "white"
          },
          "hoverlabel": {
           "align": "left"
          },
          "hovermode": "closest",
          "mapbox": {
           "style": "light"
          },
          "paper_bgcolor": "white",
          "plot_bgcolor": "#E5ECF6",
          "polar": {
           "angularaxis": {
            "gridcolor": "white",
            "linecolor": "white",
            "ticks": ""
           },
           "bgcolor": "#E5ECF6",
           "radialaxis": {
            "gridcolor": "white",
            "linecolor": "white",
            "ticks": ""
           }
          },
          "scene": {
           "xaxis": {
            "backgroundcolor": "#E5ECF6",
            "gridcolor": "white",
            "gridwidth": 2,
            "linecolor": "white",
            "showbackground": true,
            "ticks": "",
            "zerolinecolor": "white"
           },
           "yaxis": {
            "backgroundcolor": "#E5ECF6",
            "gridcolor": "white",
            "gridwidth": 2,
            "linecolor": "white",
            "showbackground": true,
            "ticks": "",
            "zerolinecolor": "white"
           },
           "zaxis": {
            "backgroundcolor": "#E5ECF6",
            "gridcolor": "white",
            "gridwidth": 2,
            "linecolor": "white",
            "showbackground": true,
            "ticks": "",
            "zerolinecolor": "white"
           }
          },
          "shapedefaults": {
           "line": {
            "color": "#2a3f5f"
           }
          },
          "ternary": {
           "aaxis": {
            "gridcolor": "white",
            "linecolor": "white",
            "ticks": ""
           },
           "baxis": {
            "gridcolor": "white",
            "linecolor": "white",
            "ticks": ""
           },
           "bgcolor": "#E5ECF6",
           "caxis": {
            "gridcolor": "white",
            "linecolor": "white",
            "ticks": ""
           }
          },
          "title": {
           "x": 0.05
          },
          "xaxis": {
           "automargin": true,
           "gridcolor": "white",
           "linecolor": "white",
           "ticks": "",
           "title": {
            "standoff": 15
           },
           "zerolinecolor": "white",
           "zerolinewidth": 2
          },
          "yaxis": {
           "automargin": true,
           "gridcolor": "white",
           "linecolor": "white",
           "ticks": "",
           "title": {
            "standoff": 15
           },
           "zerolinecolor": "white",
           "zerolinewidth": 2
          }
         }
        },
        "xaxis": {
         "anchor": "y",
         "domain": [
          0,
          1
         ],
         "type": "date"
        },
        "yaxis": {
         "anchor": "x",
         "autorange": "reversed",
         "domain": [
          0,
          1
         ],
         "title": {
          "text": "group"
         }
        }
       }
      },
      "text/html": [
       "<div>                            <div id=\"535b11d9-d0a6-412b-9b1a-467599cce36c\" class=\"plotly-graph-div\" style=\"height:525px; width:100%;\"></div>            <script type=\"text/javascript\">                require([\"plotly\"], function(Plotly) {                    window.PLOTLYENV=window.PLOTLYENV || {};                                    if (document.getElementById(\"535b11d9-d0a6-412b-9b1a-467599cce36c\")) {                    Plotly.newPlot(                        \"535b11d9-d0a6-412b-9b1a-467599cce36c\",                        [{\"alignmentgroup\": \"True\", \"base\": [\"2020-09-15 15:30:00\", \"2020-09-16 12:30:00\", \"2020-09-17 12:30:00\", \"2020-09-18 12:30:00\", \"2020-09-19 12:30:00\", \"2020-09-20 12:30:00\", \"2020-09-21 15:30:00\"], \"hovertemplate\": \"type=SCHEDULE<br>start=%{base}<br>end=%{x}<br>group=%{y}<extra></extra>\", \"legendgroup\": \"SCHEDULE\", \"marker\": {\"color\": \"#A5D6A7\"}, \"name\": \"SCHEDULE\", \"offsetgroup\": \"SCHEDULE\", \"orientation\": \"h\", \"showlegend\": true, \"textposition\": \"auto\", \"type\": \"bar\", \"x\": [27000000.0, 23400000.0, 23400000.0, 23400000.0, 23400000.0, 23400000.0, 27000000.0], \"xaxis\": \"x\", \"y\": [\"SCHEDULE\", \"SCHEDULE\", \"SCHEDULE\", \"SCHEDULE\", \"SCHEDULE\", \"SCHEDULE\", \"SCHEDULE\"], \"yaxis\": \"y\"}, {\"alignmentgroup\": \"True\", \"base\": [\"2020-09-17 08:00:00\", \"2020-09-18 08:00:00\", \"2020-09-19 08:00:00\", \"2020-09-20 08:00:00\", \"2020-09-20 08:01:37\", \"2020-09-20 08:01:41\"], \"hovertemplate\": \"type=CITY_WORKING<br>start=%{base}<br>end=%{x}<br>group=%{y}<extra></extra>\", \"legendgroup\": \"CITY_WORKING\", \"marker\": {\"color\": \"#FFF176\"}, \"name\": \"CITY_WORKING\", \"offsetgroup\": \"CITY_WORKING\", \"orientation\": \"h\", \"showlegend\": true, \"textposition\": \"auto\", \"type\": \"bar\", \"x\": [43200000.0, 43200000.0, 43200000.0, 97000.0, 4000.0, 43099000.0], \"xaxis\": \"x\", \"y\": [\"CITY_WORKING\", \"CITY_WORKING\", \"CITY_WORKING\", \"CITY_WORKING\", \"CITY_WORKING\", \"CITY_WORKING\"], \"yaxis\": \"y\"}, {\"alignmentgroup\": \"True\", \"base\": [\"2020-09-20 13:10:00\"], \"hovertemplate\": \"type=TEMPORARY_CLOSING<br>start=%{base}<br>end=%{x}<br>group=%{y}<extra></extra>\", \"legendgroup\": \"TEMPORARY_CLOSING\", \"marker\": {\"color\": \"#EF9A9A\"}, \"name\": \"TEMPORARY_CLOSING\", \"offsetgroup\": \"TEMPORARY_CLOSING\", \"orientation\": \"h\", \"showlegend\": true, \"textposition\": \"auto\", \"type\": \"bar\", \"x\": [9300000.0], \"xaxis\": \"x\", \"y\": [\"TEMPORARY_CLOSING\"], \"yaxis\": \"y\"}, {\"alignmentgroup\": \"True\", \"base\": [\"2020-09-15 15:30:00\", \"2020-09-17 19:00:00\", \"2020-09-18 19:00:00\", \"2020-09-19 19:00:00\", \"2020-09-20 13:10:00\", \"2020-09-20 19:00:00\"], \"hovertemplate\": \"type=CLOSE<br>start=%{base}<br>end=%{x}<br>group=%{y}<extra></extra>\", \"legendgroup\": \"CLOSE\", \"marker\": {\"color\": \"#F44336\"}, \"name\": \"CLOSE\", \"offsetgroup\": \"CLOSE\", \"orientation\": \"h\", \"showlegend\": true, \"textposition\": \"auto\", \"type\": \"bar\", \"x\": [162000000.0, 63000000.0, 63000000.0, 63000000.0, 9300000.0, 100800000.0], \"xaxis\": \"x\", \"y\": [\"OPEN\", \"OPEN\", \"OPEN\", \"OPEN\", \"OPEN\", \"OPEN\"], \"yaxis\": \"y\"}, {\"alignmentgroup\": \"True\", \"base\": [\"2020-09-17 12:30:00\", \"2020-09-18 12:30:00\", \"2020-09-19 12:30:00\", \"2020-09-20 12:30:00\", \"2020-09-20 15:45:00\"], \"hovertemplate\": \"type=OPEN<br>start=%{base}<br>end=%{x}<br>group=%{y}<extra></extra>\", \"legendgroup\": \"OPEN\", \"marker\": {\"color\": \"#4CAF50\"}, \"name\": \"OPEN\", \"offsetgroup\": \"OPEN\", \"orientation\": \"h\", \"showlegend\": true, \"textposition\": \"auto\", \"type\": \"bar\", \"x\": [23400000.0, 23400000.0, 23400000.0, 2400000.0, 11700000.0], \"xaxis\": \"x\", \"y\": [\"OPEN\", \"OPEN\", \"OPEN\", \"OPEN\", \"OPEN\"], \"yaxis\": \"y\"}],                        {\"barmode\": \"overlay\", \"legend\": {\"title\": {\"text\": \"type\"}, \"tracegroupgap\": 0}, \"margin\": {\"t\": 60}, \"shapes\": [{\"line\": {\"color\": \"#4CAF50\", \"width\": 1}, \"type\": \"line\", \"x0\": \"2020-09-17 12:30:00\", \"x1\": \"2020-09-17 12:30:00\", \"xref\": \"x\", \"y0\": 0, \"y1\": 1, \"yref\": \"y domain\"}, {\"line\": {\"color\": \"#4CAF50\", \"width\": 1}, \"type\": \"line\", \"x0\": \"2020-09-18 12:30:00\", \"x1\": \"2020-09-18 12:30:00\", \"xref\": \"x\", \"y0\": 0, \"y1\": 1, \"yref\": \"y domain\"}, {\"line\": {\"color\": \"#4CAF50\", \"width\": 1}, \"type\": \"line\", \"x0\": \"2020-09-19 12:30:00\", \"x1\": \"2020-09-19 12:30:00\", \"xref\": \"x\", \"y0\": 0, \"y1\": 1, \"yref\": \"y domain\"}, {\"line\": {\"color\": \"#4CAF50\", \"width\": 1}, \"type\": \"line\", \"x0\": \"2020-09-20 12:30:00\", \"x1\": \"2020-09-20 12:30:00\", \"xref\": \"x\", \"y0\": 0, \"y1\": 1, \"yref\": \"y domain\"}, {\"line\": {\"color\": \"#4CAF50\", \"width\": 1}, \"type\": \"line\", \"x0\": \"2020-09-20 15:45:00\", \"x1\": \"2020-09-20 15:45:00\", \"xref\": \"x\", \"y0\": 0, \"y1\": 1, \"yref\": \"y domain\"}, {\"line\": {\"color\": \"#F44336\", \"width\": 1}, \"type\": \"line\", \"x0\": \"2020-09-17 19:00:00\", \"x1\": \"2020-09-17 19:00:00\", \"xref\": \"x\", \"y0\": 0, \"y1\": 1, \"yref\": \"y domain\"}, {\"line\": {\"color\": \"#F44336\", \"width\": 1}, \"type\": \"line\", \"x0\": \"2020-09-18 19:00:00\", \"x1\": \"2020-09-18 19:00:00\", \"xref\": \"x\", \"y0\": 0, \"y1\": 1, \"yref\": \"y domain\"}, {\"line\": {\"color\": \"#F44336\", \"width\": 1}, \"type\": \"line\", \"x0\": \"2020-09-19 19:00:00\", \"x1\": \"2020-09-19 19:00:00\", \"xref\": \"x\", \"y0\": 0, \"y1\": 1, \"yref\": \"y domain\"}, {\"line\": {\"color\": \"#F44336\", \"width\": 1}, \"type\": \"line\", \"x0\": \"2020-09-20 13:10:00\", \"x1\": \"2020-09-20 13:10:00\", \"xref\": \"x\", \"y0\": 0, \"y1\": 1, \"yref\": \"y domain\"}, {\"line\": {\"color\": \"#F44336\", \"width\": 1}, \"type\": \"line\", \"x0\": \"2020-09-20 19:00:00\", \"x1\": \"2020-09-20 19:00:00\", \"xref\": \"x\", \"y0\": 0, \"y1\": 1, \"yref\": \"y domain\"}], \"template\": {\"data\": {\"bar\": [{\"error_x\": {\"color\": \"#2a3f5f\"}, \"error_y\": {\"color\": \"#2a3f5f\"}, \"marker\": {\"line\": {\"color\": \"#E5ECF6\", \"width\": 0.5}}, \"type\": \"bar\"}], \"barpolar\": [{\"marker\": {\"line\": {\"color\": \"#E5ECF6\", \"width\": 0.5}}, \"type\": \"barpolar\"}], \"carpet\": [{\"aaxis\": {\"endlinecolor\": \"#2a3f5f\", \"gridcolor\": \"white\", \"linecolor\": \"white\", \"minorgridcolor\": \"white\", \"startlinecolor\": \"#2a3f5f\"}, \"baxis\": {\"endlinecolor\": \"#2a3f5f\", \"gridcolor\": \"white\", \"linecolor\": \"white\", \"minorgridcolor\": \"white\", \"startlinecolor\": \"#2a3f5f\"}, \"type\": \"carpet\"}], \"choropleth\": [{\"colorbar\": {\"outlinewidth\": 0, \"ticks\": \"\"}, \"type\": \"choropleth\"}], \"contour\": [{\"colorbar\": {\"outlinewidth\": 0, \"ticks\": \"\"}, \"colorscale\": [[0.0, \"#0d0887\"], [0.1111111111111111, \"#46039f\"], [0.2222222222222222, \"#7201a8\"], [0.3333333333333333, \"#9c179e\"], [0.4444444444444444, \"#bd3786\"], [0.5555555555555556, \"#d8576b\"], [0.6666666666666666, \"#ed7953\"], [0.7777777777777778, \"#fb9f3a\"], [0.8888888888888888, \"#fdca26\"], [1.0, \"#f0f921\"]], \"type\": \"contour\"}], \"contourcarpet\": [{\"colorbar\": {\"outlinewidth\": 0, \"ticks\": \"\"}, \"type\": \"contourcarpet\"}], \"heatmap\": [{\"colorbar\": {\"outlinewidth\": 0, \"ticks\": \"\"}, \"colorscale\": [[0.0, \"#0d0887\"], [0.1111111111111111, \"#46039f\"], [0.2222222222222222, \"#7201a8\"], [0.3333333333333333, \"#9c179e\"], [0.4444444444444444, \"#bd3786\"], [0.5555555555555556, \"#d8576b\"], [0.6666666666666666, \"#ed7953\"], [0.7777777777777778, \"#fb9f3a\"], [0.8888888888888888, \"#fdca26\"], [1.0, \"#f0f921\"]], \"type\": \"heatmap\"}], \"heatmapgl\": [{\"colorbar\": {\"outlinewidth\": 0, \"ticks\": \"\"}, \"colorscale\": [[0.0, \"#0d0887\"], [0.1111111111111111, \"#46039f\"], [0.2222222222222222, \"#7201a8\"], [0.3333333333333333, \"#9c179e\"], [0.4444444444444444, \"#bd3786\"], [0.5555555555555556, \"#d8576b\"], [0.6666666666666666, \"#ed7953\"], [0.7777777777777778, \"#fb9f3a\"], [0.8888888888888888, \"#fdca26\"], [1.0, \"#f0f921\"]], \"type\": \"heatmapgl\"}], \"histogram\": [{\"marker\": {\"colorbar\": {\"outlinewidth\": 0, \"ticks\": \"\"}}, \"type\": \"histogram\"}], \"histogram2d\": [{\"colorbar\": {\"outlinewidth\": 0, \"ticks\": \"\"}, \"colorscale\": [[0.0, \"#0d0887\"], [0.1111111111111111, \"#46039f\"], [0.2222222222222222, \"#7201a8\"], [0.3333333333333333, \"#9c179e\"], [0.4444444444444444, \"#bd3786\"], [0.5555555555555556, \"#d8576b\"], [0.6666666666666666, \"#ed7953\"], [0.7777777777777778, \"#fb9f3a\"], [0.8888888888888888, \"#fdca26\"], [1.0, \"#f0f921\"]], \"type\": \"histogram2d\"}], \"histogram2dcontour\": [{\"colorbar\": {\"outlinewidth\": 0, \"ticks\": \"\"}, \"colorscale\": [[0.0, \"#0d0887\"], [0.1111111111111111, \"#46039f\"], [0.2222222222222222, \"#7201a8\"], [0.3333333333333333, \"#9c179e\"], [0.4444444444444444, \"#bd3786\"], [0.5555555555555556, \"#d8576b\"], [0.6666666666666666, \"#ed7953\"], [0.7777777777777778, \"#fb9f3a\"], [0.8888888888888888, \"#fdca26\"], [1.0, \"#f0f921\"]], \"type\": \"histogram2dcontour\"}], \"mesh3d\": [{\"colorbar\": {\"outlinewidth\": 0, \"ticks\": \"\"}, \"type\": \"mesh3d\"}], \"parcoords\": [{\"line\": {\"colorbar\": {\"outlinewidth\": 0, \"ticks\": \"\"}}, \"type\": \"parcoords\"}], \"pie\": [{\"automargin\": true, \"type\": \"pie\"}], \"scatter\": [{\"marker\": {\"colorbar\": {\"outlinewidth\": 0, \"ticks\": \"\"}}, \"type\": \"scatter\"}], \"scatter3d\": [{\"line\": {\"colorbar\": {\"outlinewidth\": 0, \"ticks\": \"\"}}, \"marker\": {\"colorbar\": {\"outlinewidth\": 0, \"ticks\": \"\"}}, \"type\": \"scatter3d\"}], \"scattercarpet\": [{\"marker\": {\"colorbar\": {\"outlinewidth\": 0, \"ticks\": \"\"}}, \"type\": \"scattercarpet\"}], \"scattergeo\": [{\"marker\": {\"colorbar\": {\"outlinewidth\": 0, \"ticks\": \"\"}}, \"type\": \"scattergeo\"}], \"scattergl\": [{\"marker\": {\"colorbar\": {\"outlinewidth\": 0, \"ticks\": \"\"}}, \"type\": \"scattergl\"}], \"scattermapbox\": [{\"marker\": {\"colorbar\": {\"outlinewidth\": 0, \"ticks\": \"\"}}, \"type\": \"scattermapbox\"}], \"scatterpolar\": [{\"marker\": {\"colorbar\": {\"outlinewidth\": 0, \"ticks\": \"\"}}, \"type\": \"scatterpolar\"}], \"scatterpolargl\": [{\"marker\": {\"colorbar\": {\"outlinewidth\": 0, \"ticks\": \"\"}}, \"type\": \"scatterpolargl\"}], \"scatterternary\": [{\"marker\": {\"colorbar\": {\"outlinewidth\": 0, \"ticks\": \"\"}}, \"type\": \"scatterternary\"}], \"surface\": [{\"colorbar\": {\"outlinewidth\": 0, \"ticks\": \"\"}, \"colorscale\": [[0.0, \"#0d0887\"], [0.1111111111111111, \"#46039f\"], [0.2222222222222222, \"#7201a8\"], [0.3333333333333333, \"#9c179e\"], [0.4444444444444444, \"#bd3786\"], [0.5555555555555556, \"#d8576b\"], [0.6666666666666666, \"#ed7953\"], [0.7777777777777778, \"#fb9f3a\"], [0.8888888888888888, \"#fdca26\"], [1.0, \"#f0f921\"]], \"type\": \"surface\"}], \"table\": [{\"cells\": {\"fill\": {\"color\": \"#EBF0F8\"}, \"line\": {\"color\": \"white\"}}, \"header\": {\"fill\": {\"color\": \"#C8D4E3\"}, \"line\": {\"color\": \"white\"}}, \"type\": \"table\"}]}, \"layout\": {\"annotationdefaults\": {\"arrowcolor\": \"#2a3f5f\", \"arrowhead\": 0, \"arrowwidth\": 1}, \"autotypenumbers\": \"strict\", \"coloraxis\": {\"colorbar\": {\"outlinewidth\": 0, \"ticks\": \"\"}}, \"colorscale\": {\"diverging\": [[0, \"#8e0152\"], [0.1, \"#c51b7d\"], [0.2, \"#de77ae\"], [0.3, \"#f1b6da\"], [0.4, \"#fde0ef\"], [0.5, \"#f7f7f7\"], [0.6, \"#e6f5d0\"], [0.7, \"#b8e186\"], [0.8, \"#7fbc41\"], [0.9, \"#4d9221\"], [1, \"#276419\"]], \"sequential\": [[0.0, \"#0d0887\"], [0.1111111111111111, \"#46039f\"], [0.2222222222222222, \"#7201a8\"], [0.3333333333333333, \"#9c179e\"], [0.4444444444444444, \"#bd3786\"], [0.5555555555555556, \"#d8576b\"], [0.6666666666666666, \"#ed7953\"], [0.7777777777777778, \"#fb9f3a\"], [0.8888888888888888, \"#fdca26\"], [1.0, \"#f0f921\"]], \"sequentialminus\": [[0.0, \"#0d0887\"], [0.1111111111111111, \"#46039f\"], [0.2222222222222222, \"#7201a8\"], [0.3333333333333333, \"#9c179e\"], [0.4444444444444444, \"#bd3786\"], [0.5555555555555556, \"#d8576b\"], [0.6666666666666666, \"#ed7953\"], [0.7777777777777778, \"#fb9f3a\"], [0.8888888888888888, \"#fdca26\"], [1.0, \"#f0f921\"]]}, \"colorway\": [\"#636efa\", \"#EF553B\", \"#00cc96\", \"#ab63fa\", \"#FFA15A\", \"#19d3f3\", \"#FF6692\", \"#B6E880\", \"#FF97FF\", \"#FECB52\"], \"font\": {\"color\": \"#2a3f5f\"}, \"geo\": {\"bgcolor\": \"white\", \"lakecolor\": \"white\", \"landcolor\": \"#E5ECF6\", \"showlakes\": true, \"showland\": true, \"subunitcolor\": \"white\"}, \"hoverlabel\": {\"align\": \"left\"}, \"hovermode\": \"closest\", \"mapbox\": {\"style\": \"light\"}, \"paper_bgcolor\": \"white\", \"plot_bgcolor\": \"#E5ECF6\", \"polar\": {\"angularaxis\": {\"gridcolor\": \"white\", \"linecolor\": \"white\", \"ticks\": \"\"}, \"bgcolor\": \"#E5ECF6\", \"radialaxis\": {\"gridcolor\": \"white\", \"linecolor\": \"white\", \"ticks\": \"\"}}, \"scene\": {\"xaxis\": {\"backgroundcolor\": \"#E5ECF6\", \"gridcolor\": \"white\", \"gridwidth\": 2, \"linecolor\": \"white\", \"showbackground\": true, \"ticks\": \"\", \"zerolinecolor\": \"white\"}, \"yaxis\": {\"backgroundcolor\": \"#E5ECF6\", \"gridcolor\": \"white\", \"gridwidth\": 2, \"linecolor\": \"white\", \"showbackground\": true, \"ticks\": \"\", \"zerolinecolor\": \"white\"}, \"zaxis\": {\"backgroundcolor\": \"#E5ECF6\", \"gridcolor\": \"white\", \"gridwidth\": 2, \"linecolor\": \"white\", \"showbackground\": true, \"ticks\": \"\", \"zerolinecolor\": \"white\"}}, \"shapedefaults\": {\"line\": {\"color\": \"#2a3f5f\"}}, \"ternary\": {\"aaxis\": {\"gridcolor\": \"white\", \"linecolor\": \"white\", \"ticks\": \"\"}, \"baxis\": {\"gridcolor\": \"white\", \"linecolor\": \"white\", \"ticks\": \"\"}, \"bgcolor\": \"#E5ECF6\", \"caxis\": {\"gridcolor\": \"white\", \"linecolor\": \"white\", \"ticks\": \"\"}}, \"title\": {\"x\": 0.05}, \"xaxis\": {\"automargin\": true, \"gridcolor\": \"white\", \"linecolor\": \"white\", \"ticks\": \"\", \"title\": {\"standoff\": 15}, \"zerolinecolor\": \"white\", \"zerolinewidth\": 2}, \"yaxis\": {\"automargin\": true, \"gridcolor\": \"white\", \"linecolor\": \"white\", \"ticks\": \"\", \"title\": {\"standoff\": 15}, \"zerolinecolor\": \"white\", \"zerolinewidth\": 2}}}, \"xaxis\": {\"anchor\": \"y\", \"domain\": [0.0, 1.0], \"type\": \"date\"}, \"yaxis\": {\"anchor\": \"x\", \"autorange\": \"reversed\", \"domain\": [0.0, 1.0], \"title\": {\"text\": \"group\"}}},                        {\"responsive\": true}                    ).then(function(){\n",
       "                            \n",
       "var gd = document.getElementById('535b11d9-d0a6-412b-9b1a-467599cce36c');\n",
       "var x = new MutationObserver(function (mutations, observer) {{\n",
       "        var display = window.getComputedStyle(gd).display;\n",
       "        if (!display || display === 'none') {{\n",
       "            console.log([gd, 'removed!']);\n",
       "            Plotly.purge(gd);\n",
       "            observer.disconnect();\n",
       "        }}\n",
       "}});\n",
       "\n",
       "// Listen for the removal of the full notebook cells\n",
       "var notebookContainer = gd.closest('#notebook-container');\n",
       "if (notebookContainer) {{\n",
       "    x.observe(notebookContainer, {childList: true});\n",
       "}}\n",
       "\n",
       "// Listen for the clearing of the current output cell\n",
       "var outputEl = gd.closest('.output');\n",
       "if (outputEl) {{\n",
       "    x.observe(outputEl, {childList: true});\n",
       "}}\n",
       "\n",
       "                        })                };                });            </script>        </div>"
      ]
     },
     "metadata": {},
     "output_type": "display_data"
    }
   ],
   "source": [
    "fig.update_yaxes(autorange=\"reversed\")\n",
    "fig"
   ]
  },
  {
   "cell_type": "code",
   "execution_count": null,
   "metadata": {},
   "outputs": [],
   "source": []
  }
 ],
 "metadata": {
  "kernelspec": {
   "display_name": "Python 3",
   "language": "python",
   "name": "python3"
  },
  "language_info": {
   "codemirror_mode": {
    "name": "ipython",
    "version": 3
   },
   "file_extension": ".py",
   "mimetype": "text/x-python",
   "name": "python",
   "nbconvert_exporter": "python",
   "pygments_lexer": "ipython3",
   "version": "3.7.6"
  }
 },
 "nbformat": 4,
 "nbformat_minor": 4
}
