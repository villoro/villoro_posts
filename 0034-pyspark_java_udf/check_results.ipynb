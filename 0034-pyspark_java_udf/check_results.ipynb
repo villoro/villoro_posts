{
 "cells": [
  {
   "cell_type": "code",
   "execution_count": 1,
   "metadata": {
    "ExecuteTime": {
     "end_time": "2020-11-03T13:13:04.298279Z",
     "start_time": "2020-11-03T13:13:03.965226Z"
    }
   },
   "outputs": [],
   "source": [
    "import yaml\n",
    "\n",
    "import pandas as pd"
   ]
  },
  {
   "cell_type": "code",
   "execution_count": 2,
   "metadata": {
    "ExecuteTime": {
     "end_time": "2020-11-03T13:13:04.753144Z",
     "start_time": "2020-11-03T13:13:04.748544Z"
    }
   },
   "outputs": [],
   "source": [
    "def retrive_results():\n",
    "    out = {}\n",
    "    for name in [\"python\", \"java\"]:\n",
    "        with open(f\"results/{name}.yaml\", 'r') as infile:\n",
    "            data = yaml.load(infile, Loader=yaml.SafeLoader)\n",
    "\n",
    "        out[name] = {}\n",
    "        for key, info in data.items():\n",
    "            values = info[1:] if key == \"order_3\" else info\n",
    "            \n",
    "            order = int(key[-1])\n",
    "\n",
    "            avg = sum(values)/len(values)\n",
    "            out[name][order] = avg\n",
    "            \n",
    "    return pd.DataFrame(out)"
   ]
  },
  {
   "cell_type": "code",
   "execution_count": 3,
   "metadata": {
    "ExecuteTime": {
     "end_time": "2020-11-03T13:13:05.304328Z",
     "start_time": "2020-11-03T13:13:05.294346Z"
    }
   },
   "outputs": [],
   "source": [
    "df = retrive_results()\n",
    "df[\"num_rows\"] = [10**x for x in df.index]"
   ]
  },
  {
   "cell_type": "code",
   "execution_count": 4,
   "metadata": {
    "ExecuteTime": {
     "end_time": "2020-11-03T13:13:05.851469Z",
     "start_time": "2020-11-03T13:13:05.840484Z"
    }
   },
   "outputs": [
    {
     "data": {
      "text/html": [
       "<div>\n",
       "<style scoped>\n",
       "    .dataframe tbody tr th:only-of-type {\n",
       "        vertical-align: middle;\n",
       "    }\n",
       "\n",
       "    .dataframe tbody tr th {\n",
       "        vertical-align: top;\n",
       "    }\n",
       "\n",
       "    .dataframe thead th {\n",
       "        text-align: right;\n",
       "    }\n",
       "</style>\n",
       "<table border=\"1\" class=\"dataframe\">\n",
       "  <thead>\n",
       "    <tr style=\"text-align: right;\">\n",
       "      <th></th>\n",
       "      <th>python</th>\n",
       "      <th>java</th>\n",
       "      <th>num_rows</th>\n",
       "    </tr>\n",
       "  </thead>\n",
       "  <tbody>\n",
       "    <tr>\n",
       "      <th>3</th>\n",
       "      <td>2.348551</td>\n",
       "      <td>0.492574</td>\n",
       "      <td>1000</td>\n",
       "    </tr>\n",
       "    <tr>\n",
       "      <th>4</th>\n",
       "      <td>3.140185</td>\n",
       "      <td>0.579370</td>\n",
       "      <td>10000</td>\n",
       "    </tr>\n",
       "    <tr>\n",
       "      <th>5</th>\n",
       "      <td>3.876405</td>\n",
       "      <td>0.795821</td>\n",
       "      <td>100000</td>\n",
       "    </tr>\n",
       "    <tr>\n",
       "      <th>6</th>\n",
       "      <td>5.552880</td>\n",
       "      <td>1.958956</td>\n",
       "      <td>1000000</td>\n",
       "    </tr>\n",
       "    <tr>\n",
       "      <th>7</th>\n",
       "      <td>24.151182</td>\n",
       "      <td>11.507726</td>\n",
       "      <td>10000000</td>\n",
       "    </tr>\n",
       "    <tr>\n",
       "      <th>8</th>\n",
       "      <td>195.032587</td>\n",
       "      <td>88.875919</td>\n",
       "      <td>100000000</td>\n",
       "    </tr>\n",
       "  </tbody>\n",
       "</table>\n",
       "</div>"
      ],
      "text/plain": [
       "       python       java   num_rows\n",
       "3    2.348551   0.492574       1000\n",
       "4    3.140185   0.579370      10000\n",
       "5    3.876405   0.795821     100000\n",
       "6    5.552880   1.958956    1000000\n",
       "7   24.151182  11.507726   10000000\n",
       "8  195.032587  88.875919  100000000"
      ]
     },
     "execution_count": 4,
     "metadata": {},
     "output_type": "execute_result"
    }
   ],
   "source": [
    "df"
   ]
  },
  {
   "cell_type": "code",
   "execution_count": null,
   "metadata": {},
   "outputs": [],
   "source": []
  }
 ],
 "metadata": {
  "kernelspec": {
   "display_name": "Python 3",
   "language": "python",
   "name": "python3"
  },
  "language_info": {
   "codemirror_mode": {
    "name": "ipython",
    "version": 3
   },
   "file_extension": ".py",
   "mimetype": "text/x-python",
   "name": "python",
   "nbconvert_exporter": "python",
   "pygments_lexer": "ipython3",
   "version": "3.7.6"
  }
 },
 "nbformat": 4,
 "nbformat_minor": 4
}
