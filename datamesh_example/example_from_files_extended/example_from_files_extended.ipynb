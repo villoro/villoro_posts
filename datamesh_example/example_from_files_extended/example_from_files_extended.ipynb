{
 "cells": [
  {
   "cell_type": "code",
   "execution_count": 1,
   "metadata": {
    "ExecuteTime": {
     "end_time": "2021-11-24T15:59:31.911503Z",
     "start_time": "2021-11-24T15:59:31.561502Z"
    }
   },
   "outputs": [],
   "source": [
    "from datetime import date\n",
    "\n",
    "from create_data import recreate_databases, create_tables\n",
    "from jobs.order_created import do\n",
    "from utils import get_spark_session"
   ]
  },
  {
   "cell_type": "code",
   "execution_count": 2,
   "metadata": {
    "ExecuteTime": {
     "end_time": "2021-11-24T15:59:35.717727Z",
     "start_time": "2021-11-24T15:59:31.913501Z"
    }
   },
   "outputs": [
    {
     "name": "stderr",
     "output_type": "stream",
     "text": [
      "2021-11-24 16:59:31.914 | INFO     | utils:get_spark_session:7 - Creating Spark Session\n"
     ]
    }
   ],
   "source": [
    "spark = get_spark_session()"
   ]
  },
  {
   "cell_type": "code",
   "execution_count": 3,
   "metadata": {
    "ExecuteTime": {
     "end_time": "2021-11-24T15:59:36.952857Z",
     "start_time": "2021-11-24T15:59:35.719635Z"
    }
   },
   "outputs": [
    {
     "name": "stderr",
     "output_type": "stream",
     "text": [
      "2021-11-24 16:59:35.720 | INFO     | create_data:recreate_databases:29 - Removing spark warehouse (path = 'spark-warehouse')\n",
      "2021-11-24 16:59:35.736 | INFO     | create_data:recreate_databases:33 - Creating database 'standardized_glovo_live'\n",
      "2021-11-24 16:59:36.859 | INFO     | create_data:recreate_databases:33 - Creating database 'mpcustomer_custom_events'\n",
      "2021-11-24 16:59:36.880 | INFO     | create_data:recreate_databases:33 - Creating database 'mpcustomer_screen_views'\n",
      "2021-11-24 16:59:36.903 | INFO     | create_data:recreate_databases:33 - Creating database 'enriched_custom_events'\n",
      "2021-11-24 16:59:36.920 | INFO     | create_data:recreate_databases:33 - Creating database 'enriched_screen_views'\n"
     ]
    }
   ],
   "source": [
    "recreate_databases(spark)"
   ]
  },
  {
   "cell_type": "code",
   "execution_count": 4,
   "metadata": {
    "ExecuteTime": {
     "end_time": "2021-11-24T15:59:51.563355Z",
     "start_time": "2021-11-24T15:59:36.954856Z"
    }
   },
   "outputs": [
    {
     "name": "stderr",
     "output_type": "stream",
     "text": [
      "2021-11-24 16:59:36.954 | INFO     | create_data:create_table:80 - Creating table 'standardized_glovo_live.cities'\n",
      "2021-11-24 16:59:41.135 | INFO     | create_data:create_table:80 - Creating table 'standardized_glovo_live.devices'\n",
      "2021-11-24 16:59:44.391 | INFO     | create_data:create_table:80 - Creating table 'standardized_glovo_live.orders'\n",
      "2021-11-24 16:59:47.949 | INFO     | create_data:create_table:80 - Creating table 'mpcustomer_custom_events.order_created'\n"
     ]
    }
   ],
   "source": [
    "create_tables(spark)"
   ]
  },
  {
   "cell_type": "code",
   "execution_count": 5,
   "metadata": {
    "ExecuteTime": {
     "end_time": "2021-11-24T15:59:55.187879Z",
     "start_time": "2021-11-24T15:59:51.564356Z"
    }
   },
   "outputs": [
    {
     "name": "stderr",
     "output_type": "stream",
     "text": [
      "2021-11-24 16:59:51.565 | INFO     | adapters.loaders:load:30 - Loading 'mpcustomer_custom_events.order_created'\n",
      "2021-11-24 16:59:51.632 | INFO     | adapters.loaders:load:30 - Loading 'standardized_glovo_live.cities'\n",
      "2021-11-24 16:59:51.685 | INFO     | adapters.loaders:load:30 - Loading 'standardized_glovo_live.orders'\n",
      "2021-11-24 16:59:51.706 | INFO     | transformations.interfaces:_apply:13 - Applying transformation 'AddTimezone'\n",
      "2021-11-24 16:59:51.735 | INFO     | transformations.interfaces:_apply:13 - Applying transformation 'AddNumberOfOrders'\n",
      "2021-11-24 16:59:51.900 | INFO     | adapters.writers:write:23 - Writting 'enriched_custom_events.order_created'\n"
     ]
    }
   ],
   "source": [
    "do(spark, exec_date=date(2021, 11, 19), n_days=3)"
   ]
  },
  {
   "cell_type": "markdown",
   "metadata": {},
   "source": [
    "# Show input"
   ]
  },
  {
   "cell_type": "code",
   "execution_count": 6,
   "metadata": {
    "ExecuteTime": {
     "end_time": "2021-11-24T15:59:55.374876Z",
     "start_time": "2021-11-24T15:59:55.188877Z"
    }
   },
   "outputs": [
    {
     "name": "stdout",
     "output_type": "stream",
     "text": [
      "+-----------------------+-----------+-------------------+---------------+\n",
      "|custom_attributes__city|customer_id|      creation_time|p_creation_date|\n",
      "+-----------------------+-----------+-------------------+---------------+\n",
      "|                    BCN|          1|2021-11-19 12:00:00|     2021-11-19|\n",
      "|                    BCN|          1|2021-11-18 08:00:00|     2021-11-18|\n",
      "|                    CAG|          2|2021-11-17 05:05:00|     2021-11-17|\n",
      "|                    CAG|          2|2021-11-01 07:29:00|     2021-11-01|\n",
      "+-----------------------+-----------+-------------------+---------------+\n",
      "\n"
     ]
    }
   ],
   "source": [
    "spark.table(\"mpcustomer_custom_events.order_created\").show()"
   ]
  },
  {
   "cell_type": "markdown",
   "metadata": {},
   "source": [
    "# Show outputs"
   ]
  },
  {
   "cell_type": "code",
   "execution_count": 7,
   "metadata": {
    "ExecuteTime": {
     "end_time": "2021-11-24T15:59:55.531877Z",
     "start_time": "2021-11-24T15:59:55.376877Z"
    }
   },
   "outputs": [
    {
     "name": "stdout",
     "output_type": "stream",
     "text": [
      "+-----------------------+-----------+-------------------+---------------+-------------+------------+----------------+\n",
      "|custom_attributes__city|customer_id|      creation_time|p_creation_date|    time_zone|country_code|number_of_orders|\n",
      "+-----------------------+-----------+-------------------+---------------+-------------+------------+----------------+\n",
      "|                    BCN|          1|2021-11-19 12:00:00|     2021-11-19|Europe/Madrid|          ES|               2|\n",
      "|                    BCN|          1|2021-11-18 08:00:00|     2021-11-18|Europe/Madrid|          ES|               2|\n",
      "|                    CAG|          2|2021-11-17 05:05:00|     2021-11-17|  Europe/Rome|          IT|               1|\n",
      "+-----------------------+-----------+-------------------+---------------+-------------+------------+----------------+\n",
      "\n"
     ]
    }
   ],
   "source": [
    "spark.table(\"enriched_custom_events.order_created\").show()"
   ]
  }
 ],
 "metadata": {
  "kernelspec": {
   "display_name": "Python 3",
   "language": "python",
   "name": "python3"
  },
  "language_info": {
   "codemirror_mode": {
    "name": "ipython",
    "version": 3
   },
   "file_extension": ".py",
   "mimetype": "text/x-python",
   "name": "python",
   "nbconvert_exporter": "python",
   "pygments_lexer": "ipython3",
   "version": "3.7.6"
  }
 },
 "nbformat": 4,
 "nbformat_minor": 4
}
