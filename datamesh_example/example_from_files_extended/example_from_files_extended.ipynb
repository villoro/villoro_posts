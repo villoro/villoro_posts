{
 "cells": [
  {
   "cell_type": "code",
   "execution_count": 1,
   "metadata": {
    "ExecuteTime": {
     "end_time": "2021-11-25T12:01:45.397581Z",
     "start_time": "2021-11-25T12:01:45.031104Z"
    }
   },
   "outputs": [],
   "source": [
    "from datetime import date\n",
    "\n",
    "from create_data import recreate_databases, create_tables\n",
    "from jobs.order_created import do\n",
    "from utils import get_spark_session"
   ]
  },
  {
   "cell_type": "code",
   "execution_count": 2,
   "metadata": {
    "ExecuteTime": {
     "end_time": "2021-11-25T12:01:49.297640Z",
     "start_time": "2021-11-25T12:01:45.399538Z"
    }
   },
   "outputs": [
    {
     "name": "stderr",
     "output_type": "stream",
     "text": [
      "2021-11-25 13:01:45.400 | INFO     | utils:get_spark_session:7 - Creating Spark Session\n"
     ]
    }
   ],
   "source": [
    "spark = get_spark_session()"
   ]
  },
  {
   "cell_type": "code",
   "execution_count": 3,
   "metadata": {
    "ExecuteTime": {
     "end_time": "2021-11-25T12:01:50.599865Z",
     "start_time": "2021-11-25T12:01:49.299639Z"
    }
   },
   "outputs": [
    {
     "name": "stderr",
     "output_type": "stream",
     "text": [
      "2021-11-25 13:01:49.300 | INFO     | create_data:recreate_databases:29 - Removing spark warehouse (path = 'spark-warehouse')\n",
      "2021-11-25 13:01:49.320 | INFO     | create_data:recreate_databases:33 - Creating database 'standardized_glovo_live'\n",
      "2021-11-25 13:01:50.526 | INFO     | create_data:recreate_databases:33 - Creating database 'mpcustomer_custom_events'\n",
      "2021-11-25 13:01:50.545 | INFO     | create_data:recreate_databases:33 - Creating database 'mpcustomer_screen_views'\n",
      "2021-11-25 13:01:50.563 | INFO     | create_data:recreate_databases:33 - Creating database 'enriched_custom_events'\n",
      "2021-11-25 13:01:50.577 | INFO     | create_data:recreate_databases:33 - Creating database 'enriched_screen_views'\n"
     ]
    }
   ],
   "source": [
    "recreate_databases(spark)"
   ]
  },
  {
   "cell_type": "code",
   "execution_count": 4,
   "metadata": {
    "ExecuteTime": {
     "end_time": "2021-11-25T12:02:12.150521Z",
     "start_time": "2021-11-25T12:01:50.601866Z"
    }
   },
   "outputs": [
    {
     "name": "stderr",
     "output_type": "stream",
     "text": [
      "2021-11-25 13:01:50.602 | INFO     | create_data:create_table:91 - Creating table 'standardized_glovo_live.cities'\n",
      "2021-11-25 13:01:54.914 | INFO     | create_data:create_table:91 - Creating table 'standardized_glovo_live.devices'\n",
      "2021-11-25 13:01:58.328 | INFO     | create_data:create_table:91 - Creating table 'standardized_glovo_live.orders'\n",
      "2021-11-25 13:02:01.745 | INFO     | create_data:create_table:91 - Creating table 'standardized_glovo_live.customer_subscriptions'\n",
      "2021-11-25 13:02:05.157 | INFO     | create_data:create_table:91 - Creating table 'standardized_glovo_live.customer_subscription_periods'\n",
      "2021-11-25 13:02:08.709 | INFO     | create_data:create_table:91 - Creating table 'mpcustomer_custom_events.order_created'\n"
     ]
    }
   ],
   "source": [
    "create_tables(spark)"
   ]
  },
  {
   "cell_type": "code",
   "execution_count": 5,
   "metadata": {
    "ExecuteTime": {
     "end_time": "2021-11-25T12:02:16.020507Z",
     "start_time": "2021-11-25T12:02:12.151507Z"
    }
   },
   "outputs": [
    {
     "name": "stderr",
     "output_type": "stream",
     "text": [
      "2021-11-25 13:02:12.152 | INFO     | loaders:load:47 - Loading 'mpcustomer_custom_events.order_created'\n",
      "2021-11-25 13:02:12.234 | INFO     | loaders:load:47 - Loading 'standardized_glovo_live.cities'\n",
      "2021-11-25 13:02:12.295 | INFO     | loaders:load:47 - Loading 'standardized_glovo_live.orders'\n",
      "2021-11-25 13:02:12.435 | INFO     | transformations.interfaces:_apply:13 - Applying transformation 'AddTimezone'\n",
      "2021-11-25 13:02:12.455 | INFO     | transformations.interfaces:_apply:13 - Applying transformation 'AddLocalTime'\n",
      "2021-11-25 13:02:12.533 | INFO     | transformations.interfaces:_apply:13 - Applying transformation 'AddNumberOfOrders'\n",
      "2021-11-25 13:02:12.688 | INFO     | transformations.interfaces:_apply:13 - Applying transformation 'AddIsPrime'\n",
      "2021-11-25 13:02:12.743 | INFO     | writers:write:23 - Writting 'enriched_custom_events.order_created'\n"
     ]
    }
   ],
   "source": [
    "do(spark, exec_date=date(2021, 11, 19), n_days=3)"
   ]
  },
  {
   "cell_type": "markdown",
   "metadata": {},
   "source": [
    "# Show input"
   ]
  },
  {
   "cell_type": "code",
   "execution_count": 6,
   "metadata": {
    "ExecuteTime": {
     "end_time": "2021-11-25T12:02:16.194507Z",
     "start_time": "2021-11-25T12:02:16.022511Z"
    }
   },
   "outputs": [
    {
     "name": "stdout",
     "output_type": "stream",
     "text": [
      "+-----------------------+-----------+-------------------+---------------+\n",
      "|custom_attributes__city|customer_id|      creation_time|p_creation_date|\n",
      "+-----------------------+-----------+-------------------+---------------+\n",
      "|                    BCN|          1|2021-11-19 12:00:00|     2021-11-19|\n",
      "|                    BCN|          1|2021-11-18 08:00:00|     2021-11-18|\n",
      "|                    CAG|          2|2021-11-17 05:05:00|     2021-11-17|\n",
      "|                    CAG|          2|2021-11-01 07:29:00|     2021-11-01|\n",
      "+-----------------------+-----------+-------------------+---------------+\n",
      "\n"
     ]
    }
   ],
   "source": [
    "spark.table(\"mpcustomer_custom_events.order_created\").show()"
   ]
  },
  {
   "cell_type": "markdown",
   "metadata": {},
   "source": [
    "# Show outputs"
   ]
  },
  {
   "cell_type": "code",
   "execution_count": 7,
   "metadata": {
    "ExecuteTime": {
     "end_time": "2021-11-25T12:02:16.366510Z",
     "start_time": "2021-11-25T12:02:16.195508Z"
    }
   },
   "outputs": [
    {
     "name": "stdout",
     "output_type": "stream",
     "text": [
      "+-----------------------+-----------+-------------------+---------------+-------------+------------+-------------------+-----------+----------------+--------+\n",
      "|custom_attributes__city|customer_id|      creation_time|p_creation_date|    time_zone|country_code|creation_time_local|time_of_day|number_of_orders|is_prime|\n",
      "+-----------------------+-----------+-------------------+---------------+-------------+------------+-------------------+-----------+----------------+--------+\n",
      "|                    CAG|          2|2021-11-17 05:05:00|     2021-11-17|  Europe/Rome|          IT|2021-11-17 06:05:00|  Breakfast|               1|    true|\n",
      "|                    BCN|          1|2021-11-19 12:00:00|     2021-11-19|Europe/Madrid|          ES|2021-11-19 13:00:00|      Lunch|               2|   false|\n",
      "|                    BCN|          1|2021-11-18 08:00:00|     2021-11-18|Europe/Madrid|          ES|2021-11-18 09:00:00|  Breakfast|               2|   false|\n",
      "+-----------------------+-----------+-------------------+---------------+-------------+------------+-------------------+-----------+----------------+--------+\n",
      "\n"
     ]
    }
   ],
   "source": [
    "spark.table(\"enriched_custom_events.order_created\").show()"
   ]
  },
  {
   "cell_type": "code",
   "execution_count": null,
   "metadata": {},
   "outputs": [],
   "source": []
  }
 ],
 "metadata": {
  "kernelspec": {
   "display_name": "Python 3",
   "language": "python",
   "name": "python3"
  },
  "language_info": {
   "codemirror_mode": {
    "name": "ipython",
    "version": 3
   },
   "file_extension": ".py",
   "mimetype": "text/x-python",
   "name": "python",
   "nbconvert_exporter": "python",
   "pygments_lexer": "ipython3",
   "version": "3.7.6"
  }
 },
 "nbformat": 4,
 "nbformat_minor": 4
}
