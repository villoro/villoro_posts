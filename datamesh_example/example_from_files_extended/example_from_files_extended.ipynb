{
 "cells": [
  {
   "cell_type": "code",
   "execution_count": 1,
   "metadata": {
    "ExecuteTime": {
     "end_time": "2021-11-26T14:58:36.797866Z",
     "start_time": "2021-11-26T14:58:36.135486Z"
    }
   },
   "outputs": [],
   "source": [
    "from datetime import date\n",
    "\n",
    "from create_data import recreate_databases, create_tables\n",
    "from jobs.enrich_action import EnrichCEOrderCreatedJob\n",
    "from utils import get_spark_session"
   ]
  },
  {
   "cell_type": "code",
   "execution_count": 2,
   "metadata": {
    "ExecuteTime": {
     "end_time": "2021-11-26T14:58:44.982536Z",
     "start_time": "2021-11-26T14:58:36.799866Z"
    }
   },
   "outputs": [
    {
     "name": "stderr",
     "output_type": "stream",
     "text": [
      "2021-11-26 15:58:36.800 | INFO     | utils:get_spark_session:7 - Creating Spark Session\n"
     ]
    }
   ],
   "source": [
    "spark = get_spark_session()"
   ]
  },
  {
   "cell_type": "code",
   "execution_count": 3,
   "metadata": {
    "ExecuteTime": {
     "end_time": "2021-11-26T14:58:48.160379Z",
     "start_time": "2021-11-26T14:58:44.986437Z"
    }
   },
   "outputs": [
    {
     "name": "stderr",
     "output_type": "stream",
     "text": [
      "2021-11-26 15:58:44.988 | INFO     | create_data:recreate_databases:29 - Removing spark warehouse (path = 'spark-warehouse')\n",
      "2021-11-26 15:58:45.041 | INFO     | create_data:recreate_databases:33 - Creating database 'standardized_glovo_live'\n",
      "2021-11-26 15:58:47.962 | INFO     | create_data:recreate_databases:33 - Creating database 'mpcustomer_custom_events'\n",
      "2021-11-26 15:58:48.025 | INFO     | create_data:recreate_databases:33 - Creating database 'mpcustomer_screen_views'\n",
      "2021-11-26 15:58:48.071 | INFO     | create_data:recreate_databases:33 - Creating database 'enriched_custom_events'\n",
      "2021-11-26 15:58:48.108 | INFO     | create_data:recreate_databases:33 - Creating database 'enriched_screen_views'\n"
     ]
    }
   ],
   "source": [
    "recreate_databases(spark)"
   ]
  },
  {
   "cell_type": "code",
   "execution_count": 4,
   "metadata": {
    "ExecuteTime": {
     "end_time": "2021-11-26T14:59:32.585271Z",
     "start_time": "2021-11-26T14:58:48.163359Z"
    }
   },
   "outputs": [
    {
     "name": "stderr",
     "output_type": "stream",
     "text": [
      "2021-11-26 15:58:48.165 | INFO     | create_data:create_table:91 - Creating table 'standardized_glovo_live.cities'\n",
      "2021-11-26 15:58:57.160 | INFO     | create_data:create_table:91 - Creating table 'standardized_glovo_live.devices'\n",
      "2021-11-26 15:59:03.998 | INFO     | create_data:create_table:91 - Creating table 'standardized_glovo_live.orders'\n",
      "2021-11-26 15:59:11.249 | INFO     | create_data:create_table:91 - Creating table 'standardized_glovo_live.customer_subscriptions'\n",
      "2021-11-26 15:59:18.187 | INFO     | create_data:create_table:91 - Creating table 'standardized_glovo_live.customer_subscription_periods'\n",
      "2021-11-26 15:59:24.608 | INFO     | create_data:create_table:91 - Creating table 'mpcustomer_custom_events.order_created'\n"
     ]
    }
   ],
   "source": [
    "create_tables(spark)"
   ]
  },
  {
   "cell_type": "code",
   "execution_count": 5,
   "metadata": {
    "ExecuteTime": {
     "end_time": "2021-11-26T14:59:45.709809Z",
     "start_time": "2021-11-26T14:59:32.588275Z"
    }
   },
   "outputs": [
    {
     "name": "stderr",
     "output_type": "stream",
     "text": [
      "2021-11-26 15:59:32.590 | INFO     | loaders:load:47 - Loading 'mpcustomer_custom_events.order_created'\n",
      "2021-11-26 15:59:32.743 | INFO     | loaders:load:47 - Loading 'standardized_glovo_live.cities'\n",
      "2021-11-26 15:59:32.858 | INFO     | loaders:load:47 - Loading 'standardized_glovo_live.orders'\n",
      "2021-11-26 15:59:32.891 | INFO     | ports.live_db:load:72 - Loading 'standardized_glovo_live.customer_subscriptions'\n",
      "2021-11-26 15:59:33.092 | INFO     | transformations.interfaces:_apply:13 - Applying transformation 'AddTimezone'\n",
      "2021-11-26 15:59:33.158 | INFO     | transformations.interfaces:_apply:13 - Applying transformation 'AddLocalTime'\n",
      "2021-11-26 15:59:33.449 | INFO     | transformations.interfaces:_apply:13 - Applying transformation 'AddNumberOfOrders'\n",
      "2021-11-26 15:59:33.922 | INFO     | transformations.interfaces:_apply:13 - Applying transformation 'AddIsPrime'\n",
      "2021-11-26 15:59:34.109 | INFO     | writers:write:23 - Writting 'enriched_custom_events.order_created'\n"
     ]
    }
   ],
   "source": [
    "order_created_job = EnrichCEOrderCreatedJob(\n",
    "    spark=spark,\n",
    "    exec_date=date(2021, 11, 19),\n",
    "    n_days=3\n",
    ")\n",
    "order_created_job.run()"
   ]
  },
  {
   "cell_type": "markdown",
   "metadata": {},
   "source": [
    "# Show input"
   ]
  },
  {
   "cell_type": "code",
   "execution_count": 6,
   "metadata": {
    "ExecuteTime": {
     "end_time": "2021-11-26T14:59:46.240577Z",
     "start_time": "2021-11-26T14:59:45.716798Z"
    }
   },
   "outputs": [
    {
     "name": "stdout",
     "output_type": "stream",
     "text": [
      "+-----------------------+-----------+-------------------+---------------+\n",
      "|custom_attributes__city|customer_id|      creation_time|p_creation_date|\n",
      "+-----------------------+-----------+-------------------+---------------+\n",
      "|                    BCN|          1|2021-11-19 12:00:00|     2021-11-19|\n",
      "|                    BCN|          1|2021-11-18 08:00:00|     2021-11-18|\n",
      "|                    CAG|          2|2021-11-17 05:05:00|     2021-11-17|\n",
      "|                    CAG|          2|2021-11-01 07:29:00|     2021-11-01|\n",
      "+-----------------------+-----------+-------------------+---------------+\n",
      "\n"
     ]
    }
   ],
   "source": [
    "spark.table(\"mpcustomer_custom_events.order_created\").show()"
   ]
  },
  {
   "cell_type": "markdown",
   "metadata": {},
   "source": [
    "# Show outputs"
   ]
  },
  {
   "cell_type": "code",
   "execution_count": 7,
   "metadata": {
    "ExecuteTime": {
     "end_time": "2021-11-26T14:59:46.598578Z",
     "start_time": "2021-11-26T14:59:46.244575Z"
    }
   },
   "outputs": [
    {
     "name": "stdout",
     "output_type": "stream",
     "text": [
      "+-----------------------+-----------+-------------------+---------------+-------------+------------+-------------------+-----------+----------------+--------+\n",
      "|custom_attributes__city|customer_id|      creation_time|p_creation_date|    time_zone|country_code|creation_time_local|time_of_day|number_of_orders|is_prime|\n",
      "+-----------------------+-----------+-------------------+---------------+-------------+------------+-------------------+-----------+----------------+--------+\n",
      "|                    CAG|          2|2021-11-17 05:05:00|     2021-11-17|  Europe/Rome|          IT|2021-11-17 06:05:00|  Breakfast|               1|    true|\n",
      "|                    BCN|          1|2021-11-19 12:00:00|     2021-11-19|Europe/Madrid|          ES|2021-11-19 13:00:00|      Lunch|               2|   false|\n",
      "|                    BCN|          1|2021-11-18 08:00:00|     2021-11-18|Europe/Madrid|          ES|2021-11-18 09:00:00|  Breakfast|               2|   false|\n",
      "+-----------------------+-----------+-------------------+---------------+-------------+------------+-------------------+-----------+----------------+--------+\n",
      "\n"
     ]
    }
   ],
   "source": [
    "spark.table(\"enriched_custom_events.order_created\").show()"
   ]
  },
  {
   "cell_type": "code",
   "execution_count": null,
   "metadata": {},
   "outputs": [],
   "source": []
  }
 ],
 "metadata": {
  "kernelspec": {
   "display_name": "Python 3",
   "language": "python",
   "name": "python3"
  },
  "language_info": {
   "codemirror_mode": {
    "name": "ipython",
    "version": 3
   },
   "file_extension": ".py",
   "mimetype": "text/x-python",
   "name": "python",
   "nbconvert_exporter": "python",
   "pygments_lexer": "ipython3",
   "version": "3.7.6"
  }
 },
 "nbformat": 4,
 "nbformat_minor": 4
}
