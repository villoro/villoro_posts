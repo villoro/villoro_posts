{
 "cells": [
  {
   "cell_type": "markdown",
   "metadata": {},
   "source": [
    "# Pyspark introduction"
   ]
  },
  {
   "cell_type": "code",
   "execution_count": 1,
   "metadata": {
    "ExecuteTime": {
     "end_time": "2019-12-21T19:13:23.269878Z",
     "start_time": "2019-12-21T19:13:23.038518Z"
    }
   },
   "outputs": [],
   "source": [
    "from pyspark.sql import SparkSession, types\n",
    "from pyspark.sql.functions import udf, when\n",
    "from pyspark.sql.types import IntegerType"
   ]
  },
  {
   "cell_type": "code",
   "execution_count": 2,
   "metadata": {
    "ExecuteTime": {
     "end_time": "2019-12-21T19:13:28.445577Z",
     "start_time": "2019-12-21T19:13:23.276848Z"
    }
   },
   "outputs": [
    {
     "name": "stdout",
     "output_type": "stream",
     "text": [
      "2.4.4\n"
     ]
    }
   ],
   "source": [
    "spark = SparkSession.builder.appName(\"pyspark_intro\").getOrCreate()\n",
    "sc = spark.sparkContext\n",
    "print(spark.version)"
   ]
  },
  {
   "cell_type": "markdown",
   "metadata": {},
   "source": [
    "## 1. Create dataframe"
   ]
  },
  {
   "cell_type": "markdown",
   "metadata": {
    "ExecuteTime": {
     "end_time": "2019-12-21T10:44:05.962932Z",
     "start_time": "2019-12-21T10:44:05.959959Z"
    }
   },
   "source": [
    "### 1.1. Read file\n",
    "It can read all common tabular data file sources like csv or parquet."
   ]
  },
  {
   "cell_type": "code",
   "execution_count": 3,
   "metadata": {
    "ExecuteTime": {
     "end_time": "2019-12-21T19:13:33.976615Z",
     "start_time": "2019-12-21T19:13:28.448567Z"
    }
   },
   "outputs": [
    {
     "data": {
      "text/plain": [
       "(892, 419)"
      ]
     },
     "execution_count": 3,
     "metadata": {},
     "output_type": "execute_result"
    }
   ],
   "source": [
    "sdf_train = spark.read.format(\"csv\").load(\"datasets/titanic_train.csv\")\n",
    "sdf_test = spark.read.format(\"csv\").load(\"datasets/titanic_test.csv\")\n",
    "sdf_train.count(), sdf_test.count()"
   ]
  },
  {
   "cell_type": "markdown",
   "metadata": {},
   "source": [
    "And it can use wildcards for reading. For example let's read both `titanic_train.csv` and `titanic_test.csv` as one dataframe"
   ]
  },
  {
   "cell_type": "code",
   "execution_count": 4,
   "metadata": {
    "ExecuteTime": {
     "end_time": "2019-12-21T19:13:34.578321Z",
     "start_time": "2019-12-21T19:13:33.978611Z"
    }
   },
   "outputs": [
    {
     "data": {
      "text/plain": [
       "1311"
      ]
     },
     "execution_count": 4,
     "metadata": {},
     "output_type": "execute_result"
    }
   ],
   "source": [
    "sdf = spark.read.format(\"csv\").load(\"datasets/titanic_*.csv\")\n",
    "sdf.count()"
   ]
  },
  {
   "cell_type": "markdown",
   "metadata": {},
   "source": [
    "### 1.2. RDD\n",
    "It is possible to read raw files and process them.\n",
    "As an example we are reading a csv and transform it to a datafram.\n",
    "\n",
    "<div class=\"alert alert-warning\" role=\"alert\">\n",
    "    It is only an example is better to read it directly as a dataframe\n",
    "</div>"
   ]
  },
  {
   "cell_type": "code",
   "execution_count": 5,
   "metadata": {
    "ExecuteTime": {
     "end_time": "2019-12-21T19:13:36.692151Z",
     "start_time": "2019-12-21T19:13:34.579318Z"
    }
   },
   "outputs": [
    {
     "name": "stdout",
     "output_type": "stream",
     "text": [
      "+---+---+---+--------------+\n",
      "| PL| SL| SW|classification|\n",
      "+---+---+---+--------------+\n",
      "| PL| SL| SW|            PW|\n",
      "|1,4|5,1|3,5|           0,2|\n",
      "|1,4|4,9|  3|           0,2|\n",
      "+---+---+---+--------------+\n",
      "only showing top 3 rows\n",
      "\n"
     ]
    }
   ],
   "source": [
    "data = sc.textFile(\"datasets/iris.csv\")\n",
    "parts = data.map(lambda x: x.split(\";\"))\n",
    "\n",
    "iris_data = parts.map(lambda x: types.Row(SL=x[0], SW=x[1], PL=x[2], classification=x[3]))\n",
    "sdf = spark.createDataFrame(iris_data)\n",
    "\n",
    "sdf.show(3)"
   ]
  },
  {
   "cell_type": "markdown",
   "metadata": {},
   "source": [
    "## 2. Inspect\n",
    "By default outputting the dataframe only shows the columns and types"
   ]
  },
  {
   "cell_type": "code",
   "execution_count": 6,
   "metadata": {
    "ExecuteTime": {
     "end_time": "2019-12-21T19:13:36.964424Z",
     "start_time": "2019-12-21T19:13:36.693149Z"
    }
   },
   "outputs": [
    {
     "data": {
      "text/plain": [
       "DataFrame[PassengerId: string, Survived: string, Pclass: string, Name: string, Sex: string, Age: string, SibSp: string, Parch: string, Ticket: string, Fare: string, Cabin: string, Embarked: string]"
      ]
     },
     "execution_count": 6,
     "metadata": {},
     "output_type": "execute_result"
    }
   ],
   "source": [
    "sdf = spark.read.option(\"header\", \"true\").format(\"csv\").load(\"datasets/titanic_train.csv\")\n",
    "sdf"
   ]
  },
  {
   "cell_type": "markdown",
   "metadata": {},
   "source": [
    "### 2.1. Show data"
   ]
  },
  {
   "cell_type": "code",
   "execution_count": 7,
   "metadata": {
    "ExecuteTime": {
     "end_time": "2019-12-21T19:13:37.123997Z",
     "start_time": "2019-12-21T19:13:36.965434Z"
    }
   },
   "outputs": [
    {
     "name": "stdout",
     "output_type": "stream",
     "text": [
      "+-----------+--------+------+--------------------+------+---+-----+-----+----------------+-------+-----+--------+\n",
      "|PassengerId|Survived|Pclass|                Name|   Sex|Age|SibSp|Parch|          Ticket|   Fare|Cabin|Embarked|\n",
      "+-----------+--------+------+--------------------+------+---+-----+-----+----------------+-------+-----+--------+\n",
      "|          1|       0|     3|Braund, Mr. Owen ...|  male| 22|    1|    0|       A/5 21171|   7.25| null|       S|\n",
      "|          2|       1|     1|Cumings, Mrs. Joh...|female| 38|    1|    0|        PC 17599|71.2833|  C85|       C|\n",
      "|          3|       1|     3|Heikkinen, Miss. ...|female| 26|    0|    0|STON/O2. 3101282|  7.925| null|       S|\n",
      "|          4|       1|     1|Futrelle, Mrs. Ja...|female| 35|    1|    0|          113803|   53.1| C123|       S|\n",
      "|          5|       0|     3|Allen, Mr. Willia...|  male| 35|    0|    0|          373450|   8.05| null|       S|\n",
      "+-----------+--------+------+--------------------+------+---+-----+-----+----------------+-------+-----+--------+\n",
      "only showing top 5 rows\n",
      "\n"
     ]
    }
   ],
   "source": [
    "# Display first N rows\n",
    "sdf.show(5)"
   ]
  },
  {
   "cell_type": "markdown",
   "metadata": {},
   "source": [
    "### 2.2. General info "
   ]
  },
  {
   "cell_type": "code",
   "execution_count": 8,
   "metadata": {
    "ExecuteTime": {
     "end_time": "2019-12-21T19:13:37.259667Z",
     "start_time": "2019-12-21T19:13:37.126990Z"
    }
   },
   "outputs": [
    {
     "data": {
      "text/plain": [
       "891"
      ]
     },
     "execution_count": 8,
     "metadata": {},
     "output_type": "execute_result"
    }
   ],
   "source": [
    "sdf.count()"
   ]
  },
  {
   "cell_type": "code",
   "execution_count": 9,
   "metadata": {
    "ExecuteTime": {
     "end_time": "2019-12-21T19:13:37.266616Z",
     "start_time": "2019-12-21T19:13:37.261629Z"
    }
   },
   "outputs": [
    {
     "data": {
      "text/plain": [
       "StructType(List(StructField(PassengerId,StringType,true),StructField(Survived,StringType,true),StructField(Pclass,StringType,true),StructField(Name,StringType,true),StructField(Sex,StringType,true),StructField(Age,StringType,true),StructField(SibSp,StringType,true),StructField(Parch,StringType,true),StructField(Ticket,StringType,true),StructField(Fare,StringType,true),StructField(Cabin,StringType,true),StructField(Embarked,StringType,true)))"
      ]
     },
     "execution_count": 9,
     "metadata": {},
     "output_type": "execute_result"
    }
   ],
   "source": [
    "sdf.schema"
   ]
  },
  {
   "cell_type": "code",
   "execution_count": 10,
   "metadata": {
    "ExecuteTime": {
     "end_time": "2019-12-21T19:13:37.276611Z",
     "start_time": "2019-12-21T19:13:37.267614Z"
    }
   },
   "outputs": [
    {
     "data": {
      "text/plain": [
       "['PassengerId',\n",
       " 'Survived',\n",
       " 'Pclass',\n",
       " 'Name',\n",
       " 'Sex',\n",
       " 'Age',\n",
       " 'SibSp',\n",
       " 'Parch',\n",
       " 'Ticket',\n",
       " 'Fare',\n",
       " 'Cabin',\n",
       " 'Embarked']"
      ]
     },
     "execution_count": 10,
     "metadata": {},
     "output_type": "execute_result"
    }
   ],
   "source": [
    "sdf.columns"
   ]
  },
  {
   "cell_type": "code",
   "execution_count": 11,
   "metadata": {
    "ExecuteTime": {
     "end_time": "2019-12-21T19:13:37.283571Z",
     "start_time": "2019-12-21T19:13:37.278585Z"
    }
   },
   "outputs": [
    {
     "data": {
      "text/plain": [
       "[('PassengerId', 'string'),\n",
       " ('Survived', 'string'),\n",
       " ('Pclass', 'string'),\n",
       " ('Name', 'string'),\n",
       " ('Sex', 'string'),\n",
       " ('Age', 'string'),\n",
       " ('SibSp', 'string'),\n",
       " ('Parch', 'string'),\n",
       " ('Ticket', 'string'),\n",
       " ('Fare', 'string'),\n",
       " ('Cabin', 'string'),\n",
       " ('Embarked', 'string')]"
      ]
     },
     "execution_count": 11,
     "metadata": {},
     "output_type": "execute_result"
    }
   ],
   "source": [
    "sdf.dtypes"
   ]
  },
  {
   "cell_type": "code",
   "execution_count": 12,
   "metadata": {
    "ExecuteTime": {
     "end_time": "2019-12-21T19:13:38.133505Z",
     "start_time": "2019-12-21T19:13:37.285565Z"
    }
   },
   "outputs": [
    {
     "name": "stdout",
     "output_type": "stream",
     "text": [
      "+-------+------------------+-------------------+------------------+------------------+--------------+\n",
      "|summary|                SL|                 SW|                PL|                PW|Classification|\n",
      "+-------+------------------+-------------------+------------------+------------------+--------------+\n",
      "|  count|               150|                150|               150|               150|           150|\n",
      "|   mean| 5.470588235294118|                3.0|4.3076923076923075|1.4615384615384615|          null|\n",
      "| stddev|0.6242642728467979|0.27216552697590873|1.3155870289605438|0.5188745216627707|          null|\n",
      "|    min|               4,3|                  2|                 1|               0,1|   Iris-setosa|\n",
      "|    max|               7,9|                4,4|               6,9|               2,5|Iris-virginica|\n",
      "+-------+------------------+-------------------+------------------+------------------+--------------+\n",
      "\n"
     ]
    }
   ],
   "source": [
    "(\n",
    "    spark\n",
    "    .read\n",
    "    .option(\"header\", \"true\")\n",
    "    .option(\"delimiter\", \";\")\n",
    "    .format(\"csv\")\n",
    "    .load(\"datasets/iris.csv\")\n",
    ").describe().show()"
   ]
  },
  {
   "cell_type": "markdown",
   "metadata": {},
   "source": [
    "## 3. Slicing"
   ]
  },
  {
   "cell_type": "markdown",
   "metadata": {},
   "source": [
    "### 3.1. First rows"
   ]
  },
  {
   "cell_type": "code",
   "execution_count": 13,
   "metadata": {
    "ExecuteTime": {
     "end_time": "2019-12-21T19:13:38.250162Z",
     "start_time": "2019-12-21T19:13:38.134472Z"
    }
   },
   "outputs": [
    {
     "data": {
      "text/plain": [
       "[Row(PassengerId='1', Survived='0', Pclass='3', Name='Braund, Mr. Owen Harris', Sex='male', Age='22', SibSp='1', Parch='0', Ticket='A/5 21171', Fare='7.25', Cabin=None, Embarked='S'),\n",
       " Row(PassengerId='2', Survived='1', Pclass='1', Name='Cumings, Mrs. John Bradley (Florence Briggs Thayer)', Sex='female', Age='38', SibSp='1', Parch='0', Ticket='PC 17599', Fare='71.2833', Cabin='C85', Embarked='C')]"
      ]
     },
     "execution_count": 13,
     "metadata": {},
     "output_type": "execute_result"
    }
   ],
   "source": [
    "# Retrive first N rows\n",
    "sdf.head(2) # or sdf.take(N)"
   ]
  },
  {
   "cell_type": "markdown",
   "metadata": {},
   "source": [
    "<div class=\"alert alert-info\" role=\"alert\">\n",
    "    <b>sdf.head()</b> and/or <b>sdf.take()</b> both retrives a list of rows, it is not a dataframe\n",
    "</div>"
   ]
  },
  {
   "cell_type": "code",
   "execution_count": 14,
   "metadata": {
    "ExecuteTime": {
     "end_time": "2019-12-21T19:13:38.391811Z",
     "start_time": "2019-12-21T19:13:38.251159Z"
    }
   },
   "outputs": [
    {
     "name": "stdout",
     "output_type": "stream",
     "text": [
      "+-----------+--------+------+--------------------+------+---+-----+-----+----------------+-------+-----+--------+\n",
      "|PassengerId|Survived|Pclass|                Name|   Sex|Age|SibSp|Parch|          Ticket|   Fare|Cabin|Embarked|\n",
      "+-----------+--------+------+--------------------+------+---+-----+-----+----------------+-------+-----+--------+\n",
      "|          1|       0|     3|Braund, Mr. Owen ...|  male| 22|    1|    0|       A/5 21171|   7.25| null|       S|\n",
      "|          2|       1|     1|Cumings, Mrs. Joh...|female| 38|    1|    0|        PC 17599|71.2833|  C85|       C|\n",
      "|          3|       1|     3|Heikkinen, Miss. ...|female| 26|    0|    0|STON/O2. 3101282|  7.925| null|       S|\n",
      "|          4|       1|     1|Futrelle, Mrs. Ja...|female| 35|    1|    0|          113803|   53.1| C123|       S|\n",
      "|          5|       0|     3|Allen, Mr. Willia...|  male| 35|    0|    0|          373450|   8.05| null|       S|\n",
      "+-----------+--------+------+--------------------+------+---+-----+-----+----------------+-------+-----+--------+\n",
      "\n"
     ]
    }
   ],
   "source": [
    "# Slice the dataframe to the N first rows\n",
    "sdf.limit(5).show()"
   ]
  },
  {
   "cell_type": "markdown",
   "metadata": {},
   "source": [
    "### 3.2. Filter columns"
   ]
  },
  {
   "cell_type": "code",
   "execution_count": 15,
   "metadata": {
    "ExecuteTime": {
     "end_time": "2019-12-21T19:13:38.532412Z",
     "start_time": "2019-12-21T19:13:38.393778Z"
    }
   },
   "outputs": [
    {
     "name": "stdout",
     "output_type": "stream",
     "text": [
      "+------+\n",
      "|   Sex|\n",
      "+------+\n",
      "|  male|\n",
      "|female|\n",
      "|female|\n",
      "+------+\n",
      "only showing top 3 rows\n",
      "\n"
     ]
    }
   ],
   "source": [
    "sdf.select(\"Sex\").show(3)"
   ]
  },
  {
   "cell_type": "code",
   "execution_count": 16,
   "metadata": {
    "ExecuteTime": {
     "end_time": "2019-12-21T19:13:38.664058Z",
     "start_time": "2019-12-21T19:13:38.534409Z"
    }
   },
   "outputs": [
    {
     "name": "stdout",
     "output_type": "stream",
     "text": [
      "+------+---+\n",
      "|   Sex|Age|\n",
      "+------+---+\n",
      "|  male| 22|\n",
      "|female| 38|\n",
      "|female| 26|\n",
      "+------+---+\n",
      "only showing top 3 rows\n",
      "\n"
     ]
    }
   ],
   "source": [
    "sdf.select(\"Sex\", \"Age\").show(3)"
   ]
  },
  {
   "cell_type": "markdown",
   "metadata": {},
   "source": [
    "### 3.3. Filter rows"
   ]
  },
  {
   "cell_type": "code",
   "execution_count": 17,
   "metadata": {
    "ExecuteTime": {
     "end_time": "2019-12-21T19:13:38.865549Z",
     "start_time": "2019-12-21T19:13:38.666051Z"
    }
   },
   "outputs": [
    {
     "data": {
      "text/plain": [
       "436"
      ]
     },
     "execution_count": 17,
     "metadata": {},
     "output_type": "execute_result"
    }
   ],
   "source": [
    "sdf[sdf[\"Age\"] > 24].count() # or sdf.filter(sdf[\"Age\"] > 24).count(), sdf.where(sdf[\"Age\"] > 24).count()"
   ]
  },
  {
   "cell_type": "code",
   "execution_count": 18,
   "metadata": {
    "ExecuteTime": {
     "end_time": "2019-12-21T19:13:39.051091Z",
     "start_time": "2019-12-21T19:13:38.867543Z"
    }
   },
   "outputs": [
    {
     "data": {
      "text/plain": [
       "247"
      ]
     },
     "execution_count": 18,
     "metadata": {},
     "output_type": "execute_result"
    }
   ],
   "source": [
    "sdf[sdf[\"Age\"].between(20, 30)].count()"
   ]
  },
  {
   "cell_type": "code",
   "execution_count": 19,
   "metadata": {
    "ExecuteTime": {
     "end_time": "2019-12-21T19:13:39.246598Z",
     "start_time": "2019-12-21T19:13:39.053114Z"
    }
   },
   "outputs": [
    {
     "name": "stdout",
     "output_type": "stream",
     "text": [
      "+-----------+--------+------+--------------------+------+---+-----+-----+--------+-------+-----+--------+\n",
      "|PassengerId|Survived|Pclass|                Name|   Sex|Age|SibSp|Parch|  Ticket|   Fare|Cabin|Embarked|\n",
      "+-----------+--------+------+--------------------+------+---+-----+-----+--------+-------+-----+--------+\n",
      "|          2|       1|     1|Cumings, Mrs. Joh...|female| 38|    1|    0|PC 17599|71.2833|  C85|       C|\n",
      "|          4|       1|     1|Futrelle, Mrs. Ja...|female| 35|    1|    0|  113803|   53.1| C123|       S|\n",
      "|          7|       0|     1|McCarthy, Mr. Tim...|  male| 54|    0|    0|   17463|51.8625|  E46|       S|\n",
      "|         10|       1|     2|Nasser, Mrs. Nich...|female| 14|    1|    0|  237736|30.0708| null|       C|\n",
      "|         12|       1|     1|Bonnell, Miss. El...|female| 58|    0|    0|  113783|  26.55| C103|       S|\n",
      "+-----------+--------+------+--------------------+------+---+-----+-----+--------+-------+-----+--------+\n",
      "only showing top 5 rows\n",
      "\n"
     ]
    }
   ],
   "source": [
    "sdf[sdf[\"Pclass\"].isin([1, 2])].show(5)"
   ]
  },
  {
   "cell_type": "code",
   "execution_count": 20,
   "metadata": {
    "ExecuteTime": {
     "end_time": "2019-12-21T19:13:39.422623Z",
     "start_time": "2019-12-21T19:13:39.247602Z"
    }
   },
   "outputs": [
    {
     "name": "stdout",
     "output_type": "stream",
     "text": [
      "+-----------+--------+------+--------------------+------+---+-----+-----+----------------+------+-----+--------+\n",
      "|PassengerId|Survived|Pclass|                Name|   Sex|Age|SibSp|Parch|          Ticket|  Fare|Cabin|Embarked|\n",
      "+-----------+--------+------+--------------------+------+---+-----+-----+----------------+------+-----+--------+\n",
      "|          3|       1|     3|Heikkinen, Miss. ...|female| 26|    0|    0|STON/O2. 3101282| 7.925| null|       S|\n",
      "|         11|       1|     3|Sandstrom, Miss. ...|female|  4|    1|    1|         PP 9549|  16.7|   G6|       S|\n",
      "|         12|       1|     1|Bonnell, Miss. El...|female| 58|    0|    0|          113783| 26.55| C103|       S|\n",
      "|         15|       0|     3|Vestrom, Miss. Hu...|female| 14|    0|    0|          350406|7.8542| null|       S|\n",
      "|         23|       1|     3|\"McGowan, Miss. A...|female| 15|    0|    0|          330923|8.0292| null|       Q|\n",
      "+-----------+--------+------+--------------------+------+---+-----+-----+----------------+------+-----+--------+\n",
      "only showing top 5 rows\n",
      "\n"
     ]
    }
   ],
   "source": [
    "sdf[sdf[\"Name\"].like(\"%Miss.%\")].show(5)"
   ]
  },
  {
   "cell_type": "code",
   "execution_count": 21,
   "metadata": {
    "ExecuteTime": {
     "end_time": "2019-12-21T19:13:39.596189Z",
     "start_time": "2019-12-21T19:13:39.424619Z"
    }
   },
   "outputs": [
    {
     "name": "stdout",
     "output_type": "stream",
     "text": [
      "+-----------+--------+------+--------------------+------+---+-----+-----+----------------+-----+-----+--------+\n",
      "|PassengerId|Survived|Pclass|                Name|   Sex|Age|SibSp|Parch|          Ticket| Fare|Cabin|Embarked|\n",
      "+-----------+--------+------+--------------------+------+---+-----+-----+----------------+-----+-----+--------+\n",
      "|          3|       1|     3|Heikkinen, Miss. ...|female| 26|    0|    0|STON/O2. 3101282|7.925| null|       S|\n",
      "|        817|       0|     3|Heininen, Miss. W...|female| 23|    0|    0|STON/O2. 3101290|7.925| null|       S|\n",
      "+-----------+--------+------+--------------------+------+---+-----+-----+----------------+-----+-----+--------+\n",
      "\n"
     ]
    }
   ],
   "source": [
    "sdf[sdf[\"Name\"].startswith(\"Hei\")].show(5)"
   ]
  },
  {
   "cell_type": "markdown",
   "metadata": {},
   "source": [
    "### 3.4. Unique values"
   ]
  },
  {
   "cell_type": "code",
   "execution_count": 22,
   "metadata": {
    "ExecuteTime": {
     "end_time": "2019-12-21T19:13:40.326328Z",
     "start_time": "2019-12-21T19:13:39.598156Z"
    }
   },
   "outputs": [
    {
     "name": "stdout",
     "output_type": "stream",
     "text": [
      "+------+\n",
      "|Pclass|\n",
      "+------+\n",
      "|     3|\n",
      "|     1|\n",
      "|     2|\n",
      "+------+\n",
      "\n"
     ]
    }
   ],
   "source": [
    "sdf.select(\"Pclass\").distinct().show()"
   ]
  },
  {
   "cell_type": "markdown",
   "metadata": {},
   "source": [
    "It is also posible to subtract values based on another list."
   ]
  },
  {
   "cell_type": "code",
   "execution_count": 23,
   "metadata": {
    "ExecuteTime": {
     "end_time": "2019-12-21T19:13:41.507889Z",
     "start_time": "2019-12-21T19:13:40.329321Z"
    }
   },
   "outputs": [
    {
     "name": "stdout",
     "output_type": "stream",
     "text": [
      "+------+\n",
      "|Pclass|\n",
      "+------+\n",
      "|     3|\n",
      "|     2|\n",
      "+------+\n",
      "\n"
     ]
    }
   ],
   "source": [
    "sdf.select(\"Pclass\").exceptAll(sdf.select(\"Survived\")).distinct().show()"
   ]
  },
  {
   "cell_type": "markdown",
   "metadata": {},
   "source": [
    "## 4. Modify the dataframe\n",
    "To modify a dataframe you need to update the original dataframe.\n",
    "For example you would do `sdf = do_something(sdf)`.\n",
    "\n",
    "<div class=\"alert alert-info\" role=\"alert\">\n",
    "    It is posible to only call <b>do_something(sdf)</b> but it won't update the dataframe.\n",
    "</div>"
   ]
  },
  {
   "cell_type": "markdown",
   "metadata": {},
   "source": [
    "### 4.1. Add columns"
   ]
  },
  {
   "cell_type": "code",
   "execution_count": 24,
   "metadata": {
    "ExecuteTime": {
     "end_time": "2019-12-21T19:13:41.691644Z",
     "start_time": "2019-12-21T19:13:41.509885Z"
    }
   },
   "outputs": [
    {
     "name": "stdout",
     "output_type": "stream",
     "text": [
      "+-----------+--------+------+--------------------+------+---+-----+-----+----------------+-------+-----+--------+-------+\n",
      "|PassengerId|Survived|Pclass|                Name|   Sex|Age|SibSp|Parch|          Ticket|   Fare|Cabin|Embarked|new_col|\n",
      "+-----------+--------+------+--------------------+------+---+-----+-----+----------------+-------+-----+--------+-------+\n",
      "|          1|       0|     3|Braund, Mr. Owen ...|  male| 22|    1|    0|       A/5 21171|   7.25| null|       S|     22|\n",
      "|          2|       1|     1|Cumings, Mrs. Joh...|female| 38|    1|    0|        PC 17599|71.2833|  C85|       C|     38|\n",
      "|          3|       1|     3|Heikkinen, Miss. ...|female| 26|    0|    0|STON/O2. 3101282|  7.925| null|       S|     26|\n",
      "|          4|       1|     1|Futrelle, Mrs. Ja...|female| 35|    1|    0|          113803|   53.1| C123|       S|     35|\n",
      "|          5|       0|     3|Allen, Mr. Willia...|  male| 35|    0|    0|          373450|   8.05| null|       S|     35|\n",
      "+-----------+--------+------+--------------------+------+---+-----+-----+----------------+-------+-----+--------+-------+\n",
      "only showing top 5 rows\n",
      "\n"
     ]
    }
   ],
   "source": [
    "sdf = sdf.withColumn(\"new_col\", sdf[\"Age\"])\n",
    "sdf.show(5)"
   ]
  },
  {
   "cell_type": "markdown",
   "metadata": {},
   "source": [
    "### 4.2. Change dtypes"
   ]
  },
  {
   "cell_type": "code",
   "execution_count": 25,
   "metadata": {
    "ExecuteTime": {
     "end_time": "2019-12-21T19:13:41.707601Z",
     "start_time": "2019-12-21T19:13:41.692642Z"
    }
   },
   "outputs": [
    {
     "data": {
      "text/plain": [
       "[('PassengerId', 'string'),\n",
       " ('Survived', 'string'),\n",
       " ('Pclass', 'string'),\n",
       " ('Name', 'string'),\n",
       " ('Sex', 'string'),\n",
       " ('Age', 'int'),\n",
       " ('SibSp', 'string'),\n",
       " ('Parch', 'string'),\n",
       " ('Ticket', 'string'),\n",
       " ('Fare', 'string'),\n",
       " ('Cabin', 'string'),\n",
       " ('Embarked', 'string'),\n",
       " ('new_col', 'string')]"
      ]
     },
     "execution_count": 25,
     "metadata": {},
     "output_type": "execute_result"
    }
   ],
   "source": [
    "sdf = sdf.withColumn(\"Age\", sdf[\"Age\"].cast(IntegerType()))\n",
    "sdf.dtypes"
   ]
  },
  {
   "cell_type": "markdown",
   "metadata": {},
   "source": [
    "### 4.3. Modify certain values"
   ]
  },
  {
   "cell_type": "code",
   "execution_count": 26,
   "metadata": {
    "ExecuteTime": {
     "end_time": "2019-12-21T19:13:41.917480Z",
     "start_time": "2019-12-21T19:13:41.708599Z"
    }
   },
   "outputs": [
    {
     "name": "stdout",
     "output_type": "stream",
     "text": [
      "+-----------+--------+------+--------------------+------+---+-----+-----+----------------+-------+-----+--------+-------+--------+\n",
      "|PassengerId|Survived|Pclass|                Name|   Sex|Age|SibSp|Parch|          Ticket|   Fare|Cabin|Embarked|new_col|sex_code|\n",
      "+-----------+--------+------+--------------------+------+---+-----+-----+----------------+-------+-----+--------+-------+--------+\n",
      "|          1|       0|     3|Braund, Mr. Owen ...|  male| 22|    1|    0|       A/5 21171|   7.25| null|       S|     22|       m|\n",
      "|          2|       1|     1|Cumings, Mrs. Joh...|female| 38|    1|    0|        PC 17599|71.2833|  C85|       C|     38|       f|\n",
      "|          3|       1|     3|Heikkinen, Miss. ...|female| 26|    0|    0|STON/O2. 3101282|  7.925| null|       S|     26|       f|\n",
      "+-----------+--------+------+--------------------+------+---+-----+-----+----------------+-------+-----+--------+-------+--------+\n",
      "only showing top 3 rows\n",
      "\n"
     ]
    }
   ],
   "source": [
    "sdf.withColumn(\"sex_code\", sdf[\"Sex\"].substr(1, 1).alias(\"Sex code\")).show(3)"
   ]
  },
  {
   "cell_type": "code",
   "execution_count": 27,
   "metadata": {
    "ExecuteTime": {
     "end_time": "2019-12-21T19:13:42.128697Z",
     "start_time": "2019-12-21T19:13:41.918477Z"
    }
   },
   "outputs": [
    {
     "name": "stdout",
     "output_type": "stream",
     "text": [
      "+-----------+--------+------+--------------------+------+---+-----+-----+----------------+-------+-----+--------+-------+\n",
      "|PassengerId|Survived|Pclass|                Name|   Sex|Age|SibSp|Parch|          Ticket|   Fare|Cabin|Embarked|new_col|\n",
      "+-----------+--------+------+--------------------+------+---+-----+-----+----------------+-------+-----+--------+-------+\n",
      "|          1|       0|     3|Braund, Mr. Owen ...|  male| 22|    1|    0|       A/5 21171|   7.25| null|       S|     22|\n",
      "|          2|       1|     1|Cumings, Mrs. Joh...|female| 38|    1|    0|        PC 17599|71.2833|  C85|       C|     38|\n",
      "|          3|       1|     3|Heikkinen, Miss. ...|female| 26|    0|    0|STON/O2. 3101282|  7.925| null|       S|     26|\n",
      "|          4|       1|     1|Futrelle, Mrs. Ja...|female| 35|    1|    0|          113803|   53.1| C123|       S|     35|\n",
      "|          5|       0|     3|Allen, Mr. Willia...|  male| 35|    0|    0|          373450|   8.05| null|       S|     35|\n",
      "|          6|       0|     3|    Moran, Mr. James|  male| -1|    0|    0|          330877| 8.4583| null|       Q|   null|\n",
      "|          7|       0|     1|McCarthy, Mr. Tim...|  male| 54|    0|    0|           17463|51.8625|  E46|       S|     54|\n",
      "|          8|       0|     3|Palsson, Master. ...|  male|  2|    3|    1|          349909| 21.075| null|       S|      2|\n",
      "+-----------+--------+------+--------------------+------+---+-----+-----+----------------+-------+-----+--------+-------+\n",
      "only showing top 8 rows\n",
      "\n"
     ]
    }
   ],
   "source": [
    "# Update invalid ages ages to -1\n",
    "sdf.withColumn(\"Age\", when(sdf[\"Age\"] >= 0, sdf[\"Age\"]).otherwise(-1)).show(8)"
   ]
  },
  {
   "cell_type": "code",
   "execution_count": 28,
   "metadata": {
    "ExecuteTime": {
     "end_time": "2019-12-21T19:13:42.326305Z",
     "start_time": "2019-12-21T19:13:42.129688Z"
    }
   },
   "outputs": [
    {
     "name": "stdout",
     "output_type": "stream",
     "text": [
      "+-----------+--------+------+--------------------+------+---+-----+-----+----------------+-------+--------+--------+-------+\n",
      "|PassengerId|Survived|Pclass|                Name|   Sex|Age|SibSp|Parch|          Ticket|   Fare|   Cabin|Embarked|new_col|\n",
      "+-----------+--------+------+--------------------+------+---+-----+-----+----------------+-------+--------+--------+-------+\n",
      "|          1|       0|     3|Braund, Mr. Owen ...|  male| 22|    1|    0|       A/5 21171|   7.25|no cabin|       S|     22|\n",
      "|          2|       1|     1|Cumings, Mrs. Joh...|female| 38|    1|    0|        PC 17599|71.2833|     C85|       C|     38|\n",
      "|          3|       1|     3|Heikkinen, Miss. ...|female| 26|    0|    0|STON/O2. 3101282|  7.925|no cabin|       S|     26|\n",
      "|          4|       1|     1|Futrelle, Mrs. Ja...|female| 35|    1|    0|          113803|   53.1|    C123|       S|     35|\n",
      "|          5|       0|     3|Allen, Mr. Willia...|  male| 35|    0|    0|          373450|   8.05|no cabin|       S|     35|\n",
      "|          6|       0|     3|    Moran, Mr. James|  male|  0|    0|    0|          330877| 8.4583|no cabin|       Q|   null|\n",
      "|          7|       0|     1|McCarthy, Mr. Tim...|  male| 54|    0|    0|           17463|51.8625|     E46|       S|     54|\n",
      "|          8|       0|     3|Palsson, Master. ...|  male|  2|    3|    1|          349909| 21.075|no cabin|       S|      2|\n",
      "+-----------+--------+------+--------------------+------+---+-----+-----+----------------+-------+--------+--------+-------+\n",
      "only showing top 8 rows\n",
      "\n"
     ]
    }
   ],
   "source": [
    "sdf.fillna({\"Age\": 0, \"Cabin\": \"no cabin\"}).show(8)"
   ]
  },
  {
   "cell_type": "code",
   "execution_count": 29,
   "metadata": {
    "ExecuteTime": {
     "end_time": "2019-12-21T19:13:42.488749Z",
     "start_time": "2019-12-21T19:13:42.328300Z"
    }
   },
   "outputs": [
    {
     "name": "stdout",
     "output_type": "stream",
     "text": [
      "+-----------+--------+------+--------------------+------+---+-----+-----+----------------+-------+-----+--------+-------+\n",
      "|PassengerId|Survived|Pclass|                Name|   Sex|Age|SibSp|Parch|          Ticket|   Fare|Cabin|Embarked|new_col|\n",
      "+-----------+--------+------+--------------------+------+---+-----+-----+----------------+-------+-----+--------+-------+\n",
      "|          1|       0|     3|Braund, Mr. Owen ...|     m| 22|    1|    0|       A/5 21171|   7.25| null|       S|     22|\n",
      "|          2|       1|     1|Cumings, Mrs. Joh...|female| 38|    1|    0|        PC 17599|71.2833|  C85|       C|     38|\n",
      "|          3|       1|     3|Heikkinen, Miss. ...|female| 26|    0|    0|STON/O2. 3101282|  7.925| null|       S|     26|\n",
      "|          4|       1|     1|Futrelle, Mrs. Ja...|female| 35|    1|    0|          113803|   53.1| C123|       S|     35|\n",
      "|          5|       0|     3|Allen, Mr. Willia...|     m| 35|    0|    0|          373450|   8.05| null|       S|     35|\n",
      "+-----------+--------+------+--------------------+------+---+-----+-----+----------------+-------+-----+--------+-------+\n",
      "only showing top 5 rows\n",
      "\n"
     ]
    }
   ],
   "source": [
    "sdf.replace(\"male\", \"m\", \"Sex\").show(5)"
   ]
  },
  {
   "cell_type": "markdown",
   "metadata": {},
   "source": [
    "### 4.4. Sort"
   ]
  },
  {
   "cell_type": "code",
   "execution_count": 30,
   "metadata": {
    "ExecuteTime": {
     "end_time": "2019-12-21T19:13:42.730163Z",
     "start_time": "2019-12-21T19:13:42.490743Z"
    }
   },
   "outputs": [
    {
     "name": "stdout",
     "output_type": "stream",
     "text": [
      "+-----------+--------+------+--------------------+------+---+-----+-----+-----------+-------+-----------+--------+-------+\n",
      "|PassengerId|Survived|Pclass|                Name|   Sex|Age|SibSp|Parch|     Ticket|   Fare|      Cabin|Embarked|new_col|\n",
      "+-----------+--------+------+--------------------+------+---+-----+-----+-----------+-------+-----------+--------+-------+\n",
      "|        631|       1|     1|Barkworth, Mr. Al...|  male| 80|    0|    0|      27042|     30|        A23|       S|     80|\n",
      "|        852|       0|     3| Svensson, Mr. Johan|  male| 74|    0|    0|     347060|  7.775|       null|       S|     74|\n",
      "|         97|       0|     1|Goldschmidt, Mr. ...|  male| 71|    0|    0|   PC 17754|34.6542|         A5|       C|     71|\n",
      "|        494|       0|     1|Artagaveytia, Mr....|  male| 71|    0|    0|   PC 17609|49.5042|       null|       C|     71|\n",
      "|        673|       0|     2|Mitchell, Mr. Hen...|  male| 70|    0|    0| C.A. 24580|   10.5|       null|       S|     70|\n",
      "|        746|       0|     1|Crosby, Capt. Edw...|  male| 70|    1|    1|  WE/P 5735|     71|        B22|       S|     70|\n",
      "|        117|       0|     3|Connors, Mr. Patrick|  male| 70|    0|    0|     370369|   7.75|       null|       Q|   70.5|\n",
      "|         34|       0|     2|Wheadon, Mr. Edwa...|  male| 66|    0|    0| C.A. 24579|   10.5|       null|       S|     66|\n",
      "|        457|       0|     1|Millet, Mr. Franc...|  male| 65|    0|    0|      13509|  26.55|        E38|       S|     65|\n",
      "|        281|       0|     3|    Duane, Mr. Frank|  male| 65|    0|    0|     336439|   7.75|       null|       Q|     65|\n",
      "|         55|       0|     1|Ostby, Mr. Engelh...|  male| 65|    0|    1|     113509|61.9792|        B30|       C|     65|\n",
      "|        439|       0|     1|   Fortune, Mr. Mark|  male| 64|    1|    4|      19950|    263|C23 C25 C27|       S|     64|\n",
      "|        546|       0|     1|Nicholson, Mr. Ar...|  male| 64|    0|    0|        693|     26|       null|       S|     64|\n",
      "|        276|       1|     1|Andrews, Miss. Ko...|female| 63|    1|    0|      13502|77.9583|         D7|       S|     63|\n",
      "|        484|       1|     3|Turkula, Mrs. (He...|female| 63|    0|    0|       4134| 9.5875|       null|       S|     63|\n",
      "|        253|       0|     1|Stead, Mr. Willia...|  male| 62|    0|    0|     113514|  26.55|        C87|       S|     62|\n",
      "|        571|       1|     2|  Harris, Mr. George|  male| 62|    0|    0|S.W./PP 752|   10.5|       null|       S|     62|\n",
      "|        556|       0|     1|  Wright, Mr. George|  male| 62|    0|    0|     113807|  26.55|       null|       S|     62|\n",
      "|        830|       1|     1|Stone, Mrs. Georg...|female| 62|    0|    0|     113572|     80|        B28|    null|     62|\n",
      "|        171|       0|     1|Van der hoef, Mr....|  male| 61|    0|    0|     111240|   33.5|        B19|       S|     61|\n",
      "+-----------+--------+------+--------------------+------+---+-----+-----+-----------+-------+-----------+--------+-------+\n",
      "only showing top 20 rows\n",
      "\n"
     ]
    }
   ],
   "source": [
    "sdf.sort(\"Age\", ascending=False).show()"
   ]
  },
  {
   "cell_type": "markdown",
   "metadata": {},
   "source": [
    "### 4.5. Delete columns"
   ]
  },
  {
   "cell_type": "code",
   "execution_count": 31,
   "metadata": {
    "ExecuteTime": {
     "end_time": "2019-12-21T19:13:42.871412Z",
     "start_time": "2019-12-21T19:13:42.731161Z"
    }
   },
   "outputs": [
    {
     "name": "stdout",
     "output_type": "stream",
     "text": [
      "+-----------+--------+------+--------------------+------+---+-----+-----+---------+-------+-----+--------+\n",
      "|PassengerId|Survived|Pclass|                Name|   Sex|Age|SibSp|Parch|   Ticket|   Fare|Cabin|Embarked|\n",
      "+-----------+--------+------+--------------------+------+---+-----+-----+---------+-------+-----+--------+\n",
      "|          1|       0|     3|Braund, Mr. Owen ...|  male| 22|    1|    0|A/5 21171|   7.25| null|       S|\n",
      "|          2|       1|     1|Cumings, Mrs. Joh...|female| 38|    1|    0| PC 17599|71.2833|  C85|       C|\n",
      "+-----------+--------+------+--------------------+------+---+-----+-----+---------+-------+-----+--------+\n",
      "only showing top 2 rows\n",
      "\n"
     ]
    }
   ],
   "source": [
    "sdf = sdf.drop(\"new_col\")\n",
    "sdf.show(2)"
   ]
  },
  {
   "cell_type": "markdown",
   "metadata": {},
   "source": [
    "### 4.6. Drop duplicates"
   ]
  },
  {
   "cell_type": "code",
   "execution_count": 32,
   "metadata": {
    "ExecuteTime": {
     "end_time": "2019-12-21T19:13:43.593962Z",
     "start_time": "2019-12-21T19:13:42.873408Z"
    }
   },
   "outputs": [
    {
     "name": "stdout",
     "output_type": "stream",
     "text": [
      "+-----------+--------+------+--------------------+------+---+-----+-----+---------+-------+-----+--------+\n",
      "|PassengerId|Survived|Pclass|                Name|   Sex|Age|SibSp|Parch|   Ticket|   Fare|Cabin|Embarked|\n",
      "+-----------+--------+------+--------------------+------+---+-----+-----+---------+-------+-----+--------+\n",
      "|          1|       0|     3|Braund, Mr. Owen ...|  male| 22|    1|    0|A/5 21171|   7.25| null|       S|\n",
      "|          2|       1|     1|Cumings, Mrs. Joh...|female| 38|    1|    0| PC 17599|71.2833|  C85|       C|\n",
      "|         10|       1|     2|Nasser, Mrs. Nich...|female| 14|    1|    0|   237736|30.0708| null|       C|\n",
      "+-----------+--------+------+--------------------+------+---+-----+-----+---------+-------+-----+--------+\n",
      "\n"
     ]
    }
   ],
   "source": [
    "sdf.drop_duplicates([\"Pclass\"]).show(5)"
   ]
  },
  {
   "cell_type": "markdown",
   "metadata": {},
   "source": [
    "### 4.7. User Defined Functions (UDF)\n",
    "It is posible to define new functions and apply them to a column.\n",
    "To define it you need to specify the output type (int, str...).\n",
    "The transformation will be apply element wise."
   ]
  },
  {
   "cell_type": "code",
   "execution_count": 33,
   "metadata": {
    "ExecuteTime": {
     "end_time": "2019-12-21T19:13:44.384584Z",
     "start_time": "2019-12-21T19:13:43.594960Z"
    }
   },
   "outputs": [
    {
     "name": "stdout",
     "output_type": "stream",
     "text": [
      "+-----------+--------+------+--------------------+------+---+-----+-----+----------------+-------+-----+--------+--------+\n",
      "|PassengerId|Survived|Pclass|                Name|   Sex|Age|SibSp|Parch|          Ticket|   Fare|Cabin|Embarked|Next_Age|\n",
      "+-----------+--------+------+--------------------+------+---+-----+-----+----------------+-------+-----+--------+--------+\n",
      "|          1|       0|     3|Braund, Mr. Owen ...|  male| 22|    1|    0|       A/5 21171|   7.25| null|       S|      23|\n",
      "|          2|       1|     1|Cumings, Mrs. Joh...|female| 38|    1|    0|        PC 17599|71.2833|  C85|       C|      39|\n",
      "|          3|       1|     3|Heikkinen, Miss. ...|female| 26|    0|    0|STON/O2. 3101282|  7.925| null|       S|      27|\n",
      "+-----------+--------+------+--------------------+------+---+-----+-----+----------------+-------+-----+--------+--------+\n",
      "only showing top 3 rows\n",
      "\n"
     ]
    }
   ],
   "source": [
    "@udf(IntegerType())\n",
    "def sum_1(x):\n",
    "    if x is not None:\n",
    "        return x + 1\n",
    "    return None\n",
    "\n",
    "sdf.withColumn(\"Next_Age\", sum_1(sdf[\"Age\"])).show(3)"
   ]
  },
  {
   "cell_type": "markdown",
   "metadata": {},
   "source": [
    "## 5. Group data"
   ]
  },
  {
   "cell_type": "code",
   "execution_count": 34,
   "metadata": {
    "ExecuteTime": {
     "end_time": "2019-12-21T19:13:44.951578Z",
     "start_time": "2019-12-21T19:13:44.386579Z"
    }
   },
   "outputs": [
    {
     "name": "stdout",
     "output_type": "stream",
     "text": [
      "+------+-----+\n",
      "|   Sex|count|\n",
      "+------+-----+\n",
      "|female|  314|\n",
      "|  male|  577|\n",
      "+------+-----+\n",
      "\n"
     ]
    }
   ],
   "source": [
    "sdf.groupby(\"Sex\").count().show()"
   ]
  },
  {
   "cell_type": "code",
   "execution_count": 35,
   "metadata": {
    "ExecuteTime": {
     "end_time": "2019-12-21T19:13:45.666906Z",
     "start_time": "2019-12-21T19:13:44.957563Z"
    }
   },
   "outputs": [
    {
     "name": "stdout",
     "output_type": "stream",
     "text": [
      "+------+----------+--------+\n",
      "|   Sex|count(sex)|max(Age)|\n",
      "+------+----------+--------+\n",
      "|female|       314|      63|\n",
      "|  male|       577|      80|\n",
      "+------+----------+--------+\n",
      "\n"
     ]
    }
   ],
   "source": [
    "sdf.groupby(\"Sex\").agg({\"sex\": \"count\", \"Age\": \"max\"}).show()"
   ]
  },
  {
   "cell_type": "markdown",
   "metadata": {},
   "source": [
    "## 6. SQL\n",
    "\n",
    "One really useful feature of spark is that you can use **SQL** syntax and **spark** will translate and apply it.\n",
    "\n",
    "Before using **SQL** you need to register the table:"
   ]
  },
  {
   "cell_type": "code",
   "execution_count": 36,
   "metadata": {
    "ExecuteTime": {
     "end_time": "2019-12-21T19:13:46.070352Z",
     "start_time": "2019-12-21T19:13:45.700816Z"
    }
   },
   "outputs": [],
   "source": [
    "sdf.createOrReplaceTempView(\"titanic\")"
   ]
  },
  {
   "cell_type": "markdown",
   "metadata": {
    "ExecuteTime": {
     "end_time": "2019-12-21T19:08:15.852035Z",
     "start_time": "2019-12-21T19:08:15.848047Z"
    }
   },
   "source": [
    "Then you can perform queries using `spark` object:"
   ]
  },
  {
   "cell_type": "code",
   "execution_count": 37,
   "metadata": {
    "ExecuteTime": {
     "end_time": "2019-12-21T19:13:46.487090Z",
     "start_time": "2019-12-21T19:13:46.097324Z"
    }
   },
   "outputs": [
    {
     "name": "stdout",
     "output_type": "stream",
     "text": [
      "+-----------+--------+------+--------------------+------+---+-----+-----+----------------+-------+-----+--------+\n",
      "|PassengerId|Survived|Pclass|                Name|   Sex|Age|SibSp|Parch|          Ticket|   Fare|Cabin|Embarked|\n",
      "+-----------+--------+------+--------------------+------+---+-----+-----+----------------+-------+-----+--------+\n",
      "|          2|       1|     1|Cumings, Mrs. Joh...|female| 38|    1|    0|        PC 17599|71.2833|  C85|       C|\n",
      "|          3|       1|     3|Heikkinen, Miss. ...|female| 26|    0|    0|STON/O2. 3101282|  7.925| null|       S|\n",
      "|          4|       1|     1|Futrelle, Mrs. Ja...|female| 35|    1|    0|          113803|   53.1| C123|       S|\n",
      "|          9|       1|     3|Johnson, Mrs. Osc...|female| 27|    0|    2|          347742|11.1333| null|       S|\n",
      "|         10|       1|     2|Nasser, Mrs. Nich...|female| 14|    1|    0|          237736|30.0708| null|       C|\n",
      "+-----------+--------+------+--------------------+------+---+-----+-----+----------------+-------+-----+--------+\n",
      "\n"
     ]
    }
   ],
   "source": [
    "spark.sql(\"SELECT * FROM titanic WHERE sex = 'female' LIMIT 5\").show()"
   ]
  },
  {
   "cell_type": "markdown",
   "metadata": {},
   "source": [
    "## 7. Write"
   ]
  },
  {
   "cell_type": "code",
   "execution_count": 38,
   "metadata": {
    "ExecuteTime": {
     "end_time": "2019-12-21T19:13:47.754350Z",
     "start_time": "2019-12-21T19:13:46.489087Z"
    }
   },
   "outputs": [],
   "source": [
    "sdf.write.format(\"parquet\").mode(\"overwrite\").save(\"data/titanic_train.parquet\")"
   ]
  },
  {
   "cell_type": "markdown",
   "metadata": {},
   "source": [
    "## 8. Interacting with python"
   ]
  },
  {
   "cell_type": "code",
   "execution_count": 39,
   "metadata": {
    "ExecuteTime": {
     "end_time": "2019-12-21T19:13:47.921938Z",
     "start_time": "2019-12-21T19:13:47.755349Z"
    }
   },
   "outputs": [
    {
     "data": {
      "text/html": [
       "<div>\n",
       "<style scoped>\n",
       "    .dataframe tbody tr th:only-of-type {\n",
       "        vertical-align: middle;\n",
       "    }\n",
       "\n",
       "    .dataframe tbody tr th {\n",
       "        vertical-align: top;\n",
       "    }\n",
       "\n",
       "    .dataframe thead th {\n",
       "        text-align: right;\n",
       "    }\n",
       "</style>\n",
       "<table border=\"1\" class=\"dataframe\">\n",
       "  <thead>\n",
       "    <tr style=\"text-align: right;\">\n",
       "      <th></th>\n",
       "      <th>PassengerId</th>\n",
       "      <th>Survived</th>\n",
       "      <th>Pclass</th>\n",
       "      <th>Name</th>\n",
       "      <th>Sex</th>\n",
       "      <th>Age</th>\n",
       "      <th>SibSp</th>\n",
       "      <th>Parch</th>\n",
       "      <th>Ticket</th>\n",
       "      <th>Fare</th>\n",
       "      <th>Cabin</th>\n",
       "      <th>Embarked</th>\n",
       "    </tr>\n",
       "  </thead>\n",
       "  <tbody>\n",
       "    <tr>\n",
       "      <th>0</th>\n",
       "      <td>1</td>\n",
       "      <td>0</td>\n",
       "      <td>3</td>\n",
       "      <td>Braund, Mr. Owen Harris</td>\n",
       "      <td>male</td>\n",
       "      <td>22.0</td>\n",
       "      <td>1</td>\n",
       "      <td>0</td>\n",
       "      <td>A/5 21171</td>\n",
       "      <td>7.25</td>\n",
       "      <td>None</td>\n",
       "      <td>S</td>\n",
       "    </tr>\n",
       "    <tr>\n",
       "      <th>1</th>\n",
       "      <td>2</td>\n",
       "      <td>1</td>\n",
       "      <td>1</td>\n",
       "      <td>Cumings, Mrs. John Bradley (Florence Briggs Th...</td>\n",
       "      <td>female</td>\n",
       "      <td>38.0</td>\n",
       "      <td>1</td>\n",
       "      <td>0</td>\n",
       "      <td>PC 17599</td>\n",
       "      <td>71.2833</td>\n",
       "      <td>C85</td>\n",
       "      <td>C</td>\n",
       "    </tr>\n",
       "    <tr>\n",
       "      <th>2</th>\n",
       "      <td>3</td>\n",
       "      <td>1</td>\n",
       "      <td>3</td>\n",
       "      <td>Heikkinen, Miss. Laina</td>\n",
       "      <td>female</td>\n",
       "      <td>26.0</td>\n",
       "      <td>0</td>\n",
       "      <td>0</td>\n",
       "      <td>STON/O2. 3101282</td>\n",
       "      <td>7.925</td>\n",
       "      <td>None</td>\n",
       "      <td>S</td>\n",
       "    </tr>\n",
       "    <tr>\n",
       "      <th>3</th>\n",
       "      <td>4</td>\n",
       "      <td>1</td>\n",
       "      <td>1</td>\n",
       "      <td>Futrelle, Mrs. Jacques Heath (Lily May Peel)</td>\n",
       "      <td>female</td>\n",
       "      <td>35.0</td>\n",
       "      <td>1</td>\n",
       "      <td>0</td>\n",
       "      <td>113803</td>\n",
       "      <td>53.1</td>\n",
       "      <td>C123</td>\n",
       "      <td>S</td>\n",
       "    </tr>\n",
       "    <tr>\n",
       "      <th>4</th>\n",
       "      <td>5</td>\n",
       "      <td>0</td>\n",
       "      <td>3</td>\n",
       "      <td>Allen, Mr. William Henry</td>\n",
       "      <td>male</td>\n",
       "      <td>35.0</td>\n",
       "      <td>0</td>\n",
       "      <td>0</td>\n",
       "      <td>373450</td>\n",
       "      <td>8.05</td>\n",
       "      <td>None</td>\n",
       "      <td>S</td>\n",
       "    </tr>\n",
       "    <tr>\n",
       "      <th>...</th>\n",
       "      <td>...</td>\n",
       "      <td>...</td>\n",
       "      <td>...</td>\n",
       "      <td>...</td>\n",
       "      <td>...</td>\n",
       "      <td>...</td>\n",
       "      <td>...</td>\n",
       "      <td>...</td>\n",
       "      <td>...</td>\n",
       "      <td>...</td>\n",
       "      <td>...</td>\n",
       "      <td>...</td>\n",
       "    </tr>\n",
       "    <tr>\n",
       "      <th>886</th>\n",
       "      <td>887</td>\n",
       "      <td>0</td>\n",
       "      <td>2</td>\n",
       "      <td>Montvila, Rev. Juozas</td>\n",
       "      <td>male</td>\n",
       "      <td>27.0</td>\n",
       "      <td>0</td>\n",
       "      <td>0</td>\n",
       "      <td>211536</td>\n",
       "      <td>13</td>\n",
       "      <td>None</td>\n",
       "      <td>S</td>\n",
       "    </tr>\n",
       "    <tr>\n",
       "      <th>887</th>\n",
       "      <td>888</td>\n",
       "      <td>1</td>\n",
       "      <td>1</td>\n",
       "      <td>Graham, Miss. Margaret Edith</td>\n",
       "      <td>female</td>\n",
       "      <td>19.0</td>\n",
       "      <td>0</td>\n",
       "      <td>0</td>\n",
       "      <td>112053</td>\n",
       "      <td>30</td>\n",
       "      <td>B42</td>\n",
       "      <td>S</td>\n",
       "    </tr>\n",
       "    <tr>\n",
       "      <th>888</th>\n",
       "      <td>889</td>\n",
       "      <td>0</td>\n",
       "      <td>3</td>\n",
       "      <td>\"Johnston, Miss. Catherine Helen \"\"Carrie\"\"\"</td>\n",
       "      <td>female</td>\n",
       "      <td>NaN</td>\n",
       "      <td>1</td>\n",
       "      <td>2</td>\n",
       "      <td>W./C. 6607</td>\n",
       "      <td>23.45</td>\n",
       "      <td>None</td>\n",
       "      <td>S</td>\n",
       "    </tr>\n",
       "    <tr>\n",
       "      <th>889</th>\n",
       "      <td>890</td>\n",
       "      <td>1</td>\n",
       "      <td>1</td>\n",
       "      <td>Behr, Mr. Karl Howell</td>\n",
       "      <td>male</td>\n",
       "      <td>26.0</td>\n",
       "      <td>0</td>\n",
       "      <td>0</td>\n",
       "      <td>111369</td>\n",
       "      <td>30</td>\n",
       "      <td>C148</td>\n",
       "      <td>C</td>\n",
       "    </tr>\n",
       "    <tr>\n",
       "      <th>890</th>\n",
       "      <td>891</td>\n",
       "      <td>0</td>\n",
       "      <td>3</td>\n",
       "      <td>Dooley, Mr. Patrick</td>\n",
       "      <td>male</td>\n",
       "      <td>32.0</td>\n",
       "      <td>0</td>\n",
       "      <td>0</td>\n",
       "      <td>370376</td>\n",
       "      <td>7.75</td>\n",
       "      <td>None</td>\n",
       "      <td>Q</td>\n",
       "    </tr>\n",
       "  </tbody>\n",
       "</table>\n",
       "<p>891 rows × 12 columns</p>\n",
       "</div>"
      ],
      "text/plain": [
       "    PassengerId Survived Pclass  \\\n",
       "0             1        0      3   \n",
       "1             2        1      1   \n",
       "2             3        1      3   \n",
       "3             4        1      1   \n",
       "4             5        0      3   \n",
       "..          ...      ...    ...   \n",
       "886         887        0      2   \n",
       "887         888        1      1   \n",
       "888         889        0      3   \n",
       "889         890        1      1   \n",
       "890         891        0      3   \n",
       "\n",
       "                                                  Name     Sex   Age SibSp  \\\n",
       "0                              Braund, Mr. Owen Harris    male  22.0     1   \n",
       "1    Cumings, Mrs. John Bradley (Florence Briggs Th...  female  38.0     1   \n",
       "2                               Heikkinen, Miss. Laina  female  26.0     0   \n",
       "3         Futrelle, Mrs. Jacques Heath (Lily May Peel)  female  35.0     1   \n",
       "4                             Allen, Mr. William Henry    male  35.0     0   \n",
       "..                                                 ...     ...   ...   ...   \n",
       "886                              Montvila, Rev. Juozas    male  27.0     0   \n",
       "887                       Graham, Miss. Margaret Edith  female  19.0     0   \n",
       "888       \"Johnston, Miss. Catherine Helen \"\"Carrie\"\"\"  female   NaN     1   \n",
       "889                              Behr, Mr. Karl Howell    male  26.0     0   \n",
       "890                                Dooley, Mr. Patrick    male  32.0     0   \n",
       "\n",
       "    Parch            Ticket     Fare Cabin Embarked  \n",
       "0       0         A/5 21171     7.25  None        S  \n",
       "1       0          PC 17599  71.2833   C85        C  \n",
       "2       0  STON/O2. 3101282    7.925  None        S  \n",
       "3       0            113803     53.1  C123        S  \n",
       "4       0            373450     8.05  None        S  \n",
       "..    ...               ...      ...   ...      ...  \n",
       "886     0            211536       13  None        S  \n",
       "887     0            112053       30   B42        S  \n",
       "888     2        W./C. 6607    23.45  None        S  \n",
       "889     0            111369       30  C148        C  \n",
       "890     0            370376     7.75  None        Q  \n",
       "\n",
       "[891 rows x 12 columns]"
      ]
     },
     "execution_count": 39,
     "metadata": {},
     "output_type": "execute_result"
    }
   ],
   "source": [
    "sdf.toPandas()"
   ]
  },
  {
   "cell_type": "markdown",
   "metadata": {},
   "source": [
    "<div class=\"alert alert-warning\" role=\"alert\">\n",
    "    When transforming to Pandas it will load the data into memory. Be careful to not load a dataframe too big.\n",
    "</div>"
   ]
  },
  {
   "cell_type": "code",
   "execution_count": 40,
   "metadata": {
    "ExecuteTime": {
     "end_time": "2019-12-21T19:13:48.587398Z",
     "start_time": "2019-12-21T19:13:47.923933Z"
    }
   },
   "outputs": [
    {
     "data": {
      "text/plain": [
       "['Braund, Mr. Owen Harris',\n",
       " 'Cumings, Mrs. John Bradley (Florence Briggs Thayer)',\n",
       " 'Heikkinen, Miss. Laina',\n",
       " 'Futrelle, Mrs. Jacques Heath (Lily May Peel)',\n",
       " 'Allen, Mr. William Henry',\n",
       " 'Moran, Mr. James',\n",
       " 'McCarthy, Mr. Timothy J',\n",
       " 'Palsson, Master. Gosta Leonard',\n",
       " 'Johnson, Mrs. Oscar W (Elisabeth Vilhelmina Berg)',\n",
       " 'Nasser, Mrs. Nicholas (Adele Achem)',\n",
       " 'Sandstrom, Miss. Marguerite Rut',\n",
       " 'Bonnell, Miss. Elizabeth',\n",
       " 'Saundercock, Mr. William Henry',\n",
       " 'Andersson, Mr. Anders Johan',\n",
       " 'Vestrom, Miss. Hulda Amanda Adolfina',\n",
       " 'Hewlett, Mrs. (Mary D Kingcome) ',\n",
       " 'Rice, Master. Eugene',\n",
       " 'Williams, Mr. Charles Eugene',\n",
       " 'Vander Planke, Mrs. Julius (Emelia Maria Vandemoortele)',\n",
       " 'Masselmani, Mrs. Fatima',\n",
       " 'Fynney, Mr. Joseph J',\n",
       " 'Beesley, Mr. Lawrence',\n",
       " '\"McGowan, Miss. Anna \"\"Annie\"\"\"',\n",
       " 'Sloper, Mr. William Thompson',\n",
       " 'Palsson, Miss. Torborg Danira',\n",
       " 'Asplund, Mrs. Carl Oscar (Selma Augusta Emilia Johansson)',\n",
       " 'Emir, Mr. Farred Chehab',\n",
       " 'Fortune, Mr. Charles Alexander',\n",
       " '\"O\\'Dwyer, Miss. Ellen \"\"Nellie\"\"\"',\n",
       " 'Todoroff, Mr. Lalio',\n",
       " 'Uruchurtu, Don. Manuel E',\n",
       " 'Spencer, Mrs. William Augustus (Marie Eugenie)',\n",
       " 'Glynn, Miss. Mary Agatha',\n",
       " 'Wheadon, Mr. Edward H',\n",
       " 'Meyer, Mr. Edgar Joseph',\n",
       " 'Holverson, Mr. Alexander Oskar',\n",
       " 'Mamee, Mr. Hanna',\n",
       " 'Cann, Mr. Ernest Charles',\n",
       " 'Vander Planke, Miss. Augusta Maria',\n",
       " 'Nicola-Yarred, Miss. Jamila',\n",
       " 'Ahlin, Mrs. Johan (Johanna Persdotter Larsson)',\n",
       " 'Turpin, Mrs. William John Robert (Dorothy Ann Wonnacott)',\n",
       " 'Kraeff, Mr. Theodor',\n",
       " 'Laroche, Miss. Simonne Marie Anne Andree',\n",
       " 'Devaney, Miss. Margaret Delia',\n",
       " 'Rogers, Mr. William John',\n",
       " 'Lennon, Mr. Denis',\n",
       " \"O'Driscoll, Miss. Bridget\",\n",
       " 'Samaan, Mr. Youssef',\n",
       " 'Arnold-Franchi, Mrs. Josef (Josefine Franchi)',\n",
       " 'Panula, Master. Juha Niilo',\n",
       " 'Nosworthy, Mr. Richard Cater',\n",
       " 'Harper, Mrs. Henry Sleeper (Myna Haxtun)',\n",
       " 'Faunthorpe, Mrs. Lizzie (Elizabeth Anne Wilkinson)',\n",
       " 'Ostby, Mr. Engelhart Cornelius',\n",
       " 'Woolner, Mr. Hugh',\n",
       " 'Rugg, Miss. Emily',\n",
       " 'Novel, Mr. Mansouer',\n",
       " 'West, Miss. Constance Mirium',\n",
       " 'Goodwin, Master. William Frederick',\n",
       " 'Sirayanian, Mr. Orsen',\n",
       " 'Icard, Miss. Amelie',\n",
       " 'Harris, Mr. Henry Birkhardt',\n",
       " 'Skoog, Master. Harald',\n",
       " 'Stewart, Mr. Albert A',\n",
       " 'Moubarek, Master. Gerios',\n",
       " 'Nye, Mrs. (Elizabeth Ramell)',\n",
       " 'Crease, Mr. Ernest James',\n",
       " 'Andersson, Miss. Erna Alexandra',\n",
       " 'Kink, Mr. Vincenz',\n",
       " 'Jenkin, Mr. Stephen Curnow',\n",
       " 'Goodwin, Miss. Lillian Amy',\n",
       " 'Hood, Mr. Ambrose Jr',\n",
       " 'Chronopoulos, Mr. Apostolos',\n",
       " 'Bing, Mr. Lee',\n",
       " 'Moen, Mr. Sigurd Hansen',\n",
       " 'Staneff, Mr. Ivan',\n",
       " 'Moutal, Mr. Rahamin Haim',\n",
       " 'Caldwell, Master. Alden Gates',\n",
       " 'Dowdell, Miss. Elizabeth',\n",
       " 'Waelens, Mr. Achille',\n",
       " 'Sheerlinck, Mr. Jan Baptist',\n",
       " 'McDermott, Miss. Brigdet Delia',\n",
       " 'Carrau, Mr. Francisco M',\n",
       " 'Ilett, Miss. Bertha',\n",
       " 'Backstrom, Mrs. Karl Alfred (Maria Mathilda Gustafsson)',\n",
       " 'Ford, Mr. William Neal',\n",
       " 'Slocovski, Mr. Selman Francis',\n",
       " 'Fortune, Miss. Mabel Helen',\n",
       " 'Celotti, Mr. Francesco',\n",
       " 'Christmann, Mr. Emil',\n",
       " 'Andreasson, Mr. Paul Edvin',\n",
       " 'Chaffee, Mr. Herbert Fuller',\n",
       " 'Dean, Mr. Bertram Frank',\n",
       " 'Coxon, Mr. Daniel',\n",
       " 'Shorney, Mr. Charles Joseph',\n",
       " 'Goldschmidt, Mr. George B',\n",
       " 'Greenfield, Mr. William Bertram',\n",
       " 'Doling, Mrs. John T (Ada Julia Bone)',\n",
       " 'Kantor, Mr. Sinai',\n",
       " 'Petranec, Miss. Matilda',\n",
       " '\"Petroff, Mr. Pastcho (\"\"Pentcho\"\")\"',\n",
       " 'White, Mr. Richard Frasar',\n",
       " 'Johansson, Mr. Gustaf Joel',\n",
       " 'Gustafsson, Mr. Anders Vilhelm',\n",
       " 'Mionoff, Mr. Stoytcho',\n",
       " 'Salkjelsvik, Miss. Anna Kristine',\n",
       " 'Moss, Mr. Albert Johan',\n",
       " 'Rekic, Mr. Tido',\n",
       " 'Moran, Miss. Bertha',\n",
       " 'Porter, Mr. Walter Chamberlain',\n",
       " 'Zabour, Miss. Hileni',\n",
       " 'Barton, Mr. David John',\n",
       " 'Jussila, Miss. Katriina',\n",
       " 'Attalah, Miss. Malake',\n",
       " 'Pekoniemi, Mr. Edvard',\n",
       " 'Connors, Mr. Patrick',\n",
       " 'Turpin, Mr. William John Robert',\n",
       " 'Baxter, Mr. Quigg Edmond',\n",
       " 'Andersson, Miss. Ellis Anna Maria',\n",
       " 'Hickman, Mr. Stanley George',\n",
       " 'Moore, Mr. Leonard Charles',\n",
       " 'Nasser, Mr. Nicholas',\n",
       " 'Webber, Miss. Susan',\n",
       " 'White, Mr. Percival Wayland',\n",
       " 'Nicola-Yarred, Master. Elias',\n",
       " 'McMahon, Mr. Martin',\n",
       " 'Madsen, Mr. Fridtjof Arne',\n",
       " 'Peter, Miss. Anna',\n",
       " 'Ekstrom, Mr. Johan',\n",
       " 'Drazenoic, Mr. Jozef',\n",
       " 'Coelho, Mr. Domingos Fernandeo',\n",
       " 'Robins, Mrs. Alexander A (Grace Charity Laury)',\n",
       " 'Weisz, Mrs. Leopold (Mathilde Francoise Pede)',\n",
       " 'Sobey, Mr. Samuel James Hayden',\n",
       " 'Richard, Mr. Emile',\n",
       " 'Newsom, Miss. Helen Monypeny',\n",
       " 'Futrelle, Mr. Jacques Heath',\n",
       " 'Osen, Mr. Olaf Elon',\n",
       " 'Giglio, Mr. Victor',\n",
       " 'Boulos, Mrs. Joseph (Sultana)',\n",
       " 'Nysten, Miss. Anna Sofia',\n",
       " 'Hakkarainen, Mrs. Pekka Pietari (Elin Matilda Dolck)',\n",
       " 'Burke, Mr. Jeremiah',\n",
       " 'Andrew, Mr. Edgardo Samuel',\n",
       " 'Nicholls, Mr. Joseph Charles',\n",
       " '\"Andersson, Mr. August Edvard (\"\"Wennerstrom\"\")\"',\n",
       " '\"Ford, Miss. Robina Maggie \"\"Ruby\"\"\"',\n",
       " '\"Navratil, Mr. Michel (\"\"Louis M Hoffman\"\")\"',\n",
       " 'Byles, Rev. Thomas Roussel Davids',\n",
       " 'Bateman, Rev. Robert James',\n",
       " 'Pears, Mrs. Thomas (Edith Wearne)',\n",
       " 'Meo, Mr. Alfonzo',\n",
       " 'van Billiard, Mr. Austin Blyler',\n",
       " 'Olsen, Mr. Ole Martin',\n",
       " 'Williams, Mr. Charles Duane',\n",
       " '\"Gilnagh, Miss. Katherine \"\"Katie\"\"\"',\n",
       " 'Corn, Mr. Harry',\n",
       " 'Smiljanic, Mr. Mile',\n",
       " 'Sage, Master. Thomas Henry',\n",
       " 'Cribb, Mr. John Hatfield',\n",
       " '\"Watt, Mrs. James (Elizabeth \"\"Bessie\"\" Inglis Milne)\"',\n",
       " 'Bengtsson, Mr. John Viktor',\n",
       " 'Calic, Mr. Jovo',\n",
       " 'Panula, Master. Eino Viljami',\n",
       " '\"Goldsmith, Master. Frank John William \"\"Frankie\"\"\"',\n",
       " 'Chibnall, Mrs. (Edith Martha Bowerman)',\n",
       " 'Skoog, Mrs. William (Anna Bernhardina Karlsson)',\n",
       " 'Baumann, Mr. John D',\n",
       " 'Ling, Mr. Lee',\n",
       " 'Van der hoef, Mr. Wyckoff',\n",
       " 'Rice, Master. Arthur',\n",
       " 'Johnson, Miss. Eleanor Ileen',\n",
       " 'Sivola, Mr. Antti Wilhelm',\n",
       " 'Smith, Mr. James Clinch',\n",
       " 'Klasen, Mr. Klas Albin',\n",
       " 'Lefebre, Master. Henry Forbes',\n",
       " 'Isham, Miss. Ann Elizabeth',\n",
       " 'Hale, Mr. Reginald',\n",
       " 'Leonard, Mr. Lionel',\n",
       " 'Sage, Miss. Constance Gladys',\n",
       " 'Pernot, Mr. Rene',\n",
       " 'Asplund, Master. Clarence Gustaf Hugo',\n",
       " 'Becker, Master. Richard F',\n",
       " 'Kink-Heilmann, Miss. Luise Gretchen',\n",
       " 'Rood, Mr. Hugh Roscoe',\n",
       " '\"O\\'Brien, Mrs. Thomas (Johanna \"\"Hannah\"\" Godfrey)\"',\n",
       " '\"Romaine, Mr. Charles Hallace (\"\"Mr C Rolmane\"\")\"',\n",
       " 'Bourke, Mr. John',\n",
       " 'Turcin, Mr. Stjepan',\n",
       " 'Pinsky, Mrs. (Rosa)',\n",
       " 'Carbines, Mr. William',\n",
       " 'Andersen-Jensen, Miss. Carla Christine Nielsine',\n",
       " 'Navratil, Master. Michel M',\n",
       " 'Brown, Mrs. James Joseph (Margaret Tobin)',\n",
       " 'Lurette, Miss. Elise',\n",
       " 'Mernagh, Mr. Robert',\n",
       " 'Olsen, Mr. Karl Siegwart Andreas',\n",
       " '\"Madigan, Miss. Margaret \"\"Maggie\"\"\"',\n",
       " '\"Yrois, Miss. Henriette (\"\"Mrs Harbeck\"\")\"',\n",
       " 'Vande Walle, Mr. Nestor Cyriel',\n",
       " 'Sage, Mr. Frederick',\n",
       " 'Johanson, Mr. Jakob Alfred',\n",
       " 'Youseff, Mr. Gerious',\n",
       " '\"Cohen, Mr. Gurshon \"\"Gus\"\"\"',\n",
       " 'Strom, Miss. Telma Matilda',\n",
       " 'Backstrom, Mr. Karl Alfred',\n",
       " 'Albimona, Mr. Nassef Cassem',\n",
       " '\"Carr, Miss. Helen \"\"Ellen\"\"\"',\n",
       " 'Blank, Mr. Henry',\n",
       " 'Ali, Mr. Ahmed',\n",
       " 'Cameron, Miss. Clear Annie',\n",
       " 'Perkin, Mr. John Henry',\n",
       " 'Givard, Mr. Hans Kristensen',\n",
       " 'Kiernan, Mr. Philip',\n",
       " 'Newell, Miss. Madeleine',\n",
       " 'Honkanen, Miss. Eliina',\n",
       " 'Jacobsohn, Mr. Sidney Samuel',\n",
       " 'Bazzani, Miss. Albina',\n",
       " 'Harris, Mr. Walter',\n",
       " 'Sunderland, Mr. Victor Francis',\n",
       " 'Bracken, Mr. James H',\n",
       " 'Green, Mr. George Henry',\n",
       " 'Nenkoff, Mr. Christo',\n",
       " 'Hoyt, Mr. Frederick Maxfield',\n",
       " 'Berglund, Mr. Karl Ivar Sven',\n",
       " 'Mellors, Mr. William John',\n",
       " '\"Lovell, Mr. John Hall (\"\"Henry\"\")\"',\n",
       " 'Fahlstrom, Mr. Arne Jonas',\n",
       " 'Lefebre, Miss. Mathilde',\n",
       " 'Harris, Mrs. Henry Birkhardt (Irene Wallach)',\n",
       " 'Larsson, Mr. Bengt Edvin',\n",
       " 'Sjostedt, Mr. Ernst Adolf',\n",
       " 'Asplund, Miss. Lillian Gertrud',\n",
       " 'Leyson, Mr. Robert William Norman',\n",
       " 'Harknett, Miss. Alice Phoebe',\n",
       " 'Hold, Mr. Stephen',\n",
       " '\"Collyer, Miss. Marjorie \"\"Lottie\"\"\"',\n",
       " 'Pengelly, Mr. Frederick William',\n",
       " 'Hunt, Mr. George Henry',\n",
       " 'Zabour, Miss. Thamine',\n",
       " '\"Murphy, Miss. Katherine \"\"Kate\"\"\"',\n",
       " 'Coleridge, Mr. Reginald Charles',\n",
       " 'Maenpaa, Mr. Matti Alexanteri',\n",
       " 'Attalah, Mr. Sleiman',\n",
       " 'Minahan, Dr. William Edward',\n",
       " 'Lindahl, Miss. Agda Thorilda Viktoria',\n",
       " 'Hamalainen, Mrs. William (Anna)',\n",
       " 'Beckwith, Mr. Richard Leonard',\n",
       " 'Carter, Rev. Ernest Courtenay',\n",
       " 'Reed, Mr. James George',\n",
       " 'Strom, Mrs. Wilhelm (Elna Matilda Persson)',\n",
       " 'Stead, Mr. William Thomas',\n",
       " 'Lobb, Mr. William Arthur',\n",
       " 'Rosblom, Mrs. Viktor (Helena Wilhelmina)',\n",
       " 'Touma, Mrs. Darwis (Hanne Youssef Razi)',\n",
       " 'Thorne, Mrs. Gertrude Maybelle',\n",
       " 'Cherry, Miss. Gladys',\n",
       " 'Ward, Miss. Anna',\n",
       " 'Parrish, Mrs. (Lutie Davis)',\n",
       " 'Smith, Mr. Thomas',\n",
       " 'Asplund, Master. Edvin Rojj Felix',\n",
       " 'Taussig, Mr. Emil',\n",
       " 'Harrison, Mr. William',\n",
       " 'Henry, Miss. Delia',\n",
       " 'Reeves, Mr. David',\n",
       " 'Panula, Mr. Ernesti Arvid',\n",
       " 'Persson, Mr. Ernst Ulrik',\n",
       " 'Graham, Mrs. William Thompson (Edith Junkins)',\n",
       " 'Bissette, Miss. Amelia',\n",
       " 'Cairns, Mr. Alexander',\n",
       " 'Tornquist, Mr. William Henry',\n",
       " 'Mellinger, Mrs. (Elizabeth Anne Maidment)',\n",
       " 'Natsch, Mr. Charles H',\n",
       " '\"Healy, Miss. Hanora \"\"Nora\"\"\"',\n",
       " 'Andrews, Miss. Kornelia Theodosia',\n",
       " 'Lindblom, Miss. Augusta Charlotta',\n",
       " '\"Parkes, Mr. Francis \"\"Frank\"\"\"',\n",
       " 'Rice, Master. Eric',\n",
       " 'Abbott, Mrs. Stanton (Rosa Hunt)',\n",
       " 'Duane, Mr. Frank',\n",
       " 'Olsson, Mr. Nils Johan Goransson',\n",
       " 'de Pelsmaeker, Mr. Alfons',\n",
       " 'Dorking, Mr. Edward Arthur',\n",
       " 'Smith, Mr. Richard William',\n",
       " 'Stankovic, Mr. Ivan',\n",
       " 'de Mulder, Mr. Theodore',\n",
       " 'Naidenoff, Mr. Penko',\n",
       " 'Hosono, Mr. Masabumi',\n",
       " 'Connolly, Miss. Kate',\n",
       " '\"Barber, Miss. Ellen \"\"Nellie\"\"\"',\n",
       " 'Bishop, Mrs. Dickinson H (Helen Walton)',\n",
       " 'Levy, Mr. Rene Jacques',\n",
       " 'Haas, Miss. Aloisia',\n",
       " 'Mineff, Mr. Ivan',\n",
       " 'Lewy, Mr. Ervin G',\n",
       " 'Hanna, Mr. Mansour',\n",
       " 'Allison, Miss. Helen Loraine',\n",
       " 'Saalfeld, Mr. Adolphe',\n",
       " 'Baxter, Mrs. James (Helene DeLaudeniere Chaput)',\n",
       " '\"Kelly, Miss. Anna Katherine \"\"Annie Kate\"\"\"',\n",
       " 'McCoy, Mr. Bernard',\n",
       " 'Johnson, Mr. William Cahoone Jr',\n",
       " 'Keane, Miss. Nora A',\n",
       " '\"Williams, Mr. Howard Hugh \"\"Harry\"\"\"',\n",
       " 'Allison, Master. Hudson Trevor',\n",
       " 'Fleming, Miss. Margaret',\n",
       " 'Penasco y Castellana, Mrs. Victor de Satode (Maria Josefa Perez de Soto y Vallejo)',\n",
       " 'Abelson, Mr. Samuel',\n",
       " 'Francatelli, Miss. Laura Mabel',\n",
       " 'Hays, Miss. Margaret Bechstein',\n",
       " 'Ryerson, Miss. Emily Borie',\n",
       " 'Lahtinen, Mrs. William (Anna Sylfven)',\n",
       " 'Hendekovic, Mr. Ignjac',\n",
       " 'Hart, Mr. Benjamin',\n",
       " 'Nilsson, Miss. Helmina Josefina',\n",
       " 'Kantor, Mrs. Sinai (Miriam Sternin)',\n",
       " 'Moraweck, Dr. Ernest',\n",
       " 'Wick, Miss. Mary Natalie',\n",
       " 'Spedden, Mrs. Frederic Oakley (Margaretta Corning Stone)',\n",
       " 'Dennis, Mr. Samuel',\n",
       " 'Danoff, Mr. Yoto',\n",
       " 'Slayter, Miss. Hilda Mary',\n",
       " 'Caldwell, Mrs. Albert Francis (Sylvia Mae Harbaugh)',\n",
       " 'Sage, Mr. George John Jr',\n",
       " 'Young, Miss. Marie Grice',\n",
       " 'Nysveen, Mr. Johan Hansen',\n",
       " 'Ball, Mrs. (Ada E Hall)',\n",
       " 'Goldsmith, Mrs. Frank John (Emily Alice Brown)',\n",
       " 'Hippach, Miss. Jean Gertrude',\n",
       " 'McCoy, Miss. Agnes',\n",
       " 'Partner, Mr. Austen',\n",
       " 'Graham, Mr. George Edward',\n",
       " 'Vander Planke, Mr. Leo Edmondus',\n",
       " 'Frauenthal, Mrs. Henry William (Clara Heinsheimer)',\n",
       " 'Denkoff, Mr. Mitto',\n",
       " 'Pears, Mr. Thomas Clinton',\n",
       " 'Burns, Miss. Elizabeth Margaret',\n",
       " 'Dahl, Mr. Karl Edwart',\n",
       " 'Blackwell, Mr. Stephen Weart',\n",
       " 'Navratil, Master. Edmond Roger',\n",
       " 'Fortune, Miss. Alice Elizabeth',\n",
       " 'Collander, Mr. Erik Gustaf',\n",
       " 'Sedgwick, Mr. Charles Frederick Waddington',\n",
       " 'Fox, Mr. Stanley Hubert',\n",
       " '\"Brown, Miss. Amelia \"\"Mildred\"\"\"',\n",
       " 'Smith, Miss. Marion Elsie',\n",
       " 'Davison, Mrs. Thomas Henry (Mary E Finck)',\n",
       " '\"Coutts, Master. William Loch \"\"William\"\"\"',\n",
       " 'Dimic, Mr. Jovan',\n",
       " 'Odahl, Mr. Nils Martin',\n",
       " 'Williams-Lambert, Mr. Fletcher Fellows',\n",
       " 'Elias, Mr. Tannous',\n",
       " 'Arnold-Franchi, Mr. Josef',\n",
       " 'Yousif, Mr. Wazli',\n",
       " 'Vanden Steen, Mr. Leo Peter',\n",
       " 'Bowerman, Miss. Elsie Edith',\n",
       " 'Funk, Miss. Annie Clemmer',\n",
       " 'McGovern, Miss. Mary',\n",
       " '\"Mockler, Miss. Helen Mary \"\"Ellie\"\"\"',\n",
       " 'Skoog, Mr. Wilhelm',\n",
       " 'del Carlo, Mr. Sebastiano',\n",
       " 'Barbara, Mrs. (Catherine David)',\n",
       " 'Asim, Mr. Adola',\n",
       " \"O'Brien, Mr. Thomas\",\n",
       " 'Adahl, Mr. Mauritz Nils Martin',\n",
       " 'Warren, Mrs. Frank Manley (Anna Sophia Atkinson)',\n",
       " 'Moussa, Mrs. (Mantoura Boulos)',\n",
       " 'Jermyn, Miss. Annie',\n",
       " 'Aubart, Mme. Leontine Pauline',\n",
       " 'Harder, Mr. George Achilles',\n",
       " 'Wiklund, Mr. Jakob Alfred',\n",
       " 'Beavan, Mr. William Thomas',\n",
       " 'Ringhini, Mr. Sante',\n",
       " 'Palsson, Miss. Stina Viola',\n",
       " 'Meyer, Mrs. Edgar Joseph (Leila Saks)',\n",
       " 'Landergren, Miss. Aurora Adelia',\n",
       " 'Widener, Mr. Harry Elkins',\n",
       " 'Betros, Mr. Tannous',\n",
       " 'Gustafsson, Mr. Karl Gideon',\n",
       " 'Bidois, Miss. Rosalie',\n",
       " '\"Nakid, Miss. Maria (\"\"Mary\"\")\"',\n",
       " 'Tikkanen, Mr. Juho',\n",
       " 'Holverson, Mrs. Alexander Oskar (Mary Aline Towner)',\n",
       " 'Plotcharsky, Mr. Vasil',\n",
       " 'Davies, Mr. Charles Henry',\n",
       " 'Goodwin, Master. Sidney Leonard',\n",
       " 'Buss, Miss. Kate',\n",
       " 'Sadlier, Mr. Matthew',\n",
       " 'Lehmann, Miss. Bertha',\n",
       " 'Carter, Mr. William Ernest',\n",
       " 'Jansson, Mr. Carl Olof',\n",
       " 'Gustafsson, Mr. Johan Birger',\n",
       " 'Newell, Miss. Marjorie',\n",
       " 'Sandstrom, Mrs. Hjalmar (Agnes Charlotta Bengtsson)',\n",
       " 'Johansson, Mr. Erik',\n",
       " 'Olsson, Miss. Elina',\n",
       " 'McKane, Mr. Peter David',\n",
       " 'Pain, Dr. Alfred',\n",
       " 'Trout, Mrs. William H (Jessie L)',\n",
       " 'Niskanen, Mr. Juha',\n",
       " 'Adams, Mr. John',\n",
       " 'Jussila, Miss. Mari Aina',\n",
       " 'Hakkarainen, Mr. Pekka Pietari',\n",
       " 'Oreskovic, Miss. Marija',\n",
       " 'Gale, Mr. Shadrach',\n",
       " 'Widegren, Mr. Carl/Charles Peter',\n",
       " 'Richards, Master. William Rowe',\n",
       " 'Birkeland, Mr. Hans Martin Monsen',\n",
       " 'Lefebre, Miss. Ida',\n",
       " 'Sdycoff, Mr. Todor',\n",
       " 'Hart, Mr. Henry',\n",
       " 'Minahan, Miss. Daisy E',\n",
       " 'Cunningham, Mr. Alfred Fleming',\n",
       " 'Sundman, Mr. Johan Julian',\n",
       " 'Meek, Mrs. Thomas (Annie Louise Rowley)',\n",
       " 'Drew, Mrs. James Vivian (Lulu Thorne Christian)',\n",
       " 'Silven, Miss. Lyyli Karoliina',\n",
       " 'Matthews, Mr. William John',\n",
       " 'Van Impe, Miss. Catharina',\n",
       " 'Gheorgheff, Mr. Stanio',\n",
       " 'Charters, Mr. David',\n",
       " 'Zimmerman, Mr. Leo',\n",
       " 'Danbom, Mrs. Ernst Gilbert (Anna Sigrid Maria Brogren)',\n",
       " 'Rosblom, Mr. Viktor Richard',\n",
       " 'Wiseman, Mr. Phillippe',\n",
       " 'Clarke, Mrs. Charles V (Ada Maria Winfield)',\n",
       " '\"Phillips, Miss. Kate Florence (\"\"Mrs Kate Louise Phillips Marshall\"\")\"',\n",
       " 'Flynn, Mr. James',\n",
       " 'Pickard, Mr. Berk (Berk Trembisky)',\n",
       " 'Bjornstrom-Steffansson, Mr. Mauritz Hakan',\n",
       " 'Thorneycroft, Mrs. Percival (Florence Kate White)',\n",
       " 'Louch, Mrs. Charles Alexander (Alice Adelaide Slow)',\n",
       " 'Kallio, Mr. Nikolai Erland',\n",
       " 'Silvey, Mr. William Baird',\n",
       " 'Carter, Miss. Lucile Polk',\n",
       " '\"Ford, Miss. Doolina Margaret \"\"Daisy\"\"\"',\n",
       " 'Richards, Mrs. Sidney (Emily Hocking)',\n",
       " 'Fortune, Mr. Mark',\n",
       " 'Kvillner, Mr. Johan Henrik Johannesson',\n",
       " 'Hart, Mrs. Benjamin (Esther Ada Bloomfield)',\n",
       " 'Hampe, Mr. Leon',\n",
       " 'Petterson, Mr. Johan Emil',\n",
       " 'Reynaldo, Ms. Encarnacion',\n",
       " 'Johannesen-Bratthammer, Mr. Bernt',\n",
       " 'Dodge, Master. Washington',\n",
       " 'Mellinger, Miss. Madeleine Violet',\n",
       " 'Seward, Mr. Frederic Kimber',\n",
       " 'Baclini, Miss. Marie Catherine',\n",
       " 'Peuchen, Major. Arthur Godfrey',\n",
       " 'West, Mr. Edwy Arthur',\n",
       " 'Hagland, Mr. Ingvald Olai Olsen',\n",
       " 'Foreman, Mr. Benjamin Laventall',\n",
       " 'Goldenberg, Mr. Samuel L',\n",
       " 'Peduzzi, Mr. Joseph',\n",
       " 'Jalsevac, Mr. Ivan',\n",
       " 'Millet, Mr. Francis Davis',\n",
       " 'Kenyon, Mrs. Frederick R (Marion)',\n",
       " 'Toomey, Miss. Ellen',\n",
       " \"O'Connor, Mr. Maurice\",\n",
       " 'Anderson, Mr. Harry',\n",
       " 'Morley, Mr. William',\n",
       " 'Gee, Mr. Arthur H',\n",
       " 'Milling, Mr. Jacob Christian',\n",
       " 'Maisner, Mr. Simon',\n",
       " 'Goncalves, Mr. Manuel Estanslas',\n",
       " 'Campbell, Mr. William',\n",
       " 'Smart, Mr. John Montgomery',\n",
       " 'Scanlan, Mr. James',\n",
       " 'Baclini, Miss. Helene Barbara',\n",
       " 'Keefe, Mr. Arthur',\n",
       " 'Cacic, Mr. Luka',\n",
       " 'West, Mrs. Edwy Arthur (Ada Mary Worth)',\n",
       " 'Jerwan, Mrs. Amin S (Marie Marthe Thuillard)',\n",
       " 'Strandberg, Miss. Ida Sofia',\n",
       " 'Clifford, Mr. George Quincy',\n",
       " 'Renouf, Mr. Peter Henry',\n",
       " 'Braund, Mr. Lewis Richard',\n",
       " 'Karlsson, Mr. Nils August',\n",
       " 'Hirvonen, Miss. Hildur E',\n",
       " 'Goodwin, Master. Harold Victor',\n",
       " '\"Frost, Mr. Anthony Wood \"\"Archie\"\"\"',\n",
       " 'Rouse, Mr. Richard Henry',\n",
       " 'Turkula, Mrs. (Hedwig)',\n",
       " 'Bishop, Mr. Dickinson H',\n",
       " 'Lefebre, Miss. Jeannie',\n",
       " 'Hoyt, Mrs. Frederick Maxfield (Jane Anne Forby)',\n",
       " 'Kent, Mr. Edward Austin',\n",
       " 'Somerton, Mr. Francis William',\n",
       " '\"Coutts, Master. Eden Leslie \"\"Neville\"\"\"',\n",
       " 'Hagland, Mr. Konrad Mathias Reiersen',\n",
       " 'Windelov, Mr. Einar',\n",
       " 'Molson, Mr. Harry Markland',\n",
       " 'Artagaveytia, Mr. Ramon',\n",
       " 'Stanley, Mr. Edward Roland',\n",
       " 'Yousseff, Mr. Gerious',\n",
       " 'Eustis, Miss. Elizabeth Mussey',\n",
       " 'Shellard, Mr. Frederick William',\n",
       " 'Allison, Mrs. Hudson J C (Bessie Waldo Daniels)',\n",
       " 'Svensson, Mr. Olof',\n",
       " 'Calic, Mr. Petar',\n",
       " 'Canavan, Miss. Mary',\n",
       " \"O'Sullivan, Miss. Bridget Mary\",\n",
       " 'Laitinen, Miss. Kristina Sofia',\n",
       " 'Maioni, Miss. Roberta',\n",
       " 'Penasco y Castellana, Mr. Victor de Satode',\n",
       " 'Quick, Mrs. Frederick Charles (Jane Richards)',\n",
       " '\"Bradley, Mr. George (\"\"George Arthur Brayton\"\")\"',\n",
       " 'Olsen, Mr. Henry Margido',\n",
       " 'Lang, Mr. Fang',\n",
       " 'Daly, Mr. Eugene Patrick',\n",
       " 'Webber, Mr. James',\n",
       " 'McGough, Mr. James Robert',\n",
       " 'Rothschild, Mrs. Martin (Elizabeth L. Barrett)',\n",
       " 'Coleff, Mr. Satio',\n",
       " 'Walker, Mr. William Anderson',\n",
       " 'Lemore, Mrs. (Amelia Milley)',\n",
       " 'Ryan, Mr. Patrick',\n",
       " '\"Angle, Mrs. William A (Florence \"\"Mary\"\" Agnes Hughes)\"',\n",
       " 'Pavlovic, Mr. Stefo',\n",
       " 'Perreault, Miss. Anne',\n",
       " 'Vovk, Mr. Janko',\n",
       " 'Lahoud, Mr. Sarkis',\n",
       " 'Hippach, Mrs. Louis Albert (Ida Sophia Fischer)',\n",
       " 'Kassem, Mr. Fared',\n",
       " 'Farrell, Mr. James',\n",
       " 'Ridsdale, Miss. Lucy',\n",
       " 'Farthing, Mr. John',\n",
       " 'Salonen, Mr. Johan Werner',\n",
       " 'Hocking, Mr. Richard George',\n",
       " 'Quick, Miss. Phyllis May',\n",
       " 'Toufik, Mr. Nakli',\n",
       " 'Elias, Mr. Joseph Jr',\n",
       " 'Peter, Mrs. Catherine (Catherine Rizk)',\n",
       " 'Cacic, Miss. Marija',\n",
       " 'Hart, Miss. Eva Miriam',\n",
       " 'Butt, Major. Archibald Willingham',\n",
       " 'LeRoy, Miss. Bertha',\n",
       " 'Risien, Mr. Samuel Beard',\n",
       " 'Frolicher, Miss. Hedwig Margaritha',\n",
       " 'Crosby, Miss. Harriet R',\n",
       " 'Andersson, Miss. Ingeborg Constanzia',\n",
       " 'Andersson, Miss. Sigrid Elisabeth',\n",
       " 'Beane, Mr. Edward',\n",
       " 'Douglas, Mr. Walter Donald',\n",
       " 'Nicholson, Mr. Arthur Ernest',\n",
       " 'Beane, Mrs. Edward (Ethel Clarke)',\n",
       " 'Padro y Manent, Mr. Julian',\n",
       " 'Goldsmith, Mr. Frank John',\n",
       " 'Davies, Master. John Morgan Jr',\n",
       " 'Thayer, Mr. John Borland Jr',\n",
       " 'Sharp, Mr. Percival James R',\n",
       " \"O'Brien, Mr. Timothy\",\n",
       " '\"Leeni, Mr. Fahim (\"\"Philip Zenni\"\")\"',\n",
       " 'Ohman, Miss. Velin',\n",
       " 'Wright, Mr. George',\n",
       " '\"Duff Gordon, Lady. (Lucille Christiana Sutherland) (\"\"Mrs Morgan\"\")\"',\n",
       " 'Robbins, Mr. Victor',\n",
       " 'Taussig, Mrs. Emil (Tillie Mandelbaum)',\n",
       " 'de Messemaeker, Mrs. Guillaume Joseph (Emma)',\n",
       " 'Morrow, Mr. Thomas Rowan',\n",
       " 'Sivic, Mr. Husein',\n",
       " 'Norman, Mr. Robert Douglas',\n",
       " 'Simmons, Mr. John',\n",
       " 'Meanwell, Miss. (Marion Ogden)',\n",
       " 'Davies, Mr. Alfred J',\n",
       " 'Stoytcheff, Mr. Ilia',\n",
       " 'Palsson, Mrs. Nils (Alma Cornelia Berglund)',\n",
       " 'Doharr, Mr. Tannous',\n",
       " 'Jonsson, Mr. Carl',\n",
       " 'Harris, Mr. George',\n",
       " 'Appleton, Mrs. Edward Dale (Charlotte Lamson)',\n",
       " '\"Flynn, Mr. John Irwin (\"\"Irving\"\")\"',\n",
       " 'Kelly, Miss. Mary',\n",
       " 'Rush, Mr. Alfred George John',\n",
       " 'Patchett, Mr. George',\n",
       " 'Garside, Miss. Ethel',\n",
       " 'Silvey, Mrs. William Baird (Alice Munger)',\n",
       " 'Caram, Mrs. Joseph (Maria Elias)',\n",
       " 'Jussila, Mr. Eiriik',\n",
       " 'Christy, Miss. Julie Rachel',\n",
       " 'Thayer, Mrs. John Borland (Marian Longstreth Morris)',\n",
       " 'Downton, Mr. William James',\n",
       " 'Ross, Mr. John Hugo',\n",
       " 'Paulner, Mr. Uscher',\n",
       " 'Taussig, Miss. Ruth',\n",
       " 'Jarvis, Mr. John Denzil',\n",
       " 'Frolicher-Stehli, Mr. Maxmillian',\n",
       " 'Gilinski, Mr. Eliezer',\n",
       " 'Murdlin, Mr. Joseph',\n",
       " 'Rintamaki, Mr. Matti',\n",
       " 'Stephenson, Mrs. Walter Bertram (Martha Eustis)',\n",
       " 'Elsbury, Mr. William James',\n",
       " 'Bourke, Miss. Mary',\n",
       " 'Chapman, Mr. John Henry',\n",
       " 'Van Impe, Mr. Jean Baptiste',\n",
       " 'Leitch, Miss. Jessie Wills',\n",
       " 'Johnson, Mr. Alfred',\n",
       " 'Boulos, Mr. Hanna',\n",
       " '\"Duff Gordon, Sir. Cosmo Edmund (\"\"Mr Morgan\"\")\"',\n",
       " 'Jacobsohn, Mrs. Sidney Samuel (Amy Frances Christy)',\n",
       " 'Slabenoff, Mr. Petco',\n",
       " 'Harrington, Mr. Charles H',\n",
       " 'Torber, Mr. Ernst William',\n",
       " '\"Homer, Mr. Harry (\"\"Mr E Haven\"\")\"',\n",
       " 'Lindell, Mr. Edvard Bengtsson',\n",
       " 'Karaic, Mr. Milan',\n",
       " 'Daniel, Mr. Robert Williams',\n",
       " 'Laroche, Mrs. Joseph (Juliette Marie Louise Lafargue)',\n",
       " 'Shutes, Miss. Elizabeth W',\n",
       " 'Andersson, Mrs. Anders Johan (Alfrida Konstantia Brogren)',\n",
       " 'Jardin, Mr. Jose Neto',\n",
       " 'Murphy, Miss. Margaret Jane',\n",
       " 'Horgan, Mr. John',\n",
       " 'Brocklebank, Mr. William Alfred',\n",
       " 'Herman, Miss. Alice',\n",
       " 'Danbom, Mr. Ernst Gilbert',\n",
       " 'Lobb, Mrs. William Arthur (Cordelia K Stanlick)',\n",
       " 'Becker, Miss. Marion Louise',\n",
       " 'Gavey, Mr. Lawrence',\n",
       " 'Yasbeck, Mr. Antoni',\n",
       " 'Kimball, Mr. Edwin Nelson Jr',\n",
       " 'Nakid, Mr. Sahid',\n",
       " 'Hansen, Mr. Henry Damsgaard',\n",
       " '\"Bowen, Mr. David John \"\"Dai\"\"\"',\n",
       " 'Sutton, Mr. Frederick',\n",
       " 'Kirkland, Rev. Charles Leonard',\n",
       " 'Longley, Miss. Gretchen Fiske',\n",
       " 'Bostandyeff, Mr. Guentcho',\n",
       " \"O'Connell, Mr. Patrick D\",\n",
       " 'Barkworth, Mr. Algernon Henry Wilson',\n",
       " 'Lundahl, Mr. Johan Svensson',\n",
       " 'Stahelin-Maeglin, Dr. Max',\n",
       " 'Parr, Mr. William Henry Marsh',\n",
       " 'Skoog, Miss. Mabel',\n",
       " 'Davis, Miss. Mary',\n",
       " 'Leinonen, Mr. Antti Gustaf',\n",
       " 'Collyer, Mr. Harvey',\n",
       " 'Panula, Mrs. Juha (Maria Emilia Ojala)',\n",
       " 'Thorneycroft, Mr. Percival',\n",
       " 'Jensen, Mr. Hans Peder',\n",
       " 'Sagesser, Mlle. Emma',\n",
       " 'Skoog, Miss. Margit Elizabeth',\n",
       " 'Foo, Mr. Choong',\n",
       " 'Baclini, Miss. Eugenie',\n",
       " 'Harper, Mr. Henry Sleeper',\n",
       " 'Cor, Mr. Liudevit',\n",
       " 'Simonius-Blumer, Col. Oberst Alfons',\n",
       " 'Willey, Mr. Edward',\n",
       " 'Stanley, Miss. Amy Zillah Elsie',\n",
       " 'Mitkoff, Mr. Mito',\n",
       " 'Doling, Miss. Elsie',\n",
       " 'Kalvik, Mr. Johannes Halvorsen',\n",
       " '\"O\\'Leary, Miss. Hanora \"\"Norah\"\"\"',\n",
       " '\"Hegarty, Miss. Hanora \"\"Nora\"\"\"',\n",
       " 'Hickman, Mr. Leonard Mark',\n",
       " 'Radeff, Mr. Alexander',\n",
       " 'Bourke, Mrs. John (Catherine)',\n",
       " 'Eitemiller, Mr. George Floyd',\n",
       " 'Newell, Mr. Arthur Webster',\n",
       " 'Frauenthal, Dr. Henry William',\n",
       " 'Badt, Mr. Mohamed',\n",
       " 'Colley, Mr. Edward Pomeroy',\n",
       " 'Coleff, Mr. Peju',\n",
       " 'Lindqvist, Mr. Eino William',\n",
       " 'Hickman, Mr. Lewis',\n",
       " 'Butler, Mr. Reginald Fenton',\n",
       " 'Rommetvedt, Mr. Knud Paust',\n",
       " 'Cook, Mr. Jacob',\n",
       " 'Taylor, Mrs. Elmer Zebley (Juliet Cummins Wright)',\n",
       " 'Brown, Mrs. Thomas William Solomon (Elizabeth Catherine Ford)',\n",
       " 'Davidson, Mr. Thornton',\n",
       " 'Mitchell, Mr. Henry Michael',\n",
       " 'Wilhelms, Mr. Charles',\n",
       " 'Watson, Mr. Ennis Hastings',\n",
       " 'Edvardsson, Mr. Gustaf Hjalmar',\n",
       " 'Sawyer, Mr. Frederick Charles',\n",
       " 'Turja, Miss. Anna Sofia',\n",
       " 'Goodwin, Mrs. Frederick (Augusta Tyler)',\n",
       " 'Cardeza, Mr. Thomas Drake Martinez',\n",
       " 'Peters, Miss. Katie',\n",
       " 'Hassab, Mr. Hammad',\n",
       " 'Olsvigen, Mr. Thor Anderson',\n",
       " 'Goodwin, Mr. Charles Edward',\n",
       " 'Brown, Mr. Thomas William Solomon',\n",
       " 'Laroche, Mr. Joseph Philippe Lemercier',\n",
       " 'Panula, Mr. Jaako Arnold',\n",
       " 'Dakic, Mr. Branko',\n",
       " 'Fischer, Mr. Eberhard Thelander',\n",
       " 'Madill, Miss. Georgette Alexandra',\n",
       " 'Dick, Mr. Albert Adrian',\n",
       " 'Karun, Miss. Manca',\n",
       " 'Lam, Mr. Ali',\n",
       " 'Saad, Mr. Khalil',\n",
       " 'Weir, Col. John',\n",
       " 'Chapman, Mr. Charles Henry',\n",
       " 'Kelly, Mr. James',\n",
       " '\"Mullens, Miss. Katherine \"\"Katie\"\"\"',\n",
       " 'Thayer, Mr. John Borland',\n",
       " 'Humblen, Mr. Adolf Mathias Nicolai Olsen',\n",
       " 'Astor, Mrs. John Jacob (Madeleine Talmadge Force)',\n",
       " 'Silverthorne, Mr. Spencer Victor',\n",
       " 'Barbara, Miss. Saiide',\n",
       " 'Gallagher, Mr. Martin',\n",
       " 'Hansen, Mr. Henrik Juul',\n",
       " '\"Morley, Mr. Henry Samuel (\"\"Mr Henry Marshall\"\")\"',\n",
       " '\"Kelly, Mrs. Florence \"\"Fannie\"\"\"',\n",
       " 'Calderhead, Mr. Edward Pennington',\n",
       " 'Cleaver, Miss. Alice',\n",
       " '\"Moubarek, Master. Halim Gonios (\"\"William George\"\")\"',\n",
       " '\"Mayne, Mlle. Berthe Antonine (\"\"Mrs de Villiers\"\")\"',\n",
       " 'Klaber, Mr. Herman',\n",
       " 'Taylor, Mr. Elmer Zebley',\n",
       " 'Larsson, Mr. August Viktor',\n",
       " 'Greenberg, Mr. Samuel',\n",
       " 'Soholt, Mr. Peter Andreas Lauritz Andersen',\n",
       " 'Endres, Miss. Caroline Louise',\n",
       " '\"Troutt, Miss. Edwina Celia \"\"Winnie\"\"\"',\n",
       " 'McEvoy, Mr. Michael',\n",
       " 'Johnson, Mr. Malkolm Joackim',\n",
       " '\"Harper, Miss. Annie Jessie \"\"Nina\"\"\"',\n",
       " 'Jensen, Mr. Svend Lauritz',\n",
       " 'Gillespie, Mr. William Henry',\n",
       " 'Hodges, Mr. Henry Price',\n",
       " 'Chambers, Mr. Norman Campbell',\n",
       " 'Oreskovic, Mr. Luka',\n",
       " 'Renouf, Mrs. Peter Henry (Lillian Jefferys)',\n",
       " 'Mannion, Miss. Margareth',\n",
       " 'Bryhl, Mr. Kurt Arnold Gottfrid',\n",
       " 'Ilmakangas, Miss. Pieta Sofia',\n",
       " 'Allen, Miss. Elisabeth Walton',\n",
       " 'Hassan, Mr. Houssein G N',\n",
       " 'Knight, Mr. Robert J',\n",
       " 'Berriman, Mr. William John',\n",
       " 'Troupiansky, Mr. Moses Aaron',\n",
       " 'Williams, Mr. Leslie',\n",
       " 'Ford, Mrs. Edward (Margaret Ann Watson)',\n",
       " 'Lesurer, Mr. Gustave J',\n",
       " 'Ivanoff, Mr. Kanio',\n",
       " 'Nankoff, Mr. Minko',\n",
       " 'Hawksford, Mr. Walter James',\n",
       " 'Cavendish, Mr. Tyrell William',\n",
       " '\"Ryerson, Miss. Susan Parker \"\"Suzette\"\"\"',\n",
       " 'McNamee, Mr. Neal',\n",
       " 'Stranden, Mr. Juho',\n",
       " 'Crosby, Capt. Edward Gifford',\n",
       " 'Abbott, Mr. Rossmore Edward',\n",
       " 'Sinkkonen, Miss. Anna',\n",
       " 'Marvin, Mr. Daniel Warner',\n",
       " 'Connaghton, Mr. Michael',\n",
       " 'Wells, Miss. Joan',\n",
       " 'Moor, Master. Meier',\n",
       " 'Vande Velde, Mr. Johannes Joseph',\n",
       " 'Jonkoff, Mr. Lalio',\n",
       " 'Herman, Mrs. Samuel (Jane Laver)',\n",
       " 'Hamalainen, Master. Viljo',\n",
       " 'Carlsson, Mr. August Sigfrid',\n",
       " 'Bailey, Mr. Percy Andrew',\n",
       " 'Theobald, Mr. Thomas Leonard',\n",
       " 'Rothes, the Countess. of (Lucy Noel Martha Dyer-Edwards)',\n",
       " 'Garfirth, Mr. John',\n",
       " 'Nirva, Mr. Iisakki Antino Aijo',\n",
       " 'Barah, Mr. Hanna Assi',\n",
       " 'Carter, Mrs. William Ernest (Lucile Polk)',\n",
       " 'Eklund, Mr. Hans Linus',\n",
       " 'Hogeboom, Mrs. John C (Anna Andrews)',\n",
       " 'Brewe, Dr. Arthur Jackson',\n",
       " 'Mangan, Miss. Mary',\n",
       " 'Moran, Mr. Daniel J',\n",
       " 'Gronnestad, Mr. Daniel Danielsen',\n",
       " 'Lievens, Mr. Rene Aime',\n",
       " 'Jensen, Mr. Niels Peder',\n",
       " 'Mack, Mrs. (Mary)',\n",
       " 'Elias, Mr. Dibo',\n",
       " 'Hocking, Mrs. Elizabeth (Eliza Needs)',\n",
       " 'Myhrman, Mr. Pehr Fabian Oliver Malkolm',\n",
       " 'Tobin, Mr. Roger',\n",
       " 'Emanuel, Miss. Virginia Ethel',\n",
       " 'Kilgannon, Mr. Thomas J',\n",
       " 'Robert, Mrs. Edward Scott (Elisabeth Walton McMillan)',\n",
       " 'Ayoub, Miss. Banoura',\n",
       " 'Dick, Mrs. Albert Adrian (Vera Gillespie)',\n",
       " 'Long, Mr. Milton Clyde',\n",
       " 'Johnston, Mr. Andrew G',\n",
       " 'Ali, Mr. William',\n",
       " 'Harmer, Mr. Abraham (David Lishin)',\n",
       " 'Sjoblom, Miss. Anna Sofia',\n",
       " 'Rice, Master. George Hugh',\n",
       " 'Dean, Master. Bertram Vere',\n",
       " 'Guggenheim, Mr. Benjamin',\n",
       " '\"Keane, Mr. Andrew \"\"Andy\"\"\"',\n",
       " 'Gaskell, Mr. Alfred',\n",
       " 'Sage, Miss. Stella Anna',\n",
       " 'Hoyt, Mr. William Fisher',\n",
       " 'Dantcheff, Mr. Ristiu',\n",
       " 'Otter, Mr. Richard',\n",
       " 'Leader, Dr. Alice (Farnham)',\n",
       " 'Osman, Mrs. Mara',\n",
       " 'Ibrahim Shawah, Mr. Yousseff',\n",
       " 'Van Impe, Mrs. Jean Baptiste (Rosalie Paula Govaert)',\n",
       " 'Ponesell, Mr. Martin',\n",
       " 'Collyer, Mrs. Harvey (Charlotte Annie Tate)',\n",
       " 'Carter, Master. William Thornton II',\n",
       " 'Thomas, Master. Assad Alexander',\n",
       " 'Hedman, Mr. Oskar Arvid',\n",
       " 'Johansson, Mr. Karl Johan',\n",
       " 'Andrews, Mr. Thomas Jr',\n",
       " 'Pettersson, Miss. Ellen Natalia',\n",
       " 'Meyer, Mr. August',\n",
       " 'Chambers, Mrs. Norman Campbell (Bertha Griggs)',\n",
       " 'Alexander, Mr. William',\n",
       " 'Lester, Mr. James',\n",
       " 'Slemen, Mr. Richard James',\n",
       " 'Andersson, Miss. Ebba Iris Alfrida',\n",
       " 'Tomlin, Mr. Ernest Portage',\n",
       " 'Fry, Mr. Richard',\n",
       " 'Heininen, Miss. Wendla Maria',\n",
       " 'Mallet, Mr. Albert',\n",
       " 'Holm, Mr. John Fredrik Alexander',\n",
       " 'Skoog, Master. Karl Thorsten',\n",
       " 'Hays, Mrs. Charles Melville (Clara Jennings Gregg)',\n",
       " 'Lulic, Mr. Nikola',\n",
       " 'Reuchlin, Jonkheer. John George',\n",
       " 'Moor, Mrs. (Beila)',\n",
       " 'Panula, Master. Urho Abraham',\n",
       " 'Flynn, Mr. John',\n",
       " 'Lam, Mr. Len',\n",
       " 'Mallet, Master. Andre',\n",
       " 'McCormack, Mr. Thomas Joseph',\n",
       " 'Stone, Mrs. George Nelson (Martha Evelyn)',\n",
       " 'Yasbeck, Mrs. Antoni (Selini Alexander)',\n",
       " 'Richards, Master. George Sibley',\n",
       " 'Saad, Mr. Amin',\n",
       " 'Augustsson, Mr. Albert',\n",
       " 'Allum, Mr. Owen George',\n",
       " 'Compton, Miss. Sara Rebecca',\n",
       " 'Pasic, Mr. Jakob',\n",
       " 'Sirota, Mr. Maurice',\n",
       " 'Chip, Mr. Chang',\n",
       " 'Marechal, Mr. Pierre',\n",
       " 'Alhomaki, Mr. Ilmari Rudolf',\n",
       " 'Mudd, Mr. Thomas Charles',\n",
       " 'Serepeca, Miss. Augusta',\n",
       " 'Lemberopolous, Mr. Peter L',\n",
       " 'Culumovic, Mr. Jeso',\n",
       " 'Abbing, Mr. Anthony',\n",
       " 'Sage, Mr. Douglas Bullen',\n",
       " 'Markoff, Mr. Marin',\n",
       " 'Harper, Rev. John',\n",
       " 'Goldenberg, Mrs. Samuel L (Edwiga Grabowska)',\n",
       " 'Andersson, Master. Sigvard Harald Elias',\n",
       " 'Svensson, Mr. Johan',\n",
       " 'Boulos, Miss. Nourelain',\n",
       " 'Lines, Miss. Mary Conover',\n",
       " 'Carter, Mrs. Ernest Courtenay (Lilian Hughes)',\n",
       " 'Aks, Mrs. Sam (Leah Rosen)',\n",
       " 'Wick, Mrs. George Dennick (Mary Hitchcock)',\n",
       " 'Daly, Mr. Peter Denis ',\n",
       " 'Baclini, Mrs. Solomon (Latifa Qurban)',\n",
       " 'Razi, Mr. Raihed',\n",
       " 'Hansen, Mr. Claus Peter',\n",
       " 'Giles, Mr. Frederick Edward',\n",
       " 'Swift, Mrs. Frederick Joel (Margaret Welles Barron)',\n",
       " '\"Sage, Miss. Dorothy Edith \"\"Dolly\"\"\"',\n",
       " 'Gill, Mr. John William',\n",
       " 'Bystrom, Mrs. (Karolina)',\n",
       " 'Duran y More, Miss. Asuncion',\n",
       " 'Roebling, Mr. Washington Augustus II',\n",
       " 'van Melkebeke, Mr. Philemon',\n",
       " 'Johnson, Master. Harold Theodor',\n",
       " 'Balkic, Mr. Cerin',\n",
       " 'Beckwith, Mrs. Richard Leonard (Sallie Monypeny)',\n",
       " 'Carlsson, Mr. Frans Olof',\n",
       " 'Vander Cruyssen, Mr. Victor',\n",
       " 'Abelson, Mrs. Samuel (Hannah Wizosky)',\n",
       " '\"Najib, Miss. Adele Kiamie \"\"Jane\"\"\"',\n",
       " 'Gustafsson, Mr. Alfred Ossian',\n",
       " 'Petroff, Mr. Nedelio',\n",
       " 'Laleff, Mr. Kristo',\n",
       " 'Potter, Mrs. Thomas Jr (Lily Alexenia Wilson)',\n",
       " 'Shelley, Mrs. William (Imanita Parrish Hall)',\n",
       " 'Markun, Mr. Johann',\n",
       " 'Dahlberg, Miss. Gerda Ulrika',\n",
       " 'Banfield, Mr. Frederick James',\n",
       " 'Sutehall, Mr. Henry Jr',\n",
       " 'Rice, Mrs. William (Margaret Norton)',\n",
       " 'Montvila, Rev. Juozas',\n",
       " 'Graham, Miss. Margaret Edith',\n",
       " '\"Johnston, Miss. Catherine Helen \"\"Carrie\"\"\"',\n",
       " 'Behr, Mr. Karl Howell',\n",
       " 'Dooley, Mr. Patrick']"
      ]
     },
     "execution_count": 40,
     "metadata": {},
     "output_type": "execute_result"
    }
   ],
   "source": [
    "sdf.select(\"Name\").rdd.flatMap(lambda x: x).collect()"
   ]
  },
  {
   "cell_type": "code",
   "execution_count": 41,
   "metadata": {
    "ExecuteTime": {
     "end_time": "2019-12-21T19:13:48.769332Z",
     "start_time": "2019-12-21T19:13:48.589390Z"
    }
   },
   "outputs": [
    {
     "data": {
      "text/plain": [
       "80"
      ]
     },
     "execution_count": 41,
     "metadata": {},
     "output_type": "execute_result"
    }
   ],
   "source": [
    "sdf.agg({\"Age\": \"max\"}).collect()[0][0]"
   ]
  },
  {
   "cell_type": "code",
   "execution_count": null,
   "metadata": {},
   "outputs": [],
   "source": []
  }
 ],
 "metadata": {
  "kernelspec": {
   "display_name": "Python 3",
   "language": "python",
   "name": "python3"
  },
  "language_info": {
   "codemirror_mode": {
    "name": "ipython",
    "version": 3
   },
   "file_extension": ".py",
   "mimetype": "text/x-python",
   "name": "python",
   "nbconvert_exporter": "python",
   "pygments_lexer": "ipython3",
   "version": "3.7.3"
  }
 },
 "nbformat": 4,
 "nbformat_minor": 2
}
