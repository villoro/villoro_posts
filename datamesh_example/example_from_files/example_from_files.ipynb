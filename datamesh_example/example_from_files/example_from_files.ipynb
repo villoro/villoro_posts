{
 "cells": [
  {
   "cell_type": "code",
   "execution_count": 1,
   "metadata": {
    "ExecuteTime": {
     "end_time": "2021-11-25T11:14:48.101043Z",
     "start_time": "2021-11-25T11:14:47.285771Z"
    }
   },
   "outputs": [],
   "source": [
    "from datetime import date\n",
    "\n",
    "from create_data import recreate_databases, create_tables\n",
    "from jobs.order_created import do\n",
    "from utils import get_spark_session"
   ]
  },
  {
   "cell_type": "code",
   "execution_count": 2,
   "metadata": {
    "ExecuteTime": {
     "end_time": "2021-11-25T11:15:05.252112Z",
     "start_time": "2021-11-25T11:14:48.105045Z"
    }
   },
   "outputs": [
    {
     "name": "stderr",
     "output_type": "stream",
     "text": [
      "2021-11-25 12:14:48.107 | INFO     | utils:get_spark_session:7 - Creating Spark Session\n"
     ]
    }
   ],
   "source": [
    "spark = get_spark_session()"
   ]
  },
  {
   "cell_type": "code",
   "execution_count": 3,
   "metadata": {
    "ExecuteTime": {
     "end_time": "2021-11-25T11:15:11.148380Z",
     "start_time": "2021-11-25T11:15:05.257115Z"
    }
   },
   "outputs": [
    {
     "name": "stderr",
     "output_type": "stream",
     "text": [
      "2021-11-25 12:15:05.259 | INFO     | create_data:recreate_databases:28 - Removing spark warehouse (path = 'spark-warehouse')\n",
      "2021-11-25 12:15:05.321 | INFO     | create_data:recreate_databases:32 - Creating database 'standardized_glovo_live'\n",
      "2021-11-25 12:15:10.785 | INFO     | create_data:recreate_databases:32 - Creating database 'mpcustomer_custom_events'\n",
      "2021-11-25 12:15:10.891 | INFO     | create_data:recreate_databases:32 - Creating database 'mpcustomer_screen_views'\n",
      "2021-11-25 12:15:10.982 | INFO     | create_data:recreate_databases:32 - Creating database 'enriched_custom_events'\n",
      "2021-11-25 12:15:11.054 | INFO     | create_data:recreate_databases:32 - Creating database 'enriched_screen_views'\n"
     ]
    }
   ],
   "source": [
    "recreate_databases(spark)"
   ]
  },
  {
   "cell_type": "code",
   "execution_count": 4,
   "metadata": {
    "ExecuteTime": {
     "end_time": "2021-11-25T11:15:46.723364Z",
     "start_time": "2021-11-25T11:15:11.157379Z"
    }
   },
   "outputs": [
    {
     "name": "stderr",
     "output_type": "stream",
     "text": [
      "2021-11-25 12:15:11.160 | INFO     | create_data:create_table:63 - Creating table 'standardized_glovo_live.cities'\n",
      "2021-11-25 12:15:25.504 | INFO     | create_data:create_table:63 - Creating table 'standardized_glovo_live.devices'\n",
      "2021-11-25 12:15:35.307 | INFO     | create_data:create_table:63 - Creating table 'mpcustomer_custom_events.order_created'\n"
     ]
    }
   ],
   "source": [
    "create_tables(spark)"
   ]
  },
  {
   "cell_type": "code",
   "execution_count": 5,
   "metadata": {
    "ExecuteTime": {
     "end_time": "2021-11-25T11:15:51.551864Z",
     "start_time": "2021-11-25T11:15:46.728367Z"
    }
   },
   "outputs": [
    {
     "name": "stderr",
     "output_type": "stream",
     "text": [
      "2021-11-25 12:15:46.732 | INFO     | loaders:load:30 - Loading 'mpcustomer_custom_events.order_created'\n",
      "2021-11-25 12:15:47.240 | INFO     | loaders:load:30 - Loading 'standardized_glovo_live.cities'\n",
      "2021-11-25 12:15:47.495 | INFO     | transformations.interfaces:_apply:13 - Applying transformation 'AddTimezone'\n",
      "2021-11-25 12:15:47.566 | INFO     | writers:write:23 - Writting 'enriched_custom_events.order_created'\n"
     ]
    }
   ],
   "source": [
    "do(spark, exec_date=date(2021, 11, 19), n_days=3)"
   ]
  },
  {
   "cell_type": "markdown",
   "metadata": {},
   "source": [
    "# Show input"
   ]
  },
  {
   "cell_type": "code",
   "execution_count": 6,
   "metadata": {
    "ExecuteTime": {
     "end_time": "2021-11-25T11:16:24.386584Z",
     "start_time": "2021-11-25T11:16:24.004326Z"
    }
   },
   "outputs": [
    {
     "name": "stdout",
     "output_type": "stream",
     "text": [
      "+-----------------------+---------------+\n",
      "|custom_attributes__city|p_creation_date|\n",
      "+-----------------------+---------------+\n",
      "|                    BCN|     2021-11-19|\n",
      "|                    BCN|     2021-11-18|\n",
      "|                    CAG|     2021-11-17|\n",
      "|                    CAG|     2021-11-01|\n",
      "+-----------------------+---------------+\n",
      "\n"
     ]
    }
   ],
   "source": [
    "spark.table(\"mpcustomer_custom_events.order_created\").show()"
   ]
  },
  {
   "cell_type": "markdown",
   "metadata": {},
   "source": [
    "# Show outputs"
   ]
  },
  {
   "cell_type": "code",
   "execution_count": 7,
   "metadata": {
    "ExecuteTime": {
     "end_time": "2021-11-25T11:16:25.414818Z",
     "start_time": "2021-11-25T11:16:24.841197Z"
    }
   },
   "outputs": [
    {
     "name": "stdout",
     "output_type": "stream",
     "text": [
      "+-----------------------+---------------+-------------+------------+\n",
      "|custom_attributes__city|p_creation_date|    time_zone|country_code|\n",
      "+-----------------------+---------------+-------------+------------+\n",
      "|                    BCN|     2021-11-19|Europe/Madrid|          ES|\n",
      "|                    BCN|     2021-11-18|Europe/Madrid|          ES|\n",
      "|                    CAG|     2021-11-17|  Europe/Rome|          IT|\n",
      "+-----------------------+---------------+-------------+------------+\n",
      "\n"
     ]
    }
   ],
   "source": [
    "spark.table(\"enriched_custom_events.order_created\").show()"
   ]
  },
  {
   "cell_type": "code",
   "execution_count": null,
   "metadata": {},
   "outputs": [],
   "source": []
  }
 ],
 "metadata": {
  "kernelspec": {
   "display_name": "Python 3",
   "language": "python",
   "name": "python3"
  },
  "language_info": {
   "codemirror_mode": {
    "name": "ipython",
    "version": 3
   },
   "file_extension": ".py",
   "mimetype": "text/x-python",
   "name": "python",
   "nbconvert_exporter": "python",
   "pygments_lexer": "ipython3",
   "version": "3.7.6"
  }
 },
 "nbformat": 4,
 "nbformat_minor": 4
}
